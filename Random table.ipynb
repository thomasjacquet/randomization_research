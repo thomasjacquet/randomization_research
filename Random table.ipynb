{
 "cells": [
  {
   "cell_type": "code",
   "execution_count": 21,
   "metadata": {
    "ExecuteTime": {
     "end_time": "2021-08-01T14:51:53.284876Z",
     "start_time": "2021-08-01T14:51:53.266314Z"
    }
   },
   "outputs": [
    {
     "ename": "TypeError",
     "evalue": "unsupported operand type(s) for +: 'int' and 'str'",
     "output_type": "error",
     "traceback": [
      "\u001b[1;31m---------------------------------------------------------------------------\u001b[0m",
      "\u001b[1;31mTypeError\u001b[0m                                 Traceback (most recent call last)",
      "\u001b[1;32m<ipython-input-21-d890951ed29d>\u001b[0m in \u001b[0;36m<module>\u001b[1;34m\u001b[0m\n\u001b[0;32m     11\u001b[0m \u001b[1;33m\u001b[0m\u001b[0m\n\u001b[0;32m     12\u001b[0m \u001b[1;33m\u001b[0m\u001b[0m\n\u001b[1;32m---> 13\u001b[1;33m \u001b[0msum_digits\u001b[0m\u001b[1;33m(\u001b[0m\u001b[0mlist_n\u001b[0m\u001b[1;33m)\u001b[0m\u001b[1;33m\u001b[0m\u001b[1;33m\u001b[0m\u001b[0m\n\u001b[0m",
      "\u001b[1;32m<ipython-input-21-d890951ed29d>\u001b[0m in \u001b[0;36msum_digits\u001b[1;34m(n)\u001b[0m\n\u001b[0;32m      6\u001b[0m             \u001b[1;32mreturn\u001b[0m \u001b[0msum\u001b[0m\u001b[1;33m(\u001b[0m\u001b[0mn\u001b[0m\u001b[1;33m)\u001b[0m\u001b[1;33m\u001b[0m\u001b[1;33m\u001b[0m\u001b[0m\n\u001b[0;32m      7\u001b[0m         \u001b[1;32melif\u001b[0m \u001b[0mtype\u001b[0m\u001b[1;33m(\u001b[0m\u001b[0mn\u001b[0m\u001b[1;33m[\u001b[0m\u001b[0mi\u001b[0m\u001b[1;33m]\u001b[0m\u001b[1;33m)\u001b[0m \u001b[1;33m==\u001b[0m \u001b[0mint\u001b[0m\u001b[1;33m:\u001b[0m\u001b[1;33m\u001b[0m\u001b[1;33m\u001b[0m\u001b[0m\n\u001b[1;32m----> 8\u001b[1;33m             \u001b[1;32mreturn\u001b[0m \u001b[0msum\u001b[0m\u001b[1;33m(\u001b[0m\u001b[0mn\u001b[0m\u001b[1;33m)\u001b[0m\u001b[1;33m\u001b[0m\u001b[1;33m\u001b[0m\u001b[0m\n\u001b[0m\u001b[0;32m      9\u001b[0m         \u001b[1;32melse\u001b[0m\u001b[1;33m:\u001b[0m\u001b[1;33m\u001b[0m\u001b[1;33m\u001b[0m\u001b[0m\n\u001b[0;32m     10\u001b[0m             \u001b[1;32mcontinue\u001b[0m\u001b[1;33m\u001b[0m\u001b[1;33m\u001b[0m\u001b[0m\n",
      "\u001b[1;31mTypeError\u001b[0m: unsupported operand type(s) for +: 'int' and 'str'"
     ]
    }
   ],
   "source": [
    "import pandas as pd"
   ]
  },
  {
   "cell_type": "code",
   "execution_count": 74,
   "metadata": {
    "ExecuteTime": {
     "end_time": "2021-08-01T15:28:17.344053Z",
     "start_time": "2021-08-01T15:28:17.331088Z"
    }
   },
   "outputs": [
    {
     "name": "stdout",
     "output_type": "stream",
     "text": [
      "{'A': [5], 'B': [32], 'C': [29], 'D': [8], 'E': [8], 'F': [27], 'G': [32], 'H': [44], 'I': [43], 'J': [44]}\n",
      "\n",
      ">>> Highest 3 keys: ['H', 'J', 'I']\n"
     ]
    }
   ],
   "source": [
    "from random import randint\n",
    "\n",
    "random_dict = {'A': [],'B': [],'C': [],'D':[],'E':[],'F': [],'G': [],'G': [],'H':[],'I':[],'J':[]}\n",
    "\n",
    "random_total\n",
    "\n",
    "\n",
    "\n",
    "def fillrandomvalues(x):\n",
    "    for i in x.keys():\n",
    "        x[i].append(randint(1,100))\n",
    "\n",
    "fillrandomvalues(random_dict)\n",
    "\n",
    "def HighestKey(x):\n",
    "    return sorted(x, key=x.get, reverse=True)[:3]\n",
    "\n",
    "print(random_dict)\n",
    "print('\\n>>> Highest 3 keys:', HighestKey(random_dict))"
   ]
  },
  {
   "cell_type": "code",
   "execution_count": 687,
   "metadata": {
    "ExecuteTime": {
     "end_time": "2021-08-04T11:50:08.736040Z",
     "start_time": "2021-08-04T11:50:08.717096Z"
    }
   },
   "outputs": [
    {
     "data": {
      "text/plain": [
       "{'A': [4], 'B': [9], 'C': [4]}"
      ]
     },
     "execution_count": 687,
     "metadata": {},
     "output_type": "execute_result"
    }
   ],
   "source": [
    "dict_neema = {'A': [],'B': [],'C': []}\n",
    "\n",
    "def fillrandomvalues(x):\n",
    "    for i in x.keys():\n",
    "        x[i].append(randint(1,10))\n",
    "fillrandomvalues(dict_neema)\n",
    "dict_neema\n",
    "\n",
    "\n",
    "df"
   ]
  },
  {
   "cell_type": "code",
   "execution_count": 711,
   "metadata": {
    "ExecuteTime": {
     "end_time": "2021-08-04T12:09:01.574891Z",
     "start_time": "2021-08-04T12:09:01.537474Z"
    }
   },
   "outputs": [
    {
     "data": {
      "text/html": [
       "<div>\n",
       "<style scoped>\n",
       "    .dataframe tbody tr th:only-of-type {\n",
       "        vertical-align: middle;\n",
       "    }\n",
       "\n",
       "    .dataframe tbody tr th {\n",
       "        vertical-align: top;\n",
       "    }\n",
       "\n",
       "    .dataframe thead th {\n",
       "        text-align: right;\n",
       "    }\n",
       "</style>\n",
       "<table border=\"1\" class=\"dataframe\">\n",
       "  <thead>\n",
       "    <tr style=\"text-align: right;\">\n",
       "      <th></th>\n",
       "      <th>Original Numbers</th>\n",
       "      <th>Compared List</th>\n",
       "      <th>Alphabetic Letters</th>\n",
       "    </tr>\n",
       "  </thead>\n",
       "  <tbody>\n",
       "    <tr>\n",
       "      <th>0</th>\n",
       "      <td>1</td>\n",
       "      <td>1</td>\n",
       "      <td>a</td>\n",
       "    </tr>\n",
       "    <tr>\n",
       "      <th>1</th>\n",
       "      <td>2</td>\n",
       "      <td>2</td>\n",
       "      <td>b</td>\n",
       "    </tr>\n",
       "    <tr>\n",
       "      <th>2</th>\n",
       "      <td>3</td>\n",
       "      <td>3</td>\n",
       "      <td>c</td>\n",
       "    </tr>\n",
       "    <tr>\n",
       "      <th>3</th>\n",
       "      <td>4</td>\n",
       "      <td>4</td>\n",
       "      <td>d</td>\n",
       "    </tr>\n",
       "  </tbody>\n",
       "</table>\n",
       "</div>"
      ],
      "text/plain": [
       "  Original Numbers Compared List Alphabetic Letters\n",
       "0                1             1                  a\n",
       "1                2             2                  b\n",
       "2                3             3                  c\n",
       "3                4             4                  d"
      ]
     },
     "execution_count": 711,
     "metadata": {},
     "output_type": "execute_result"
    }
   ],
   "source": [
    "list_n = ['1','2','3']\n",
    "list_b = ['1','2']\n",
    "list_c = ['a','b','c']\n",
    "list_dict  = {'Original Numbers': list_n ,'Compared List':list_b,'Alphabetic Letters':list_c}\n",
    "nb2 = '3'\n",
    "nb = '4'\n",
    "lt = 'd'\n",
    "list_dict['Original Numbers'].append(nb)\n",
    "list_dict['Compared List'].append(nb2)\n",
    "list_dict['Compared List'].append(nb)\n",
    "list_dict['Alphabetic Letters'].append(lt)\n",
    "pd.DataFrame(list_dict)"
   ]
  },
  {
   "cell_type": "code",
   "execution_count": 707,
   "metadata": {
    "ExecuteTime": {
     "end_time": "2021-08-04T12:02:57.892178Z",
     "start_time": "2021-08-04T12:02:57.871239Z"
    }
   },
   "outputs": [
    {
     "data": {
      "text/html": [
       "<div>\n",
       "<style scoped>\n",
       "    .dataframe tbody tr th:only-of-type {\n",
       "        vertical-align: middle;\n",
       "    }\n",
       "\n",
       "    .dataframe tbody tr th {\n",
       "        vertical-align: top;\n",
       "    }\n",
       "\n",
       "    .dataframe thead th {\n",
       "        text-align: right;\n",
       "    }\n",
       "</style>\n",
       "<table border=\"1\" class=\"dataframe\">\n",
       "  <thead>\n",
       "    <tr style=\"text-align: right;\">\n",
       "      <th></th>\n",
       "      <th>Nb</th>\n",
       "      <th>b</th>\n",
       "    </tr>\n",
       "  </thead>\n",
       "  <tbody>\n",
       "    <tr>\n",
       "      <th>0</th>\n",
       "      <td>1</td>\n",
       "      <td>1</td>\n",
       "    </tr>\n",
       "    <tr>\n",
       "      <th>1</th>\n",
       "      <td>2</td>\n",
       "      <td>2</td>\n",
       "    </tr>\n",
       "    <tr>\n",
       "      <th>2</th>\n",
       "      <td>3</td>\n",
       "      <td>4</td>\n",
       "    </tr>\n",
       "  </tbody>\n",
       "</table>\n",
       "</div>"
      ],
      "text/plain": [
       "  Nb  b\n",
       "0  1  1\n",
       "1  2  2\n",
       "2  3  4"
      ]
     },
     "execution_count": 707,
     "metadata": {},
     "output_type": "execute_result"
    }
   ],
   "source": [
    "pd.DataFrame(list_dict)"
   ]
  },
  {
   "cell_type": "code",
   "execution_count": 685,
   "metadata": {
    "ExecuteTime": {
     "end_time": "2021-08-04T11:46:13.089774Z",
     "start_time": "2021-08-04T11:43:23.690749Z"
    },
    "code_folding": [],
    "hide_input": false,
    "scrolled": true
   },
   "outputs": [
    {
     "name": "stdout",
     "output_type": "stream",
     "text": [
      "Random Table (int):\n",
      "\n",
      "Nb of Columns :8\n",
      "Nb of Rows :30000\n",
      "Min Range of Random Inits :1000\n",
      "Max Range of Random Inits :100000\n",
      "\n",
      "\n",
      "\n",
      "Creating Random values in-between 1000 and 100000\n",
      "________________________________________________________________________________\n"
     ]
    },
    {
     "data": {
      "text/html": [
       "<div>\n",
       "<style scoped>\n",
       "    .dataframe tbody tr th:only-of-type {\n",
       "        vertical-align: middle;\n",
       "    }\n",
       "\n",
       "    .dataframe tbody tr th {\n",
       "        vertical-align: top;\n",
       "    }\n",
       "\n",
       "    .dataframe thead th {\n",
       "        text-align: right;\n",
       "    }\n",
       "</style>\n",
       "<table border=\"1\" class=\"dataframe\">\n",
       "  <thead>\n",
       "    <tr style=\"text-align: right;\">\n",
       "      <th></th>\n",
       "      <th>1</th>\n",
       "      <th>2</th>\n",
       "      <th>3</th>\n",
       "      <th>4</th>\n",
       "      <th>5</th>\n",
       "      <th>6</th>\n",
       "      <th>7</th>\n",
       "      <th>8</th>\n",
       "    </tr>\n",
       "  </thead>\n",
       "  <tbody>\n",
       "    <tr>\n",
       "      <th>0</th>\n",
       "      <td>7071</td>\n",
       "      <td>78803</td>\n",
       "      <td>18353</td>\n",
       "      <td>3445</td>\n",
       "      <td>48632</td>\n",
       "      <td>37483</td>\n",
       "      <td>7408</td>\n",
       "      <td>53104</td>\n",
       "    </tr>\n",
       "    <tr>\n",
       "      <th>1</th>\n",
       "      <td>35900</td>\n",
       "      <td>56459</td>\n",
       "      <td>5871</td>\n",
       "      <td>22690</td>\n",
       "      <td>26304</td>\n",
       "      <td>4817</td>\n",
       "      <td>60996</td>\n",
       "      <td>27498</td>\n",
       "    </tr>\n",
       "    <tr>\n",
       "      <th>2</th>\n",
       "      <td>31872</td>\n",
       "      <td>12510</td>\n",
       "      <td>6413</td>\n",
       "      <td>39773</td>\n",
       "      <td>30758</td>\n",
       "      <td>36763</td>\n",
       "      <td>2537</td>\n",
       "      <td>12451</td>\n",
       "    </tr>\n",
       "    <tr>\n",
       "      <th>3</th>\n",
       "      <td>40573</td>\n",
       "      <td>53265</td>\n",
       "      <td>20445</td>\n",
       "      <td>58308</td>\n",
       "      <td>18529</td>\n",
       "      <td>29580</td>\n",
       "      <td>1428</td>\n",
       "      <td>4921</td>\n",
       "    </tr>\n",
       "    <tr>\n",
       "      <th>4</th>\n",
       "      <td>10590</td>\n",
       "      <td>74798</td>\n",
       "      <td>4561</td>\n",
       "      <td>1073</td>\n",
       "      <td>8082</td>\n",
       "      <td>25259</td>\n",
       "      <td>24802</td>\n",
       "      <td>5315</td>\n",
       "    </tr>\n",
       "    <tr>\n",
       "      <th>...</th>\n",
       "      <td>...</td>\n",
       "      <td>...</td>\n",
       "      <td>...</td>\n",
       "      <td>...</td>\n",
       "      <td>...</td>\n",
       "      <td>...</td>\n",
       "      <td>...</td>\n",
       "      <td>...</td>\n",
       "    </tr>\n",
       "    <tr>\n",
       "      <th>29995</th>\n",
       "      <td>36666</td>\n",
       "      <td>41929</td>\n",
       "      <td>4417</td>\n",
       "      <td>30042</td>\n",
       "      <td>19777</td>\n",
       "      <td>11520</td>\n",
       "      <td>21277</td>\n",
       "      <td>1400</td>\n",
       "    </tr>\n",
       "    <tr>\n",
       "      <th>29996</th>\n",
       "      <td>9297</td>\n",
       "      <td>56208</td>\n",
       "      <td>68744</td>\n",
       "      <td>6243</td>\n",
       "      <td>37842</td>\n",
       "      <td>42596</td>\n",
       "      <td>5398</td>\n",
       "      <td>25828</td>\n",
       "    </tr>\n",
       "    <tr>\n",
       "      <th>29997</th>\n",
       "      <td>9831</td>\n",
       "      <td>7867</td>\n",
       "      <td>28615</td>\n",
       "      <td>6444</td>\n",
       "      <td>6897</td>\n",
       "      <td>62704</td>\n",
       "      <td>9029</td>\n",
       "      <td>18135</td>\n",
       "    </tr>\n",
       "    <tr>\n",
       "      <th>29998</th>\n",
       "      <td>48041</td>\n",
       "      <td>26143</td>\n",
       "      <td>4587</td>\n",
       "      <td>7028</td>\n",
       "      <td>5815</td>\n",
       "      <td>27090</td>\n",
       "      <td>7717</td>\n",
       "      <td>47147</td>\n",
       "    </tr>\n",
       "    <tr>\n",
       "      <th>29999</th>\n",
       "      <td>6541</td>\n",
       "      <td>2952</td>\n",
       "      <td>55075</td>\n",
       "      <td>26748</td>\n",
       "      <td>6563</td>\n",
       "      <td>25423</td>\n",
       "      <td>30739</td>\n",
       "      <td>38738</td>\n",
       "    </tr>\n",
       "  </tbody>\n",
       "</table>\n",
       "<p>30000 rows × 8 columns</p>\n",
       "</div>"
      ],
      "text/plain": [
       "           1      2      3      4      5      6      7      8\n",
       "0       7071  78803  18353   3445  48632  37483   7408  53104\n",
       "1      35900  56459   5871  22690  26304   4817  60996  27498\n",
       "2      31872  12510   6413  39773  30758  36763   2537  12451\n",
       "3      40573  53265  20445  58308  18529  29580   1428   4921\n",
       "4      10590  74798   4561   1073   8082  25259  24802   5315\n",
       "...      ...    ...    ...    ...    ...    ...    ...    ...\n",
       "29995  36666  41929   4417  30042  19777  11520  21277   1400\n",
       "29996   9297  56208  68744   6243  37842  42596   5398  25828\n",
       "29997   9831   7867  28615   6444   6897  62704   9029  18135\n",
       "29998  48041  26143   4587   7028   5815  27090   7717  47147\n",
       "29999   6541   2952  55075  26748   6563  25423  30739  38738\n",
       "\n",
       "[30000 rows x 8 columns]"
      ]
     },
     "metadata": {},
     "output_type": "display_data"
    },
    {
     "name": "stdout",
     "output_type": "stream",
     "text": [
      "\n",
      "The random dataset contains 8 columns.\n",
      "\n",
      "Rename columns manually? : n\n",
      "\n",
      "\n",
      "\n",
      "Automatically rename columns ? : y\n",
      "How do you want to rename columns :\n",
      "     - (1) First names (248420 items)\n",
      "     - (2) Cities (41001 items)\n",
      "     - (3) Stock Market Symbol (6771 items)\n",
      "     - (4) Company Names (6771 items)\n",
      "     - (5) Date (Inf. items)\n",
      "4\n",
      "\n",
      "Rename index manually? : n\n",
      "\n",
      "\n",
      "\n",
      "Automatically rename index ? : y\n",
      "How do you want to rename index :\n",
      "     - (1) First names (248420 items)\n",
      "     - (2) Cities (41001 items)\n",
      "     - (3) Stock Market Symbol (6771 items)\n",
      "     - (4) Company Names (6771 items)\n",
      "     - (5) Date (Inf. items)\n",
      "5\n",
      "Choose your range of date :\n",
      "     - (1) Year\n",
      "     - (2) Month\n",
      "     - (3) Days\n",
      "2\n",
      "Start Year :2010\n",
      "Start Month (1 to 12) :1\n"
     ]
    },
    {
     "data": {
      "text/html": [
       "<div>\n",
       "<style scoped>\n",
       "    .dataframe tbody tr th:only-of-type {\n",
       "        vertical-align: middle;\n",
       "    }\n",
       "\n",
       "    .dataframe tbody tr th {\n",
       "        vertical-align: top;\n",
       "    }\n",
       "\n",
       "    .dataframe thead th {\n",
       "        text-align: right;\n",
       "    }\n",
       "</style>\n",
       "<table border=\"1\" class=\"dataframe\">\n",
       "  <thead>\n",
       "    <tr style=\"text-align: right;\">\n",
       "      <th></th>\n",
       "      <th>Natura &amp;Co Holding</th>\n",
       "      <th>Geospace Technologies</th>\n",
       "      <th>SiteOne Landscape Supply</th>\n",
       "      <th>Sunnova Energy</th>\n",
       "      <th>Sparta Healthcare Acquisition</th>\n",
       "      <th>Caesars Entertainment</th>\n",
       "      <th>Smart Share Global</th>\n",
       "      <th>Tuniu Corporation</th>\n",
       "    </tr>\n",
       "    <tr>\n",
       "      <th>0</th>\n",
       "      <th></th>\n",
       "      <th></th>\n",
       "      <th></th>\n",
       "      <th></th>\n",
       "      <th></th>\n",
       "      <th></th>\n",
       "      <th></th>\n",
       "      <th></th>\n",
       "    </tr>\n",
       "  </thead>\n",
       "  <tbody>\n",
       "    <tr>\n",
       "      <th>February 2010</th>\n",
       "      <td>7071</td>\n",
       "      <td>78803</td>\n",
       "      <td>18353</td>\n",
       "      <td>3445</td>\n",
       "      <td>48632</td>\n",
       "      <td>37483</td>\n",
       "      <td>7408</td>\n",
       "      <td>53104</td>\n",
       "    </tr>\n",
       "    <tr>\n",
       "      <th>March 2010</th>\n",
       "      <td>35900</td>\n",
       "      <td>56459</td>\n",
       "      <td>5871</td>\n",
       "      <td>22690</td>\n",
       "      <td>26304</td>\n",
       "      <td>4817</td>\n",
       "      <td>60996</td>\n",
       "      <td>27498</td>\n",
       "    </tr>\n",
       "    <tr>\n",
       "      <th>April 2010</th>\n",
       "      <td>31872</td>\n",
       "      <td>12510</td>\n",
       "      <td>6413</td>\n",
       "      <td>39773</td>\n",
       "      <td>30758</td>\n",
       "      <td>36763</td>\n",
       "      <td>2537</td>\n",
       "      <td>12451</td>\n",
       "    </tr>\n",
       "    <tr>\n",
       "      <th>May 2010</th>\n",
       "      <td>40573</td>\n",
       "      <td>53265</td>\n",
       "      <td>20445</td>\n",
       "      <td>58308</td>\n",
       "      <td>18529</td>\n",
       "      <td>29580</td>\n",
       "      <td>1428</td>\n",
       "      <td>4921</td>\n",
       "    </tr>\n",
       "    <tr>\n",
       "      <th>June 2010</th>\n",
       "      <td>10590</td>\n",
       "      <td>74798</td>\n",
       "      <td>4561</td>\n",
       "      <td>1073</td>\n",
       "      <td>8082</td>\n",
       "      <td>25259</td>\n",
       "      <td>24802</td>\n",
       "      <td>5315</td>\n",
       "    </tr>\n",
       "    <tr>\n",
       "      <th>...</th>\n",
       "      <td>...</td>\n",
       "      <td>...</td>\n",
       "      <td>...</td>\n",
       "      <td>...</td>\n",
       "      <td>...</td>\n",
       "      <td>...</td>\n",
       "      <td>...</td>\n",
       "      <td>...</td>\n",
       "    </tr>\n",
       "    <tr>\n",
       "      <th>September 4509</th>\n",
       "      <td>36666</td>\n",
       "      <td>41929</td>\n",
       "      <td>4417</td>\n",
       "      <td>30042</td>\n",
       "      <td>19777</td>\n",
       "      <td>11520</td>\n",
       "      <td>21277</td>\n",
       "      <td>1400</td>\n",
       "    </tr>\n",
       "    <tr>\n",
       "      <th>October 4509</th>\n",
       "      <td>9297</td>\n",
       "      <td>56208</td>\n",
       "      <td>68744</td>\n",
       "      <td>6243</td>\n",
       "      <td>37842</td>\n",
       "      <td>42596</td>\n",
       "      <td>5398</td>\n",
       "      <td>25828</td>\n",
       "    </tr>\n",
       "    <tr>\n",
       "      <th>November 4509</th>\n",
       "      <td>9831</td>\n",
       "      <td>7867</td>\n",
       "      <td>28615</td>\n",
       "      <td>6444</td>\n",
       "      <td>6897</td>\n",
       "      <td>62704</td>\n",
       "      <td>9029</td>\n",
       "      <td>18135</td>\n",
       "    </tr>\n",
       "    <tr>\n",
       "      <th>December 4509</th>\n",
       "      <td>48041</td>\n",
       "      <td>26143</td>\n",
       "      <td>4587</td>\n",
       "      <td>7028</td>\n",
       "      <td>5815</td>\n",
       "      <td>27090</td>\n",
       "      <td>7717</td>\n",
       "      <td>47147</td>\n",
       "    </tr>\n",
       "    <tr>\n",
       "      <th>January 4510</th>\n",
       "      <td>6541</td>\n",
       "      <td>2952</td>\n",
       "      <td>55075</td>\n",
       "      <td>26748</td>\n",
       "      <td>6563</td>\n",
       "      <td>25423</td>\n",
       "      <td>30739</td>\n",
       "      <td>38738</td>\n",
       "    </tr>\n",
       "  </tbody>\n",
       "</table>\n",
       "<p>30000 rows × 8 columns</p>\n",
       "</div>"
      ],
      "text/plain": [
       "                 Natura &Co Holding   Geospace Technologies  \\\n",
       "0                                                             \n",
       "February 2010                  7071                   78803   \n",
       "March 2010                    35900                   56459   \n",
       "April 2010                    31872                   12510   \n",
       "May 2010                      40573                   53265   \n",
       "June 2010                     10590                   74798   \n",
       "...                             ...                     ...   \n",
       "September 4509                36666                   41929   \n",
       "October 4509                   9297                   56208   \n",
       "November 4509                  9831                    7867   \n",
       "December 4509                 48041                   26143   \n",
       "January 4510                   6541                    2952   \n",
       "\n",
       "                 SiteOne Landscape Supply   Sunnova Energy  \\\n",
       "0                                                            \n",
       "February 2010                       18353             3445   \n",
       "March 2010                           5871            22690   \n",
       "April 2010                           6413            39773   \n",
       "May 2010                            20445            58308   \n",
       "June 2010                            4561             1073   \n",
       "...                                   ...              ...   \n",
       "September 4509                       4417            30042   \n",
       "October 4509                        68744             6243   \n",
       "November 4509                       28615             6444   \n",
       "December 4509                        4587             7028   \n",
       "January 4510                        55075            26748   \n",
       "\n",
       "                 Sparta Healthcare Acquisition   Caesars Entertainment  \\\n",
       "0                                                                        \n",
       "February 2010                            48632                   37483   \n",
       "March 2010                               26304                    4817   \n",
       "April 2010                               30758                   36763   \n",
       "May 2010                                 18529                   29580   \n",
       "June 2010                                 8082                   25259   \n",
       "...                                        ...                     ...   \n",
       "September 4509                           19777                   11520   \n",
       "October 4509                             37842                   42596   \n",
       "November 4509                             6897                   62704   \n",
       "December 4509                             5815                   27090   \n",
       "January 4510                              6563                   25423   \n",
       "\n",
       "                 Smart Share Global   Tuniu Corporation  \n",
       "0                                                        \n",
       "February 2010                  7408               53104  \n",
       "March 2010                    60996               27498  \n",
       "April 2010                     2537               12451  \n",
       "May 2010                       1428                4921  \n",
       "June 2010                     24802                5315  \n",
       "...                             ...                 ...  \n",
       "September 4509                21277                1400  \n",
       "October 4509                   5398               25828  \n",
       "November 4509                  9029               18135  \n",
       "December 4509                  7717               47147  \n",
       "January 4510                  30739               38738  \n",
       "\n",
       "[30000 rows x 8 columns]"
      ]
     },
     "metadata": {},
     "output_type": "display_data"
    }
   ],
   "source": [
    "from random import randint\n",
    "from random import sample\n",
    "from datetime import datetime, date\n",
    "from dateutil.relativedelta import relativedelta\n",
    "\n",
    "print('Random Table (int):\\n')\n",
    "df = {}\n",
    "n_key = input('Nb of Columns :')\n",
    "n_value = input('Nb of Rows :')\n",
    "randomize_min = input('Min Range of Random Inits :')\n",
    "randomize_max = input('Max Range of Random Inits :')\n",
    "for key in range(1, int(n_key)+1):\n",
    "    random_list = []\n",
    "    if int(randomize_min) >= int(randomize_max):\n",
    "        print('\\nYour Max Range is lower than your Min Range. Type again.')\n",
    "        randomize_max = input('Max Range of Random Inits :')\n",
    "    elif int(randomize_min) <= int(randomize_max):\n",
    "        for value in range(1, int(n_value)+1):\n",
    "            random_list.append(randint(int(randomize_min),int(randint(int(randomize_min),int(randomize_max)))))\n",
    "            df[str(key)] = random_list\n",
    "    else:\n",
    "        randomize_min = input('Min Range of Random Inits :')\n",
    "        randomize_max = input('Max Range of Random Inits :')\n",
    "print('\\n')\n",
    "print('\\nCreating Random values in-between',int(randomize_min),\"and\",int(randomize_max))\n",
    "print(80*(\"_\"))\n",
    "display(pd.DataFrame(df))\n",
    "print('\\nThe random dataset contains', len(df.keys()),'columns.')\n",
    "rename_column = input('\\nRename columns manually? : ')\n",
    "print('\\n')\n",
    "if rename_column.lower() == ('Y').lower():\n",
    "    col_list = []\n",
    "    if len(col_list) <= len(df.keys()):\n",
    "        for i in range(len(df.keys())):\n",
    "            print('\\n')\n",
    "            print('Rename column',i+1,':')\n",
    "            col_name = input(' ')\n",
    "            print('Column',i+1,'has been renamed',col_name,'\\n')\n",
    "            col_list.append(col_name)\n",
    "        df = pd.DataFrame(df)\n",
    "        df.columns = col_list\n",
    "        display(df)\n",
    "    else:\n",
    "        col_name = input('Column Name :')\n",
    "elif rename_column.lower() == ('N').lower():\n",
    "    auto_rename = input('\\nAutomatically rename columns ? : ')\n",
    "    if auto_rename.lower() == ('Y').lower():\n",
    "        type_rename= int(input('How do you want to rename columns :\\n     - (1) First names (248420 items)\\n     - (2) Cities (41001 items)\\n     - (3) Stock Market Symbol (6771 items)\\n     - (4) Company Names (6771 items)\\n     - (5) Date (Inf. items)\\n'))\n",
    "        if type_rename == int(1):\n",
    "            name = pd.read_csv('firstforename.csv')\n",
    "            name = name['FirstForename']\n",
    "            name_list = []\n",
    "            for i in range(len(df.keys())):\n",
    "                name_list.append(name[name.sample(1).index[0]])\n",
    "            df = pd.DataFrame(df)\n",
    "            df.columns = name_list\n",
    "        elif type_rename == int(2):\n",
    "            allcities2 = pd.read_csv('allcities2.csv')\n",
    "            allcities2 = allcities2['0']\n",
    "            random_city = []\n",
    "            for i in range(len(df.keys())):\n",
    "                random_city.append(allcities2[allcities2.sample(1).index[0]])\n",
    "            df = pd.DataFrame(df)\n",
    "            df.columns = random_city\n",
    "        elif type_rename == int(3):\n",
    "            market = pd.read_csv('market_symbols.csv')\n",
    "            mkt_symbols = market['Symbols']\n",
    "            symbols_list = []\n",
    "            for i in range(len(df.keys())):\n",
    "                symbols_list.append(mkt_symbols[mkt_symbols.sample(1).index[0]])\n",
    "            df = pd.DataFrame(df)\n",
    "            df.columns = symbols_list\n",
    "        elif type_rename == int(4):\n",
    "            market = pd.read_csv('market_symbols.csv')\n",
    "            companies = pd.read_csv('company_names.csv')\n",
    "            company = companies['Company']\n",
    "            company_list = []\n",
    "            for i in range(len(df.keys())):\n",
    "                company_list.append(company[company.sample(1).index[0]])\n",
    "            df = pd.DataFrame(df)\n",
    "            df.columns = company_list\n",
    "        elif type_rename == int(5):\n",
    "            years_list = []\n",
    "            months_list = []\n",
    "            days_list = []\n",
    "            choice = int(input('Choose your range of date :\\n     - (1) Year\\n     - (2) Month\\n     - (3) Days\\n'))\n",
    "            #('y').lower() == 'year'\n",
    "            #('m').lower() == 'month' \n",
    "            #('d').lower() == 'days' \n",
    "\n",
    "            if choice == int(1):\n",
    "                year = int(input('Start Year :'))\n",
    "                date = datetime(year,1,1)\n",
    "                for i in range(len(df.keys())):\n",
    "                    date += relativedelta(years=1)\n",
    "                    years_list.append(date.strftime('%Y'))\n",
    "                df = pd.DataFrame(df)\n",
    "                df.columns = years_list\n",
    "            elif choice == int(2):\n",
    "                year = int(input('Start Year :'))\n",
    "                month = int(input('Start Month (1 to 12) :'))\n",
    "                date = datetime(year,month,1)\n",
    "                for i in range(len(df.keys())):\n",
    "                    date += relativedelta(months=1)\n",
    "                    months_list.append(date.strftime('%B %Y'))\n",
    "                df = pd.DataFrame(df)\n",
    "                df.columns = months_list\n",
    "            elif choice == int(3):\n",
    "                year = int(input('Start Year :'))\n",
    "                month = int(input('Start Month (1 to 12) :'))\n",
    "                date = datetime(year,month,1)\n",
    "                print('\\nDate will be started on the 1st day of the month.')\n",
    "                days_list.append(date.strftime('%a.%d/%m/%Y'))\n",
    "                for i in range(len(df.keys())):\n",
    "                    date += relativedelta(days=1)\n",
    "                    days_list.append(date.strftime('%a.%d/%m/%Y'))\n",
    "                days_list.remove(date.strftime('%a.%d/%m/%Y'))\n",
    "                df = pd.DataFrame(df)\n",
    "                df.columns = days_list \n",
    "            else:\n",
    "                choice = int(input('Choose your range of date :\\n     - (1) Year\\n     - (2) Month\\n     - (3) Days\\n'))        \n",
    "    elif rename_column.lower() == ('N').lower():\n",
    "        pass\n",
    "    else:\n",
    "        auto_rename = input('\\nAutomatically rename columns ? : ')\n",
    "elif rename_column.lower() != ('N').lower() | rename_column.lower() != ('Y').lower():\n",
    "    rename_column = input('Wrong type. Please type Y of N.\\nRename columns ? : ')\n",
    "else:\n",
    "    df = pd.DataFrame(df)\n",
    "    pass\n",
    "\n",
    "rename_index = input('\\nRename index manually? : ')\n",
    "\n",
    "print('\\n')\n",
    "if rename_index.lower() == ('Y').lower():\n",
    "    if int(len(df)) > 30:\n",
    "        print('Shape of dataset is of',int(len(df)),'Are you sure you want to rename columns manually ?\\nAll entries will have to be typed manullly.')\n",
    "        rename_index = input('\\nRename index manually? : ')\n",
    "    else:pass\n",
    "    idx_list = []\n",
    "    if len(idx_list) <= len(df):\n",
    "        for i in range(len(df)):\n",
    "            print('\\n')\n",
    "            print('Rename index',i+1,':')\n",
    "            idx_name = input(' ')\n",
    "            print('index',i+1,'has been renamed',idx_name,'\\n')\n",
    "            idx_list.append(idx_name)\n",
    "        df = pd.DataFrame(df)\n",
    "        idx_list = pd.DataFrame(idx_list)\n",
    "        df = pd.concat([df, idx_list[0]],axis=1)\n",
    "        df = df.set_index(0)\n",
    "        display(df)\n",
    "    else:\n",
    "        idx_name = input('index Name :')\n",
    "elif rename_index.lower() == ('N').lower():\n",
    "    auto_rename = input('\\nAutomatically rename index ? : ')\n",
    "    if auto_rename.lower() == ('Y').lower():\n",
    "        type_rename= int(input('How do you want to rename index :\\n     - (1) First names (248420 items)\\n     - (2) Cities (41001 items)\\n     - (3) Stock Market Symbol (6771 items)\\n     - (4) Company Names (6771 items)\\n     - (5) Date (Inf. items)\\n'))\n",
    "        if type_rename == int(1):\n",
    "            name = pd.read_csv('firstforename.csv')\n",
    "            name = name['FirstForename']\n",
    "            name_list = []\n",
    "            for i in range(len(df)):\n",
    "                name_list.append(str(name.sample(1)).split('\\nName')[0].split(\"  \")[2].lstrip())\n",
    "            df = pd.DataFrame(df)\n",
    "            name_list = pd.DataFrame(name_list)\n",
    "            df = pd.concat([df, name_list],axis=1)\n",
    "            df = df.set_index(0)\n",
    "        elif type_rename == int(2):\n",
    "            allcities2 = pd.read_csv('allcities2.csv')\n",
    "            allcities2 = allcities2[0]\n",
    "            random_city = []\n",
    "            for i in range(len(df)):\n",
    "                random_city.append(str(allcities2.sample(1)).replace('\"',\"\").split('\\nName')[0].split(\"  \")[2].lstrip())\n",
    "            df = pd.DataFrame(df)\n",
    "            random_city = pd.DataFrame(random_city)\n",
    "            df = pd.concat([df, random_city],axis=1)\n",
    "            df = df.set_index(0)\n",
    "        elif type_rename == int(3):\n",
    "            market = pd.read_csv('market_symbols.csv')\n",
    "            mkt_symbols = market['Symbols']\n",
    "            symbols_list = []\n",
    "            for i in range(len(df)):\n",
    "                symbols_list.append(str(mkt_symbols.sample(1)).split('\\nName')[0].split(\"  \")[2].lstrip())\n",
    "            df = pd.DataFrame(df)\n",
    "            symbols_list = pd.DataFrame(symbols_list)\n",
    "            df = pd.concat([df, symbols_list],axis=1)\n",
    "            df = df.set_index(0)\n",
    "        elif type_rename == int(4):\n",
    "            market = pd.read_csv('market_symbols.csv')\n",
    "            companies = pd.read_csv('company_names.csv')\n",
    "            company = companies['Company']\n",
    "            company_list = []\n",
    "            for i in range(len(df)):\n",
    "                company_list.append(str(company.sample(1)).split('\\nName')[0].split(\"  \")[2].lstrip())\n",
    "            df = pd.DataFrame(df)\n",
    "            company_list = pd.DataFrame(company_list)\n",
    "            df = pd.concat([df, company_list],axis=1)\n",
    "            df = df.set_index(0)\n",
    "        elif type_rename == int(5):\n",
    "            years_list = []\n",
    "            months_list = []\n",
    "            days_list = []\n",
    "            choice = int(input('Choose your range of date :\\n     - (1) Year\\n     - (2) Month\\n     - (3) Days\\n'))\n",
    "            #('y').lower() == 'year'\n",
    "            #('m').lower() == 'month' \n",
    "            #('d').lower() == 'days' \n",
    "\n",
    "            if choice == int(1):\n",
    "                year = int(input('Start Year :'))\n",
    "                date = datetime(year,1,1)\n",
    "                for i in range(len(df)):\n",
    "                    date += relativedelta(years=1)\n",
    "                    years_list.append(date.strftime('%Y'))\n",
    "                years_list = pd.DataFrame(years_list)\n",
    "                df = pd.DataFrame(df)\n",
    "                df = pd.concat([df, years_list],axis=1)\n",
    "                df = df.set_index(0)\n",
    "            elif choice == int(2):\n",
    "                year = int(input('Start Year :'))\n",
    "                month = int(input('Start Month (1 to 12) :'))\n",
    "                date = datetime(year,month,1)\n",
    "                for i in range(len(df)):\n",
    "                    date += relativedelta(months=1)\n",
    "                    months_list.append(date.strftime('%B %Y'))\n",
    "                df = pd.DataFrame(df)\n",
    "                months_list = pd.DataFrame(months_list)\n",
    "                df = pd.concat([df, months_list],axis=1)\n",
    "                df = df.set_index(0)\n",
    "            elif choice == int(3):\n",
    "                year = int(input('Start Year :'))\n",
    "                month = int(input('Start Month (1 to 12) :'))\n",
    "                date = datetime(year,month,1)\n",
    "                print('\\nDate will be started on the 1st day of the month.')\n",
    "                days_list.append(date.strftime('%a.%d/%m/%Y'))\n",
    "                for i in range(len(df)):\n",
    "                    date += relativedelta(days=1)\n",
    "                    days_list.append(date.strftime('%a.%d/%m/%Y'))\n",
    "                days_list.remove(date.strftime('%a.%d/%m/%Y'))\n",
    "                df = pd.DataFrame(df)\n",
    "                days_list = pd.DataFrame(0)\n",
    "                df = pd.concat([df, days_list],axis=1)\n",
    "                df = df.set_index(0) \n",
    "            else:\n",
    "                choice = int(input('Choose your range of date :\\n     - (1) Year\\n     - (2) Month\\n     - (3) Days\\n'))        \n",
    "    elif rename_index.lower() == ('N').lower():\n",
    "        pass\n",
    "    else:\n",
    "        auto_rename = input('\\nAutomatically rename index ? : ')\n",
    "elif rename_index.lower() != ('N').lower() | rename_index.lower() != ('Y').lower():\n",
    "    rename_index = input('Wrong type. Please type Y of N.\\nRename index ? : ')\n",
    "else:\n",
    "    df = pd.DataFrame(df)\n",
    "    pass\n",
    "\n",
    "\n",
    "display(df)"
   ]
  },
  {
   "cell_type": "code",
   "execution_count": 715,
   "metadata": {
    "ExecuteTime": {
     "end_time": "2021-08-04T12:14:46.935138Z",
     "start_time": "2021-08-04T12:14:46.898554Z"
    }
   },
   "outputs": [
    {
     "data": {
      "text/html": [
       "<div>\n",
       "<style scoped>\n",
       "    .dataframe tbody tr th:only-of-type {\n",
       "        vertical-align: middle;\n",
       "    }\n",
       "\n",
       "    .dataframe tbody tr th {\n",
       "        vertical-align: top;\n",
       "    }\n",
       "\n",
       "    .dataframe thead th {\n",
       "        text-align: right;\n",
       "    }\n",
       "</style>\n",
       "<table border=\"1\" class=\"dataframe\">\n",
       "  <thead>\n",
       "    <tr style=\"text-align: right;\">\n",
       "      <th></th>\n",
       "      <th>Natura &amp;Co Holding</th>\n",
       "      <th>Geospace Technologies</th>\n",
       "      <th>SiteOne Landscape Supply</th>\n",
       "      <th>Sunnova Energy</th>\n",
       "      <th>Sparta Healthcare Acquisition</th>\n",
       "      <th>Caesars Entertainment</th>\n",
       "      <th>Smart Share Global</th>\n",
       "      <th>Tuniu Corporation</th>\n",
       "    </tr>\n",
       "    <tr>\n",
       "      <th>0</th>\n",
       "      <th></th>\n",
       "      <th></th>\n",
       "      <th></th>\n",
       "      <th></th>\n",
       "      <th></th>\n",
       "      <th></th>\n",
       "      <th></th>\n",
       "      <th></th>\n",
       "    </tr>\n",
       "  </thead>\n",
       "  <tbody>\n",
       "    <tr>\n",
       "      <th>April 3201</th>\n",
       "      <td>34701</td>\n",
       "      <td>7869</td>\n",
       "      <td>30215</td>\n",
       "      <td>1763</td>\n",
       "      <td>41165</td>\n",
       "      <td>38213</td>\n",
       "      <td>29493</td>\n",
       "      <td>13644</td>\n",
       "    </tr>\n",
       "    <tr>\n",
       "      <th>January 2707</th>\n",
       "      <td>1314</td>\n",
       "      <td>48739</td>\n",
       "      <td>23568</td>\n",
       "      <td>2364</td>\n",
       "      <td>55812</td>\n",
       "      <td>29593</td>\n",
       "      <td>5608</td>\n",
       "      <td>39838</td>\n",
       "    </tr>\n",
       "    <tr>\n",
       "      <th>February 3453</th>\n",
       "      <td>6440</td>\n",
       "      <td>26836</td>\n",
       "      <td>1212</td>\n",
       "      <td>26113</td>\n",
       "      <td>76109</td>\n",
       "      <td>30440</td>\n",
       "      <td>17078</td>\n",
       "      <td>45733</td>\n",
       "    </tr>\n",
       "    <tr>\n",
       "      <th>August 2859</th>\n",
       "      <td>24132</td>\n",
       "      <td>43242</td>\n",
       "      <td>6798</td>\n",
       "      <td>26349</td>\n",
       "      <td>27110</td>\n",
       "      <td>12866</td>\n",
       "      <td>22631</td>\n",
       "      <td>8593</td>\n",
       "    </tr>\n",
       "    <tr>\n",
       "      <th>May 2674</th>\n",
       "      <td>62263</td>\n",
       "      <td>43596</td>\n",
       "      <td>9272</td>\n",
       "      <td>6880</td>\n",
       "      <td>47501</td>\n",
       "      <td>46932</td>\n",
       "      <td>31608</td>\n",
       "      <td>17057</td>\n",
       "    </tr>\n",
       "    <tr>\n",
       "      <th>January 4167</th>\n",
       "      <td>27576</td>\n",
       "      <td>9957</td>\n",
       "      <td>5629</td>\n",
       "      <td>47512</td>\n",
       "      <td>1905</td>\n",
       "      <td>32879</td>\n",
       "      <td>13502</td>\n",
       "      <td>57381</td>\n",
       "    </tr>\n",
       "    <tr>\n",
       "      <th>February 2424</th>\n",
       "      <td>1342</td>\n",
       "      <td>2431</td>\n",
       "      <td>8968</td>\n",
       "      <td>60213</td>\n",
       "      <td>28983</td>\n",
       "      <td>6021</td>\n",
       "      <td>7632</td>\n",
       "      <td>3424</td>\n",
       "    </tr>\n",
       "    <tr>\n",
       "      <th>June 4060</th>\n",
       "      <td>5070</td>\n",
       "      <td>12046</td>\n",
       "      <td>21332</td>\n",
       "      <td>9306</td>\n",
       "      <td>6216</td>\n",
       "      <td>9641</td>\n",
       "      <td>5656</td>\n",
       "      <td>11425</td>\n",
       "    </tr>\n",
       "    <tr>\n",
       "      <th>August 3301</th>\n",
       "      <td>3463</td>\n",
       "      <td>1371</td>\n",
       "      <td>6738</td>\n",
       "      <td>23275</td>\n",
       "      <td>1886</td>\n",
       "      <td>2648</td>\n",
       "      <td>1326</td>\n",
       "      <td>4682</td>\n",
       "    </tr>\n",
       "    <tr>\n",
       "      <th>June 3213</th>\n",
       "      <td>5090</td>\n",
       "      <td>18393</td>\n",
       "      <td>6131</td>\n",
       "      <td>11456</td>\n",
       "      <td>26272</td>\n",
       "      <td>6275</td>\n",
       "      <td>8953</td>\n",
       "      <td>36893</td>\n",
       "    </tr>\n",
       "    <tr>\n",
       "      <th>September 3756</th>\n",
       "      <td>17695</td>\n",
       "      <td>22584</td>\n",
       "      <td>5026</td>\n",
       "      <td>6549</td>\n",
       "      <td>18701</td>\n",
       "      <td>12270</td>\n",
       "      <td>11010</td>\n",
       "      <td>67018</td>\n",
       "    </tr>\n",
       "    <tr>\n",
       "      <th>March 2873</th>\n",
       "      <td>14806</td>\n",
       "      <td>13185</td>\n",
       "      <td>14363</td>\n",
       "      <td>15959</td>\n",
       "      <td>58448</td>\n",
       "      <td>14132</td>\n",
       "      <td>13106</td>\n",
       "      <td>31624</td>\n",
       "    </tr>\n",
       "    <tr>\n",
       "      <th>May 3043</th>\n",
       "      <td>9177</td>\n",
       "      <td>12757</td>\n",
       "      <td>33238</td>\n",
       "      <td>37031</td>\n",
       "      <td>70343</td>\n",
       "      <td>14432</td>\n",
       "      <td>13013</td>\n",
       "      <td>14306</td>\n",
       "    </tr>\n",
       "    <tr>\n",
       "      <th>November 3975</th>\n",
       "      <td>11426</td>\n",
       "      <td>11859</td>\n",
       "      <td>9043</td>\n",
       "      <td>54050</td>\n",
       "      <td>1032</td>\n",
       "      <td>75492</td>\n",
       "      <td>26693</td>\n",
       "      <td>19844</td>\n",
       "    </tr>\n",
       "    <tr>\n",
       "      <th>August 2234</th>\n",
       "      <td>45146</td>\n",
       "      <td>79761</td>\n",
       "      <td>75780</td>\n",
       "      <td>56379</td>\n",
       "      <td>11123</td>\n",
       "      <td>17148</td>\n",
       "      <td>20936</td>\n",
       "      <td>20227</td>\n",
       "    </tr>\n",
       "    <tr>\n",
       "      <th>March 3603</th>\n",
       "      <td>8428</td>\n",
       "      <td>69253</td>\n",
       "      <td>5026</td>\n",
       "      <td>54119</td>\n",
       "      <td>13406</td>\n",
       "      <td>12177</td>\n",
       "      <td>17777</td>\n",
       "      <td>9912</td>\n",
       "    </tr>\n",
       "    <tr>\n",
       "      <th>June 3846</th>\n",
       "      <td>15566</td>\n",
       "      <td>38439</td>\n",
       "      <td>69817</td>\n",
       "      <td>13907</td>\n",
       "      <td>7579</td>\n",
       "      <td>32608</td>\n",
       "      <td>38875</td>\n",
       "      <td>38452</td>\n",
       "    </tr>\n",
       "    <tr>\n",
       "      <th>July 3262</th>\n",
       "      <td>24833</td>\n",
       "      <td>14164</td>\n",
       "      <td>1053</td>\n",
       "      <td>2390</td>\n",
       "      <td>2100</td>\n",
       "      <td>78368</td>\n",
       "      <td>1081</td>\n",
       "      <td>31324</td>\n",
       "    </tr>\n",
       "    <tr>\n",
       "      <th>May 3201</th>\n",
       "      <td>20868</td>\n",
       "      <td>11105</td>\n",
       "      <td>2521</td>\n",
       "      <td>8804</td>\n",
       "      <td>38389</td>\n",
       "      <td>8409</td>\n",
       "      <td>1186</td>\n",
       "      <td>80439</td>\n",
       "    </tr>\n",
       "    <tr>\n",
       "      <th>February 3230</th>\n",
       "      <td>40365</td>\n",
       "      <td>25003</td>\n",
       "      <td>5661</td>\n",
       "      <td>15280</td>\n",
       "      <td>4492</td>\n",
       "      <td>57316</td>\n",
       "      <td>65200</td>\n",
       "      <td>11947</td>\n",
       "    </tr>\n",
       "    <tr>\n",
       "      <th>June 4429</th>\n",
       "      <td>25100</td>\n",
       "      <td>31576</td>\n",
       "      <td>3827</td>\n",
       "      <td>12559</td>\n",
       "      <td>74705</td>\n",
       "      <td>85458</td>\n",
       "      <td>45363</td>\n",
       "      <td>57870</td>\n",
       "    </tr>\n",
       "    <tr>\n",
       "      <th>December 2405</th>\n",
       "      <td>24905</td>\n",
       "      <td>22691</td>\n",
       "      <td>47278</td>\n",
       "      <td>29524</td>\n",
       "      <td>38398</td>\n",
       "      <td>3554</td>\n",
       "      <td>49856</td>\n",
       "      <td>36141</td>\n",
       "    </tr>\n",
       "    <tr>\n",
       "      <th>October 4369</th>\n",
       "      <td>5548</td>\n",
       "      <td>16717</td>\n",
       "      <td>11337</td>\n",
       "      <td>38687</td>\n",
       "      <td>52341</td>\n",
       "      <td>4259</td>\n",
       "      <td>25395</td>\n",
       "      <td>56578</td>\n",
       "    </tr>\n",
       "    <tr>\n",
       "      <th>November 3674</th>\n",
       "      <td>4289</td>\n",
       "      <td>53143</td>\n",
       "      <td>1834</td>\n",
       "      <td>33336</td>\n",
       "      <td>21286</td>\n",
       "      <td>27486</td>\n",
       "      <td>51341</td>\n",
       "      <td>20069</td>\n",
       "    </tr>\n",
       "    <tr>\n",
       "      <th>October 2587</th>\n",
       "      <td>11720</td>\n",
       "      <td>43541</td>\n",
       "      <td>12196</td>\n",
       "      <td>2155</td>\n",
       "      <td>25489</td>\n",
       "      <td>65999</td>\n",
       "      <td>22080</td>\n",
       "      <td>47182</td>\n",
       "    </tr>\n",
       "    <tr>\n",
       "      <th>August 3439</th>\n",
       "      <td>9365</td>\n",
       "      <td>10808</td>\n",
       "      <td>18671</td>\n",
       "      <td>11543</td>\n",
       "      <td>11099</td>\n",
       "      <td>55609</td>\n",
       "      <td>29367</td>\n",
       "      <td>19719</td>\n",
       "    </tr>\n",
       "    <tr>\n",
       "      <th>January 3473</th>\n",
       "      <td>32271</td>\n",
       "      <td>11847</td>\n",
       "      <td>54275</td>\n",
       "      <td>10872</td>\n",
       "      <td>4340</td>\n",
       "      <td>2920</td>\n",
       "      <td>1809</td>\n",
       "      <td>7740</td>\n",
       "    </tr>\n",
       "    <tr>\n",
       "      <th>April 2425</th>\n",
       "      <td>6259</td>\n",
       "      <td>82447</td>\n",
       "      <td>5569</td>\n",
       "      <td>75669</td>\n",
       "      <td>1420</td>\n",
       "      <td>30328</td>\n",
       "      <td>3954</td>\n",
       "      <td>20946</td>\n",
       "    </tr>\n",
       "    <tr>\n",
       "      <th>February 2196</th>\n",
       "      <td>44984</td>\n",
       "      <td>49683</td>\n",
       "      <td>2440</td>\n",
       "      <td>53121</td>\n",
       "      <td>21184</td>\n",
       "      <td>4665</td>\n",
       "      <td>20286</td>\n",
       "      <td>24468</td>\n",
       "    </tr>\n",
       "    <tr>\n",
       "      <th>July 2515</th>\n",
       "      <td>5336</td>\n",
       "      <td>50090</td>\n",
       "      <td>3757</td>\n",
       "      <td>56055</td>\n",
       "      <td>52530</td>\n",
       "      <td>46065</td>\n",
       "      <td>29536</td>\n",
       "      <td>66222</td>\n",
       "    </tr>\n",
       "    <tr>\n",
       "      <th>July 3679</th>\n",
       "      <td>89129</td>\n",
       "      <td>42454</td>\n",
       "      <td>47068</td>\n",
       "      <td>38897</td>\n",
       "      <td>40656</td>\n",
       "      <td>15670</td>\n",
       "      <td>39325</td>\n",
       "      <td>1060</td>\n",
       "    </tr>\n",
       "    <tr>\n",
       "      <th>June 2969</th>\n",
       "      <td>5683</td>\n",
       "      <td>3282</td>\n",
       "      <td>34647</td>\n",
       "      <td>29827</td>\n",
       "      <td>26227</td>\n",
       "      <td>44247</td>\n",
       "      <td>7827</td>\n",
       "      <td>1083</td>\n",
       "    </tr>\n",
       "    <tr>\n",
       "      <th>April 2603</th>\n",
       "      <td>32135</td>\n",
       "      <td>38346</td>\n",
       "      <td>1869</td>\n",
       "      <td>3458</td>\n",
       "      <td>35004</td>\n",
       "      <td>8560</td>\n",
       "      <td>73637</td>\n",
       "      <td>52419</td>\n",
       "    </tr>\n",
       "    <tr>\n",
       "      <th>May 2206</th>\n",
       "      <td>11977</td>\n",
       "      <td>28361</td>\n",
       "      <td>24994</td>\n",
       "      <td>4067</td>\n",
       "      <td>13795</td>\n",
       "      <td>13746</td>\n",
       "      <td>8564</td>\n",
       "      <td>24775</td>\n",
       "    </tr>\n",
       "    <tr>\n",
       "      <th>September 3085</th>\n",
       "      <td>69439</td>\n",
       "      <td>7995</td>\n",
       "      <td>45501</td>\n",
       "      <td>27907</td>\n",
       "      <td>39129</td>\n",
       "      <td>14421</td>\n",
       "      <td>33377</td>\n",
       "      <td>4444</td>\n",
       "    </tr>\n",
       "    <tr>\n",
       "      <th>July 2873</th>\n",
       "      <td>19273</td>\n",
       "      <td>5607</td>\n",
       "      <td>6745</td>\n",
       "      <td>26971</td>\n",
       "      <td>15880</td>\n",
       "      <td>75820</td>\n",
       "      <td>3920</td>\n",
       "      <td>18368</td>\n",
       "    </tr>\n",
       "    <tr>\n",
       "      <th>October 3939</th>\n",
       "      <td>8111</td>\n",
       "      <td>16355</td>\n",
       "      <td>45247</td>\n",
       "      <td>3648</td>\n",
       "      <td>52195</td>\n",
       "      <td>13337</td>\n",
       "      <td>5198</td>\n",
       "      <td>66025</td>\n",
       "    </tr>\n",
       "    <tr>\n",
       "      <th>April 4490</th>\n",
       "      <td>4718</td>\n",
       "      <td>16354</td>\n",
       "      <td>1121</td>\n",
       "      <td>85969</td>\n",
       "      <td>10275</td>\n",
       "      <td>28729</td>\n",
       "      <td>21122</td>\n",
       "      <td>60880</td>\n",
       "    </tr>\n",
       "    <tr>\n",
       "      <th>January 3472</th>\n",
       "      <td>25916</td>\n",
       "      <td>9630</td>\n",
       "      <td>11112</td>\n",
       "      <td>10844</td>\n",
       "      <td>51349</td>\n",
       "      <td>3437</td>\n",
       "      <td>1314</td>\n",
       "      <td>43262</td>\n",
       "    </tr>\n",
       "    <tr>\n",
       "      <th>August 3575</th>\n",
       "      <td>23023</td>\n",
       "      <td>16731</td>\n",
       "      <td>55111</td>\n",
       "      <td>13419</td>\n",
       "      <td>8716</td>\n",
       "      <td>23121</td>\n",
       "      <td>2965</td>\n",
       "      <td>34955</td>\n",
       "    </tr>\n",
       "    <tr>\n",
       "      <th>November 3480</th>\n",
       "      <td>1289</td>\n",
       "      <td>37287</td>\n",
       "      <td>3174</td>\n",
       "      <td>1056</td>\n",
       "      <td>5959</td>\n",
       "      <td>11195</td>\n",
       "      <td>36042</td>\n",
       "      <td>21134</td>\n",
       "    </tr>\n",
       "    <tr>\n",
       "      <th>October 3632</th>\n",
       "      <td>9000</td>\n",
       "      <td>11640</td>\n",
       "      <td>11158</td>\n",
       "      <td>35409</td>\n",
       "      <td>3968</td>\n",
       "      <td>30810</td>\n",
       "      <td>3244</td>\n",
       "      <td>49532</td>\n",
       "    </tr>\n",
       "    <tr>\n",
       "      <th>May 3144</th>\n",
       "      <td>7833</td>\n",
       "      <td>4914</td>\n",
       "      <td>6338</td>\n",
       "      <td>1235</td>\n",
       "      <td>44827</td>\n",
       "      <td>1552</td>\n",
       "      <td>20850</td>\n",
       "      <td>23008</td>\n",
       "    </tr>\n",
       "    <tr>\n",
       "      <th>August 3287</th>\n",
       "      <td>33575</td>\n",
       "      <td>63714</td>\n",
       "      <td>19189</td>\n",
       "      <td>20610</td>\n",
       "      <td>82974</td>\n",
       "      <td>29411</td>\n",
       "      <td>29592</td>\n",
       "      <td>19837</td>\n",
       "    </tr>\n",
       "    <tr>\n",
       "      <th>July 3495</th>\n",
       "      <td>28369</td>\n",
       "      <td>8194</td>\n",
       "      <td>1743</td>\n",
       "      <td>39316</td>\n",
       "      <td>51189</td>\n",
       "      <td>41492</td>\n",
       "      <td>1429</td>\n",
       "      <td>8749</td>\n",
       "    </tr>\n",
       "  </tbody>\n",
       "</table>\n",
       "</div>"
      ],
      "text/plain": [
       "                 Natura &Co Holding   Geospace Technologies  \\\n",
       "0                                                             \n",
       "April 3201                    34701                    7869   \n",
       "January 2707                   1314                   48739   \n",
       "February 3453                  6440                   26836   \n",
       "August 2859                   24132                   43242   \n",
       "May 2674                      62263                   43596   \n",
       "January 4167                  27576                    9957   \n",
       "February 2424                  1342                    2431   \n",
       "June 4060                      5070                   12046   \n",
       "August 3301                    3463                    1371   \n",
       "June 3213                      5090                   18393   \n",
       "September 3756                17695                   22584   \n",
       "March 2873                    14806                   13185   \n",
       "May 3043                       9177                   12757   \n",
       "November 3975                 11426                   11859   \n",
       "August 2234                   45146                   79761   \n",
       "March 3603                     8428                   69253   \n",
       "June 3846                     15566                   38439   \n",
       "July 3262                     24833                   14164   \n",
       "May 3201                      20868                   11105   \n",
       "February 3230                 40365                   25003   \n",
       "June 4429                     25100                   31576   \n",
       "December 2405                 24905                   22691   \n",
       "October 4369                   5548                   16717   \n",
       "November 3674                  4289                   53143   \n",
       "October 2587                  11720                   43541   \n",
       "August 3439                    9365                   10808   \n",
       "January 3473                  32271                   11847   \n",
       "April 2425                     6259                   82447   \n",
       "February 2196                 44984                   49683   \n",
       "July 2515                      5336                   50090   \n",
       "July 3679                     89129                   42454   \n",
       "June 2969                      5683                    3282   \n",
       "April 2603                    32135                   38346   \n",
       "May 2206                      11977                   28361   \n",
       "September 3085                69439                    7995   \n",
       "July 2873                     19273                    5607   \n",
       "October 3939                   8111                   16355   \n",
       "April 4490                     4718                   16354   \n",
       "January 3472                  25916                    9630   \n",
       "August 3575                   23023                   16731   \n",
       "November 3480                  1289                   37287   \n",
       "October 3632                   9000                   11640   \n",
       "May 3144                       7833                    4914   \n",
       "August 3287                   33575                   63714   \n",
       "July 3495                     28369                    8194   \n",
       "\n",
       "                 SiteOne Landscape Supply   Sunnova Energy  \\\n",
       "0                                                            \n",
       "April 3201                          30215             1763   \n",
       "January 2707                        23568             2364   \n",
       "February 3453                        1212            26113   \n",
       "August 2859                          6798            26349   \n",
       "May 2674                             9272             6880   \n",
       "January 4167                         5629            47512   \n",
       "February 2424                        8968            60213   \n",
       "June 4060                           21332             9306   \n",
       "August 3301                          6738            23275   \n",
       "June 3213                            6131            11456   \n",
       "September 3756                       5026             6549   \n",
       "March 2873                          14363            15959   \n",
       "May 3043                            33238            37031   \n",
       "November 3975                        9043            54050   \n",
       "August 2234                         75780            56379   \n",
       "March 3603                           5026            54119   \n",
       "June 3846                           69817            13907   \n",
       "July 3262                            1053             2390   \n",
       "May 3201                             2521             8804   \n",
       "February 3230                        5661            15280   \n",
       "June 4429                            3827            12559   \n",
       "December 2405                       47278            29524   \n",
       "October 4369                        11337            38687   \n",
       "November 3674                        1834            33336   \n",
       "October 2587                        12196             2155   \n",
       "August 3439                         18671            11543   \n",
       "January 3473                        54275            10872   \n",
       "April 2425                           5569            75669   \n",
       "February 2196                        2440            53121   \n",
       "July 2515                            3757            56055   \n",
       "July 3679                           47068            38897   \n",
       "June 2969                           34647            29827   \n",
       "April 2603                           1869             3458   \n",
       "May 2206                            24994             4067   \n",
       "September 3085                      45501            27907   \n",
       "July 2873                            6745            26971   \n",
       "October 3939                        45247             3648   \n",
       "April 4490                           1121            85969   \n",
       "January 3472                        11112            10844   \n",
       "August 3575                         55111            13419   \n",
       "November 3480                        3174             1056   \n",
       "October 3632                        11158            35409   \n",
       "May 3144                             6338             1235   \n",
       "August 3287                         19189            20610   \n",
       "July 3495                            1743            39316   \n",
       "\n",
       "                 Sparta Healthcare Acquisition   Caesars Entertainment  \\\n",
       "0                                                                        \n",
       "April 3201                               41165                   38213   \n",
       "January 2707                             55812                   29593   \n",
       "February 3453                            76109                   30440   \n",
       "August 2859                              27110                   12866   \n",
       "May 2674                                 47501                   46932   \n",
       "January 4167                              1905                   32879   \n",
       "February 2424                            28983                    6021   \n",
       "June 4060                                 6216                    9641   \n",
       "August 3301                               1886                    2648   \n",
       "June 3213                                26272                    6275   \n",
       "September 3756                           18701                   12270   \n",
       "March 2873                               58448                   14132   \n",
       "May 3043                                 70343                   14432   \n",
       "November 3975                             1032                   75492   \n",
       "August 2234                              11123                   17148   \n",
       "March 3603                               13406                   12177   \n",
       "June 3846                                 7579                   32608   \n",
       "July 3262                                 2100                   78368   \n",
       "May 3201                                 38389                    8409   \n",
       "February 3230                             4492                   57316   \n",
       "June 4429                                74705                   85458   \n",
       "December 2405                            38398                    3554   \n",
       "October 4369                             52341                    4259   \n",
       "November 3674                            21286                   27486   \n",
       "October 2587                             25489                   65999   \n",
       "August 3439                              11099                   55609   \n",
       "January 3473                              4340                    2920   \n",
       "April 2425                                1420                   30328   \n",
       "February 2196                            21184                    4665   \n",
       "July 2515                                52530                   46065   \n",
       "July 3679                                40656                   15670   \n",
       "June 2969                                26227                   44247   \n",
       "April 2603                               35004                    8560   \n",
       "May 2206                                 13795                   13746   \n",
       "September 3085                           39129                   14421   \n",
       "July 2873                                15880                   75820   \n",
       "October 3939                             52195                   13337   \n",
       "April 4490                               10275                   28729   \n",
       "January 3472                             51349                    3437   \n",
       "August 3575                               8716                   23121   \n",
       "November 3480                             5959                   11195   \n",
       "October 3632                              3968                   30810   \n",
       "May 3144                                 44827                    1552   \n",
       "August 3287                              82974                   29411   \n",
       "July 3495                                51189                   41492   \n",
       "\n",
       "                 Smart Share Global   Tuniu Corporation  \n",
       "0                                                        \n",
       "April 3201                    29493               13644  \n",
       "January 2707                   5608               39838  \n",
       "February 3453                 17078               45733  \n",
       "August 2859                   22631                8593  \n",
       "May 2674                      31608               17057  \n",
       "January 4167                  13502               57381  \n",
       "February 2424                  7632                3424  \n",
       "June 4060                      5656               11425  \n",
       "August 3301                    1326                4682  \n",
       "June 3213                      8953               36893  \n",
       "September 3756                11010               67018  \n",
       "March 2873                    13106               31624  \n",
       "May 3043                      13013               14306  \n",
       "November 3975                 26693               19844  \n",
       "August 2234                   20936               20227  \n",
       "March 3603                    17777                9912  \n",
       "June 3846                     38875               38452  \n",
       "July 3262                      1081               31324  \n",
       "May 3201                       1186               80439  \n",
       "February 3230                 65200               11947  \n",
       "June 4429                     45363               57870  \n",
       "December 2405                 49856               36141  \n",
       "October 4369                  25395               56578  \n",
       "November 3674                 51341               20069  \n",
       "October 2587                  22080               47182  \n",
       "August 3439                   29367               19719  \n",
       "January 3473                   1809                7740  \n",
       "April 2425                     3954               20946  \n",
       "February 2196                 20286               24468  \n",
       "July 2515                     29536               66222  \n",
       "July 3679                     39325                1060  \n",
       "June 2969                      7827                1083  \n",
       "April 2603                    73637               52419  \n",
       "May 2206                       8564               24775  \n",
       "September 3085                33377                4444  \n",
       "July 2873                      3920               18368  \n",
       "October 3939                   5198               66025  \n",
       "April 4490                    21122               60880  \n",
       "January 3472                   1314               43262  \n",
       "August 3575                    2965               34955  \n",
       "November 3480                 36042               21134  \n",
       "October 3632                   3244               49532  \n",
       "May 3144                      20850               23008  \n",
       "August 3287                   29592               19837  \n",
       "July 3495                      1429                8749  "
      ]
     },
     "execution_count": 715,
     "metadata": {},
     "output_type": "execute_result"
    }
   ],
   "source": [
    "df.sample(45)"
   ]
  },
  {
   "cell_type": "code",
   "execution_count": 713,
   "metadata": {
    "ExecuteTime": {
     "end_time": "2021-08-04T12:12:28.090900Z",
     "start_time": "2021-08-04T12:12:28.072946Z"
    }
   },
   "outputs": [
    {
     "name": "stdout",
     "output_type": "stream",
     "text": [
      "-1.74\n",
      "3.03\n",
      "-4.02\n",
      "1.35\n",
      "-1.16\n",
      "0.6\n",
      "0.87\n",
      "3.31\n",
      "-3.41\n",
      "0.0\n",
      "0.0\n",
      "-0.68\n",
      "2.07\n",
      "1.03\n",
      "-2.11\n",
      "-1.26\n",
      "6.24\n",
      "-4.97\n",
      "-1.49\n",
      "-0.15\n",
      "0.0\n",
      "1.78\n",
      "0.53\n",
      "-0.46\n",
      "0.0\n",
      "0.65\n",
      "-0.71\n",
      "-0.78\n",
      "-3.31\n",
      "1.45\n",
      "-1.59\n",
      "0.0\n",
      "6.25\n",
      "-2.52\n",
      "0.0\n",
      "9.04\n",
      "-1.52\n",
      "-0.19\n",
      "-2.67\n",
      "-0.29\n",
      "-0.72\n",
      "0.0\n",
      "-6.58\n",
      "0.31\n",
      "0.0\n",
      "-2.31\n",
      "0.29\n",
      "0.57\n",
      "0.0\n",
      "7.55\n",
      "-2.17\n",
      "7.45\n",
      "-2.85\n",
      "-2.74\n",
      "0.66\n",
      "0.4\n",
      "1.42\n",
      "2.08\n",
      "3.01\n",
      "-0.58\n",
      "-1.31\n",
      "0.27\n",
      "-7.11\n",
      "-0.87\n",
      "0.0\n",
      "0.0\n",
      "-0.81\n",
      "-7.88\n",
      "-4.2\n",
      "-11.47\n",
      "-4.1\n",
      "2.73\n",
      "5.57\n",
      "-0.64\n",
      "-1.67\n",
      "0.0\n",
      "-0.72\n",
      "0.06\n",
      "5.41\n",
      "4.11\n",
      "-1.76\n",
      "-0.43\n",
      "1.24\n",
      "-1.24\n",
      "0.0\n",
      "0.75\n",
      "-1.48\n",
      "-4.92\n",
      "4.7\n",
      "3.91\n",
      "-2.06\n",
      "1.07\n",
      "-2.39\n",
      "1.14\n",
      "-1.16\n",
      "-0.69\n",
      "-2.37\n",
      "5.17\n",
      "-0.74\n",
      "-2.57\n"
     ]
    }
   ],
   "source": [
    "from random import gauss\n",
    "from random import uniform\n",
    "for i in range(100):\n",
    "    print(round(gauss(0,randint(0,5)),2))\n"
   ]
  },
  {
   "cell_type": "code",
   "execution_count": 627,
   "metadata": {
    "ExecuteTime": {
     "end_time": "2021-08-02T19:24:40.645873Z",
     "start_time": "2021-08-02T19:24:40.617615Z"
    }
   },
   "outputs": [
    {
     "ename": "KeyError",
     "evalue": "'0'",
     "output_type": "error",
     "traceback": [
      "\u001b[1;31m---------------------------------------------------------------------------\u001b[0m",
      "\u001b[1;31mKeyError\u001b[0m                                  Traceback (most recent call last)",
      "\u001b[1;32m<ipython-input-627-6fc41a83bc30>\u001b[0m in \u001b[0;36m<module>\u001b[1;34m\u001b[0m\n\u001b[1;32m----> 1\u001b[1;33m \u001b[0mallcities2\u001b[0m\u001b[1;33m[\u001b[0m\u001b[1;34m'0'\u001b[0m\u001b[1;33m]\u001b[0m\u001b[1;33m\u001b[0m\u001b[1;33m\u001b[0m\u001b[0m\n\u001b[0m",
      "\u001b[1;32m~\\anaconda3\\lib\\site-packages\\pandas\\core\\series.py\u001b[0m in \u001b[0;36m__getitem__\u001b[1;34m(self, key)\u001b[0m\n\u001b[0;32m    880\u001b[0m \u001b[1;33m\u001b[0m\u001b[0m\n\u001b[0;32m    881\u001b[0m         \u001b[1;32melif\u001b[0m \u001b[0mkey_is_scalar\u001b[0m\u001b[1;33m:\u001b[0m\u001b[1;33m\u001b[0m\u001b[1;33m\u001b[0m\u001b[0m\n\u001b[1;32m--> 882\u001b[1;33m             \u001b[1;32mreturn\u001b[0m \u001b[0mself\u001b[0m\u001b[1;33m.\u001b[0m\u001b[0m_get_value\u001b[0m\u001b[1;33m(\u001b[0m\u001b[0mkey\u001b[0m\u001b[1;33m)\u001b[0m\u001b[1;33m\u001b[0m\u001b[1;33m\u001b[0m\u001b[0m\n\u001b[0m\u001b[0;32m    883\u001b[0m \u001b[1;33m\u001b[0m\u001b[0m\n\u001b[0;32m    884\u001b[0m         \u001b[1;32mif\u001b[0m \u001b[0mis_hashable\u001b[0m\u001b[1;33m(\u001b[0m\u001b[0mkey\u001b[0m\u001b[1;33m)\u001b[0m\u001b[1;33m:\u001b[0m\u001b[1;33m\u001b[0m\u001b[1;33m\u001b[0m\u001b[0m\n",
      "\u001b[1;32m~\\anaconda3\\lib\\site-packages\\pandas\\core\\series.py\u001b[0m in \u001b[0;36m_get_value\u001b[1;34m(self, label, takeable)\u001b[0m\n\u001b[0;32m    987\u001b[0m \u001b[1;33m\u001b[0m\u001b[0m\n\u001b[0;32m    988\u001b[0m         \u001b[1;31m# Similar to Index.get_value, but we do not fall back to positional\u001b[0m\u001b[1;33m\u001b[0m\u001b[1;33m\u001b[0m\u001b[1;33m\u001b[0m\u001b[0m\n\u001b[1;32m--> 989\u001b[1;33m         \u001b[0mloc\u001b[0m \u001b[1;33m=\u001b[0m \u001b[0mself\u001b[0m\u001b[1;33m.\u001b[0m\u001b[0mindex\u001b[0m\u001b[1;33m.\u001b[0m\u001b[0mget_loc\u001b[0m\u001b[1;33m(\u001b[0m\u001b[0mlabel\u001b[0m\u001b[1;33m)\u001b[0m\u001b[1;33m\u001b[0m\u001b[1;33m\u001b[0m\u001b[0m\n\u001b[0m\u001b[0;32m    990\u001b[0m         \u001b[1;32mreturn\u001b[0m \u001b[0mself\u001b[0m\u001b[1;33m.\u001b[0m\u001b[0mindex\u001b[0m\u001b[1;33m.\u001b[0m\u001b[0m_get_values_for_loc\u001b[0m\u001b[1;33m(\u001b[0m\u001b[0mself\u001b[0m\u001b[1;33m,\u001b[0m \u001b[0mloc\u001b[0m\u001b[1;33m,\u001b[0m \u001b[0mlabel\u001b[0m\u001b[1;33m)\u001b[0m\u001b[1;33m\u001b[0m\u001b[1;33m\u001b[0m\u001b[0m\n\u001b[0;32m    991\u001b[0m \u001b[1;33m\u001b[0m\u001b[0m\n",
      "\u001b[1;32m~\\anaconda3\\lib\\site-packages\\pandas\\core\\indexes\\range.py\u001b[0m in \u001b[0;36mget_loc\u001b[1;34m(self, key, method, tolerance)\u001b[0m\n\u001b[0;32m    356\u001b[0m                 \u001b[1;32mexcept\u001b[0m \u001b[0mValueError\u001b[0m \u001b[1;32mas\u001b[0m \u001b[0merr\u001b[0m\u001b[1;33m:\u001b[0m\u001b[1;33m\u001b[0m\u001b[1;33m\u001b[0m\u001b[0m\n\u001b[0;32m    357\u001b[0m                     \u001b[1;32mraise\u001b[0m \u001b[0mKeyError\u001b[0m\u001b[1;33m(\u001b[0m\u001b[0mkey\u001b[0m\u001b[1;33m)\u001b[0m \u001b[1;32mfrom\u001b[0m \u001b[0merr\u001b[0m\u001b[1;33m\u001b[0m\u001b[1;33m\u001b[0m\u001b[0m\n\u001b[1;32m--> 358\u001b[1;33m             \u001b[1;32mraise\u001b[0m \u001b[0mKeyError\u001b[0m\u001b[1;33m(\u001b[0m\u001b[0mkey\u001b[0m\u001b[1;33m)\u001b[0m\u001b[1;33m\u001b[0m\u001b[1;33m\u001b[0m\u001b[0m\n\u001b[0m\u001b[0;32m    359\u001b[0m         \u001b[1;32mreturn\u001b[0m \u001b[0msuper\u001b[0m\u001b[1;33m(\u001b[0m\u001b[1;33m)\u001b[0m\u001b[1;33m.\u001b[0m\u001b[0mget_loc\u001b[0m\u001b[1;33m(\u001b[0m\u001b[0mkey\u001b[0m\u001b[1;33m,\u001b[0m \u001b[0mmethod\u001b[0m\u001b[1;33m=\u001b[0m\u001b[0mmethod\u001b[0m\u001b[1;33m,\u001b[0m \u001b[0mtolerance\u001b[0m\u001b[1;33m=\u001b[0m\u001b[0mtolerance\u001b[0m\u001b[1;33m)\u001b[0m\u001b[1;33m\u001b[0m\u001b[1;33m\u001b[0m\u001b[0m\n\u001b[0;32m    360\u001b[0m \u001b[1;33m\u001b[0m\u001b[0m\n",
      "\u001b[1;31mKeyError\u001b[0m: '0'"
     ]
    }
   ],
   "source": [
    "allcities2['0']"
   ]
  },
  {
   "cell_type": "code",
   "execution_count": 590,
   "metadata": {
    "ExecuteTime": {
     "end_time": "2021-08-02T14:54:26.020564Z",
     "start_time": "2021-08-02T14:54:25.896001Z"
    }
   },
   "outputs": [
    {
     "ename": "KeyError",
     "evalue": "'\"city\"'",
     "output_type": "error",
     "traceback": [
      "\u001b[1;31m---------------------------------------------------------------------------\u001b[0m",
      "\u001b[1;31mKeyError\u001b[0m                                  Traceback (most recent call last)",
      "\u001b[1;32m~\\anaconda3\\lib\\site-packages\\pandas\\core\\indexes\\base.py\u001b[0m in \u001b[0;36mget_loc\u001b[1;34m(self, key, method, tolerance)\u001b[0m\n\u001b[0;32m   2894\u001b[0m             \u001b[1;32mtry\u001b[0m\u001b[1;33m:\u001b[0m\u001b[1;33m\u001b[0m\u001b[1;33m\u001b[0m\u001b[0m\n\u001b[1;32m-> 2895\u001b[1;33m                 \u001b[1;32mreturn\u001b[0m \u001b[0mself\u001b[0m\u001b[1;33m.\u001b[0m\u001b[0m_engine\u001b[0m\u001b[1;33m.\u001b[0m\u001b[0mget_loc\u001b[0m\u001b[1;33m(\u001b[0m\u001b[0mcasted_key\u001b[0m\u001b[1;33m)\u001b[0m\u001b[1;33m\u001b[0m\u001b[1;33m\u001b[0m\u001b[0m\n\u001b[0m\u001b[0;32m   2896\u001b[0m             \u001b[1;32mexcept\u001b[0m \u001b[0mKeyError\u001b[0m \u001b[1;32mas\u001b[0m \u001b[0merr\u001b[0m\u001b[1;33m:\u001b[0m\u001b[1;33m\u001b[0m\u001b[1;33m\u001b[0m\u001b[0m\n",
      "\u001b[1;32mpandas\\_libs\\index.pyx\u001b[0m in \u001b[0;36mpandas._libs.index.IndexEngine.get_loc\u001b[1;34m()\u001b[0m\n",
      "\u001b[1;32mpandas\\_libs\\index.pyx\u001b[0m in \u001b[0;36mpandas._libs.index.IndexEngine.get_loc\u001b[1;34m()\u001b[0m\n",
      "\u001b[1;32mpandas\\_libs\\hashtable_class_helper.pxi\u001b[0m in \u001b[0;36mpandas._libs.hashtable.PyObjectHashTable.get_item\u001b[1;34m()\u001b[0m\n",
      "\u001b[1;32mpandas\\_libs\\hashtable_class_helper.pxi\u001b[0m in \u001b[0;36mpandas._libs.hashtable.PyObjectHashTable.get_item\u001b[1;34m()\u001b[0m\n",
      "\u001b[1;31mKeyError\u001b[0m: '\"city\"'",
      "\nThe above exception was the direct cause of the following exception:\n",
      "\u001b[1;31mKeyError\u001b[0m                                  Traceback (most recent call last)",
      "\u001b[1;32m<ipython-input-590-d3c9dd186482>\u001b[0m in \u001b[0;36m<module>\u001b[1;34m\u001b[0m\n\u001b[0;32m      3\u001b[0m \u001b[0mallcities2_list\u001b[0m \u001b[1;33m=\u001b[0m \u001b[1;33m[\u001b[0m\u001b[1;33m]\u001b[0m\u001b[1;33m\u001b[0m\u001b[1;33m\u001b[0m\u001b[0m\n\u001b[0;32m      4\u001b[0m \u001b[1;32mfor\u001b[0m \u001b[0mi\u001b[0m \u001b[1;32min\u001b[0m \u001b[0mrange\u001b[0m\u001b[1;33m(\u001b[0m\u001b[0mlen\u001b[0m\u001b[1;33m(\u001b[0m\u001b[0mallcities2\u001b[0m\u001b[1;33m)\u001b[0m\u001b[1;33m)\u001b[0m\u001b[1;33m:\u001b[0m\u001b[1;33m\u001b[0m\u001b[1;33m\u001b[0m\u001b[0m\n\u001b[1;32m----> 5\u001b[1;33m      \u001b[0mallcities2_list\u001b[0m\u001b[1;33m.\u001b[0m\u001b[0mappend\u001b[0m\u001b[1;33m(\u001b[0m\u001b[0mallcities2\u001b[0m\u001b[1;33m[\u001b[0m\u001b[1;34m'\"city\"'\u001b[0m\u001b[1;33m]\u001b[0m\u001b[1;33m[\u001b[0m\u001b[0mi\u001b[0m\u001b[1;33m]\u001b[0m\u001b[1;33m.\u001b[0m\u001b[0mreplace\u001b[0m\u001b[1;33m(\u001b[0m\u001b[1;34m'\"'\u001b[0m\u001b[1;33m,\u001b[0m\u001b[1;34m\"\"\u001b[0m\u001b[1;33m)\u001b[0m\u001b[1;33m)\u001b[0m\u001b[1;33m\u001b[0m\u001b[1;33m\u001b[0m\u001b[0m\n\u001b[0m\u001b[0;32m      6\u001b[0m \u001b[1;33m\u001b[0m\u001b[0m\n\u001b[0;32m      7\u001b[0m \u001b[0mall_cities\u001b[0m \u001b[1;33m=\u001b[0m \u001b[0mpd\u001b[0m\u001b[1;33m.\u001b[0m\u001b[0mDataFrame\u001b[0m\u001b[1;33m(\u001b[0m\u001b[0mallcities2_list\u001b[0m\u001b[1;33m)\u001b[0m\u001b[1;33m\u001b[0m\u001b[1;33m\u001b[0m\u001b[0m\n",
      "\u001b[1;32m~\\anaconda3\\lib\\site-packages\\pandas\\core\\frame.py\u001b[0m in \u001b[0;36m__getitem__\u001b[1;34m(self, key)\u001b[0m\n\u001b[0;32m   2900\u001b[0m             \u001b[1;32mif\u001b[0m \u001b[0mself\u001b[0m\u001b[1;33m.\u001b[0m\u001b[0mcolumns\u001b[0m\u001b[1;33m.\u001b[0m\u001b[0mnlevels\u001b[0m \u001b[1;33m>\u001b[0m \u001b[1;36m1\u001b[0m\u001b[1;33m:\u001b[0m\u001b[1;33m\u001b[0m\u001b[1;33m\u001b[0m\u001b[0m\n\u001b[0;32m   2901\u001b[0m                 \u001b[1;32mreturn\u001b[0m \u001b[0mself\u001b[0m\u001b[1;33m.\u001b[0m\u001b[0m_getitem_multilevel\u001b[0m\u001b[1;33m(\u001b[0m\u001b[0mkey\u001b[0m\u001b[1;33m)\u001b[0m\u001b[1;33m\u001b[0m\u001b[1;33m\u001b[0m\u001b[0m\n\u001b[1;32m-> 2902\u001b[1;33m             \u001b[0mindexer\u001b[0m \u001b[1;33m=\u001b[0m \u001b[0mself\u001b[0m\u001b[1;33m.\u001b[0m\u001b[0mcolumns\u001b[0m\u001b[1;33m.\u001b[0m\u001b[0mget_loc\u001b[0m\u001b[1;33m(\u001b[0m\u001b[0mkey\u001b[0m\u001b[1;33m)\u001b[0m\u001b[1;33m\u001b[0m\u001b[1;33m\u001b[0m\u001b[0m\n\u001b[0m\u001b[0;32m   2903\u001b[0m             \u001b[1;32mif\u001b[0m \u001b[0mis_integer\u001b[0m\u001b[1;33m(\u001b[0m\u001b[0mindexer\u001b[0m\u001b[1;33m)\u001b[0m\u001b[1;33m:\u001b[0m\u001b[1;33m\u001b[0m\u001b[1;33m\u001b[0m\u001b[0m\n\u001b[0;32m   2904\u001b[0m                 \u001b[0mindexer\u001b[0m \u001b[1;33m=\u001b[0m \u001b[1;33m[\u001b[0m\u001b[0mindexer\u001b[0m\u001b[1;33m]\u001b[0m\u001b[1;33m\u001b[0m\u001b[1;33m\u001b[0m\u001b[0m\n",
      "\u001b[1;32m~\\anaconda3\\lib\\site-packages\\pandas\\core\\indexes\\base.py\u001b[0m in \u001b[0;36mget_loc\u001b[1;34m(self, key, method, tolerance)\u001b[0m\n\u001b[0;32m   2895\u001b[0m                 \u001b[1;32mreturn\u001b[0m \u001b[0mself\u001b[0m\u001b[1;33m.\u001b[0m\u001b[0m_engine\u001b[0m\u001b[1;33m.\u001b[0m\u001b[0mget_loc\u001b[0m\u001b[1;33m(\u001b[0m\u001b[0mcasted_key\u001b[0m\u001b[1;33m)\u001b[0m\u001b[1;33m\u001b[0m\u001b[1;33m\u001b[0m\u001b[0m\n\u001b[0;32m   2896\u001b[0m             \u001b[1;32mexcept\u001b[0m \u001b[0mKeyError\u001b[0m \u001b[1;32mas\u001b[0m \u001b[0merr\u001b[0m\u001b[1;33m:\u001b[0m\u001b[1;33m\u001b[0m\u001b[1;33m\u001b[0m\u001b[0m\n\u001b[1;32m-> 2897\u001b[1;33m                 \u001b[1;32mraise\u001b[0m \u001b[0mKeyError\u001b[0m\u001b[1;33m(\u001b[0m\u001b[0mkey\u001b[0m\u001b[1;33m)\u001b[0m \u001b[1;32mfrom\u001b[0m \u001b[0merr\u001b[0m\u001b[1;33m\u001b[0m\u001b[1;33m\u001b[0m\u001b[0m\n\u001b[0m\u001b[0;32m   2898\u001b[0m \u001b[1;33m\u001b[0m\u001b[0m\n\u001b[0;32m   2899\u001b[0m         \u001b[1;32mif\u001b[0m \u001b[0mtolerance\u001b[0m \u001b[1;32mis\u001b[0m \u001b[1;32mnot\u001b[0m \u001b[1;32mNone\u001b[0m\u001b[1;33m:\u001b[0m\u001b[1;33m\u001b[0m\u001b[1;33m\u001b[0m\u001b[0m\n",
      "\u001b[1;31mKeyError\u001b[0m: '\"city\"'"
     ]
    }
   ],
   "source": [
    "allcities2 = pd.read_csv('all_cities.csv')\n",
    "\n",
    "allcities2_list = []\n",
    "for i in range(len(allcities2)):\n",
    "     allcities2_list.append(allcities2['\"city\"'][i].replace('\"',\"\"))\n",
    "    \n",
    "all_cities = pd.DataFrame(allcities2_list)\n",
    "all_cities.to_csv('all_cities.csv')"
   ]
  },
  {
   "cell_type": "code",
   "execution_count": 599,
   "metadata": {
    "ExecuteTime": {
     "end_time": "2021-08-02T15:05:38.023146Z",
     "start_time": "2021-08-02T15:05:37.877516Z"
    }
   },
   "outputs": [],
   "source": [
    "allcities2 = pd.read_csv('all_cities.csv')\n",
    "allcities2 = allcities2.drop(['Unnamed: 0'],axis=1)\n",
    "allcities2.columns = ['cities']\n",
    "all_cities.to_csv('allcities2.csv')"
   ]
  },
  {
   "cell_type": "code",
   "execution_count": 608,
   "metadata": {
    "ExecuteTime": {
     "end_time": "2021-08-02T19:22:48.871263Z",
     "start_time": "2021-08-02T19:13:37.348009Z"
    }
   },
   "outputs": [
    {
     "ename": "KeyboardInterrupt",
     "evalue": "Interrupted by user",
     "output_type": "error",
     "traceback": [
      "\u001b[1;31m---------------------------------------------------------------------------\u001b[0m",
      "\u001b[1;31mKeyboardInterrupt\u001b[0m                         Traceback (most recent call last)",
      "\u001b[1;32m<ipython-input-608-332ea2e2c6ba>\u001b[0m in \u001b[0;36m<module>\u001b[1;34m\u001b[0m\n\u001b[1;32m----> 1\u001b[1;33m \u001b[0mrename_index\u001b[0m \u001b[1;33m=\u001b[0m \u001b[0minput\u001b[0m\u001b[1;33m(\u001b[0m\u001b[1;34m'\\nRename index manually? : '\u001b[0m\u001b[1;33m)\u001b[0m\u001b[1;33m\u001b[0m\u001b[1;33m\u001b[0m\u001b[0m\n\u001b[0m\u001b[0;32m      2\u001b[0m \u001b[0mprint\u001b[0m\u001b[1;33m(\u001b[0m\u001b[1;34m'\\n'\u001b[0m\u001b[1;33m)\u001b[0m\u001b[1;33m\u001b[0m\u001b[1;33m\u001b[0m\u001b[0m\n\u001b[0;32m      3\u001b[0m \u001b[1;32mif\u001b[0m \u001b[0mrename_index\u001b[0m\u001b[1;33m.\u001b[0m\u001b[0mlower\u001b[0m\u001b[1;33m(\u001b[0m\u001b[1;33m)\u001b[0m \u001b[1;33m==\u001b[0m \u001b[1;33m(\u001b[0m\u001b[1;34m'Y'\u001b[0m\u001b[1;33m)\u001b[0m\u001b[1;33m.\u001b[0m\u001b[0mlower\u001b[0m\u001b[1;33m(\u001b[0m\u001b[1;33m)\u001b[0m\u001b[1;33m:\u001b[0m\u001b[1;33m\u001b[0m\u001b[1;33m\u001b[0m\u001b[0m\n\u001b[0;32m      4\u001b[0m     \u001b[0midx_list\u001b[0m \u001b[1;33m=\u001b[0m \u001b[1;33m[\u001b[0m\u001b[1;33m]\u001b[0m\u001b[1;33m\u001b[0m\u001b[1;33m\u001b[0m\u001b[0m\n\u001b[0;32m      5\u001b[0m     \u001b[1;32mif\u001b[0m \u001b[0mlen\u001b[0m\u001b[1;33m(\u001b[0m\u001b[0midx_list\u001b[0m\u001b[1;33m)\u001b[0m \u001b[1;33m<=\u001b[0m \u001b[0mlen\u001b[0m\u001b[1;33m(\u001b[0m\u001b[0mdf\u001b[0m\u001b[1;33m)\u001b[0m\u001b[1;33m:\u001b[0m\u001b[1;33m\u001b[0m\u001b[1;33m\u001b[0m\u001b[0m\n",
      "\u001b[1;32m~\\anaconda3\\lib\\site-packages\\ipykernel\\kernelbase.py\u001b[0m in \u001b[0;36mraw_input\u001b[1;34m(self, prompt)\u001b[0m\n\u001b[0;32m    858\u001b[0m                 \u001b[1;34m\"raw_input was called, but this frontend does not support input requests.\"\u001b[0m\u001b[1;33m\u001b[0m\u001b[1;33m\u001b[0m\u001b[0m\n\u001b[0;32m    859\u001b[0m             )\n\u001b[1;32m--> 860\u001b[1;33m         return self._input_request(str(prompt),\n\u001b[0m\u001b[0;32m    861\u001b[0m             \u001b[0mself\u001b[0m\u001b[1;33m.\u001b[0m\u001b[0m_parent_ident\u001b[0m\u001b[1;33m,\u001b[0m\u001b[1;33m\u001b[0m\u001b[1;33m\u001b[0m\u001b[0m\n\u001b[0;32m    862\u001b[0m             \u001b[0mself\u001b[0m\u001b[1;33m.\u001b[0m\u001b[0m_parent_header\u001b[0m\u001b[1;33m,\u001b[0m\u001b[1;33m\u001b[0m\u001b[1;33m\u001b[0m\u001b[0m\n",
      "\u001b[1;32m~\\anaconda3\\lib\\site-packages\\ipykernel\\kernelbase.py\u001b[0m in \u001b[0;36m_input_request\u001b[1;34m(self, prompt, ident, parent, password)\u001b[0m\n\u001b[0;32m    902\u001b[0m             \u001b[1;32mexcept\u001b[0m \u001b[0mKeyboardInterrupt\u001b[0m\u001b[1;33m:\u001b[0m\u001b[1;33m\u001b[0m\u001b[1;33m\u001b[0m\u001b[0m\n\u001b[0;32m    903\u001b[0m                 \u001b[1;31m# re-raise KeyboardInterrupt, to truncate traceback\u001b[0m\u001b[1;33m\u001b[0m\u001b[1;33m\u001b[0m\u001b[1;33m\u001b[0m\u001b[0m\n\u001b[1;32m--> 904\u001b[1;33m                 \u001b[1;32mraise\u001b[0m \u001b[0mKeyboardInterrupt\u001b[0m\u001b[1;33m(\u001b[0m\u001b[1;34m\"Interrupted by user\"\u001b[0m\u001b[1;33m)\u001b[0m \u001b[1;32mfrom\u001b[0m \u001b[1;32mNone\u001b[0m\u001b[1;33m\u001b[0m\u001b[1;33m\u001b[0m\u001b[0m\n\u001b[0m\u001b[0;32m    905\u001b[0m             \u001b[1;32mexcept\u001b[0m \u001b[0mException\u001b[0m \u001b[1;32mas\u001b[0m \u001b[0me\u001b[0m\u001b[1;33m:\u001b[0m\u001b[1;33m\u001b[0m\u001b[1;33m\u001b[0m\u001b[0m\n\u001b[0;32m    906\u001b[0m                 \u001b[0mself\u001b[0m\u001b[1;33m.\u001b[0m\u001b[0mlog\u001b[0m\u001b[1;33m.\u001b[0m\u001b[0mwarning\u001b[0m\u001b[1;33m(\u001b[0m\u001b[1;34m\"Invalid Message:\"\u001b[0m\u001b[1;33m,\u001b[0m \u001b[0mexc_info\u001b[0m\u001b[1;33m=\u001b[0m\u001b[1;32mTrue\u001b[0m\u001b[1;33m)\u001b[0m\u001b[1;33m\u001b[0m\u001b[1;33m\u001b[0m\u001b[0m\n",
      "\u001b[1;31mKeyboardInterrupt\u001b[0m: Interrupted by user"
     ]
    }
   ],
   "source": [
    "rename_index = input('\\nRename index manually? : ')\n",
    "print('\\n')\n",
    "if rename_index.lower() == ('Y').lower():\n",
    "    idx_list = []\n",
    "    if len(idx_list) <= len(df):\n",
    "        for i in range(len(df)):\n",
    "            print('\\n')\n",
    "            print('Rename index',i+1,':')\n",
    "            idx_name = input(' ')\n",
    "            print('index',i+1,'has been renamed',idx_name,'\\n')\n",
    "            idx_list.append(idx_name)\n",
    "        df = pd.DataFrame(df)\n",
    "        idx_list = pd.DataFrame(idx_list)\n",
    "        df = pd.concat([df, idx_list[0]],axis=1)\n",
    "        df = df.set_index(0)\n",
    "        display(df)\n",
    "    else:\n",
    "        idx_name = input('index Name :')\n",
    "elif rename_index.lower() == ('N').lower():\n",
    "    auto_rename = input('\\nAutomatically rename index ? : ')\n",
    "    if auto_rename.lower() == ('Y').lower():\n",
    "        type_rename= int(input('How do you want to rename index :\\n     - (1) First names (248420 items)\\n     - (2) Cities (41001 items)\\n     - (3) Stock Market Symbol (6771 items)\\n     - (4) Company Names (6771 items)\\n     - (5) Date (Inf. items)\\n'))\n",
    "        if type_rename == int(1):\n",
    "            name = pd.read_csv('firstforename.csv')\n",
    "            name = name['FirstForename']\n",
    "            name_list = []\n",
    "            for i in range(len(df)):\n",
    "                name_list.append(str(name.sample(1)).split('\\nName')[0].split(\"  \")[2].lstrip())\n",
    "            df = pd.DataFrame(df)\n",
    "            name_list = pd.DataFrame(name_list)\n",
    "            df = pd.concat([df, name_list],axis=1)\n",
    "            df = df.set_index(0)\n",
    "        elif type_rename == int(2):\n",
    "            allcities2 = pd.read_csv('allcities2.csv')\n",
    "            random_city = []\n",
    "            for i in range(len(df)):\n",
    "                random_city.append(str(allcities2.sample(1)).split('\\nName')[0].split(\"  \")[2].lstrip())\n",
    "            df = pd.DataFrame(df)\n",
    "            random_city = pd.DataFrame(random_city)\n",
    "            df = pd.concat([df, random_city],axis=1)\n",
    "            df = df.set_index(0)\n",
    "        elif type_rename == int(3):\n",
    "            market = pd.read_csv('market_symbols.csv')\n",
    "            mkt_symbols = market['Symbols']\n",
    "            symbols_list = []\n",
    "            for i in range(len(df)):\n",
    "                symbols_list.append(str(mkt_symbols.sample(1)).split('\\nName')[0].split(\"  \")[2].lstrip())\n",
    "            df = pd.DataFrame(df)\n",
    "            symbols_list = pd.DataFrame(symbols_list)\n",
    "            df = pd.concat([df, symbols_list],axis=1)\n",
    "            df = df.set_index(0)\n",
    "        elif type_rename == int(4):\n",
    "            companies = pd.read_csv('company_names.csv')\n",
    "            company = companies['Company']\n",
    "            company_list = []\n",
    "            for i in range(len(df)):\n",
    "                company_list.append(str(company_list.sample(1)).split('\\nName')[0].split(\"  \")[2].lstrip())\n",
    "            df = pd.DataFrame(df)\n",
    "            company_list = pd.DataFrame(company_list)\n",
    "            df = pd.concat([df, company_list],axis=1)\n",
    "            df = df.set_index(0)\n",
    "        elif type_rename == int(5):\n",
    "            years_list = []\n",
    "            months_list = []\n",
    "            days_list = []\n",
    "            choice = int(input('Choose your range of date :\\n     - (1) Year\\n     - (2) Month\\n     - (3) Days\\n'))\n",
    "            #('y').lower() == 'year'\n",
    "            #('m').lower() == 'month' \n",
    "            #('d').lower() == 'days' \n",
    "\n",
    "            if choice == int(1):\n",
    "                year = int(input('Start Year :'))\n",
    "                date = datetime(year,1,1)\n",
    "                for i in range(len(df)):\n",
    "                    date += relativedelta(years=1)\n",
    "                    years_list.append(date.strftime('%Y'))\n",
    "                years_list = pd.DataFrame(years_list)\n",
    "                df = pd.DataFrame(df)\n",
    "                df = pd.concat([df, years_list],axis=1)\n",
    "                df = df.set_index(0)\n",
    "            elif choice == int(2):\n",
    "                year = int(input('Start Year :'))\n",
    "                month = int(input('Start Month (1 to 12) :'))\n",
    "                date = datetime(year,month,1)\n",
    "                for i in range(len(df)):\n",
    "                    date += relativedelta(months=1)\n",
    "                    months_list.append(date.strftime('%B %Y'))\n",
    "                df = pd.DataFrame(df)\n",
    "                months_list = pd.DataFrame(months_list)\n",
    "                df = pd.concat([df, months_list],axis=1)\n",
    "                df = df.set_index(0)\n",
    "            elif choice == int(3):\n",
    "                year = int(input('Start Year :'))\n",
    "                month = int(input('Start Month (1 to 12) :'))\n",
    "                date = datetime(year,month,1)\n",
    "                print('\\nDate will be started on the 1st day of the month.')\n",
    "                days_list.append(date.strftime('%a.%d/%m/%Y'))\n",
    "                for i in range(len(df)):\n",
    "                    date += relativedelta(days=1)\n",
    "                    days_list.append(date.strftime('%a.%d/%m/%Y'))\n",
    "                days_list.remove(date.strftime('%a.%d/%m/%Y'))\n",
    "                df = pd.DataFrame(df)\n",
    "                days_list = pd.DataFrame(0)\n",
    "                df = pd.concat([df, days_list],axis=1)\n",
    "                df = df.set_index(0) \n",
    "            else:\n",
    "                choice = int(input('Choose your range of date :\\n     - (1) Year\\n     - (2) Month\\n     - (3) Days\\n'))        \n",
    "    elif rename_index.lower() == ('N').lower():\n",
    "        pass\n",
    "    else:\n",
    "        auto_rename = input('\\nAutomatically rename index ? : ')\n",
    "elif rename_index.lower() != ('N').lower() | rename_index.lower() != ('Y').lower():\n",
    "    rename_index = input('Wrong type. Please type Y of N.\\nRename index ? : ')\n",
    "else:\n",
    "    df = pd.DataFrame(df)\n",
    "    pass\n",
    "rename_index = input('\\nRename index manually? : ')\n",
    "print('\\n')\n",
    "if rename_index.lower() == ('Y').lower():\n",
    "    idx_list = []\n",
    "    if len(idx_list) <= len(df):\n",
    "        for i in range(len(df)):\n",
    "            print('\\n')\n",
    "            print('Rename index',i+1,':')\n",
    "            idx_name = input(' ')\n",
    "            print('index',i+1,'has been renamed',idx_name,'\\n')\n",
    "            idx_list.append(idx_name)\n",
    "        df = pd.DataFrame(df)\n",
    "        idx_list = pd.DataFrame(idx_list)\n",
    "        df = pd.concat([df, idx_list[0]],axis=1)\n",
    "        df = df.set_index(0)\n",
    "        display(df)\n",
    "    else:\n",
    "        idx_name = input('index Name :')\n",
    "elif rename_index.lower() == ('N').lower():\n",
    "    auto_rename = input('\\nAutomatically rename index ? : ')\n",
    "    if auto_rename.lower() == ('Y').lower():\n",
    "        type_rename= int(input('How do you want to rename index :\\n     - (1) First names (248420 items)\\n     - (2) Cities (41001 items)\\n     - (3) Stock Market Symbol (6771 items)\\n     - (4) Company Names (6771 items)\\n     - (5) Date (Inf. items)\\n'))\n",
    "        if type_rename == int(1):\n",
    "            name = pd.read_csv('firstforename.csv')\n",
    "            name = name['FirstForename']\n",
    "            name_list = []\n",
    "            for i in range(len(df)):\n",
    "                name_list.append(str(name.sample(1)).split('\\nName')[0].split(\"  \")[2].lstrip())\n",
    "            df = pd.DataFrame(df)\n",
    "            name_list = pd.DataFrame(name_list)\n",
    "            df = pd.concat([df, name_list],axis=1)\n",
    "            df = df.set_index(0)\n",
    "        elif type_rename == int(2):\n",
    "            allcities2 = pd.read_csv('allcities2.csv')\n",
    "            random_city = []\n",
    "            for i in range(len(df)):\n",
    "                random_city.append(str(allcities2.sample(1)).split('\\nName')[0].split(\"  \")[2].lstrip())\n",
    "            df = pd.DataFrame(df)\n",
    "            random_city = pd.DataFrame(random_city)\n",
    "            df = pd.concat([df, random_city],axis=1)\n",
    "            df = df.set_index(0)\n",
    "        elif type_rename == int(3):\n",
    "            market = pd.read_csv('market_symbols.csv')\n",
    "            mkt_symbols = market['Symbols']\n",
    "            symbols_list = []\n",
    "            for i in range(len(df)):\n",
    "                symbols_list.append(str(mkt_symbols.sample(1)).split('\\nName')[0].split(\"  \")[2].lstrip())\n",
    "            df = pd.DataFrame(df)\n",
    "            symbols_list = pd.DataFrame(symbols_list)\n",
    "            df = pd.concat([df, symbols_list],axis=1)\n",
    "            df = df.set_index(0)\n",
    "        elif type_rename == int(4):\n",
    "            market = pd.read_csv('market_symbols.csv')\n",
    "            companies = pd.read_csv('company_names.csv')\n",
    "            company = companies['Company']\n",
    "            company_list = []\n",
    "            for i in range(len(df)):\n",
    "                company_list.append(str(company_list.sample(1)).split('\\nName')[0].split(\"  \")[2].lstrip())\n",
    "            df = pd.DataFrame(df)\n",
    "            company_list = pd.DataFrame(company_list)\n",
    "            df = pd.concat([df, company_list],axis=1)\n",
    "            df = df.set_index(0)\n",
    "        elif type_rename == int(5):\n",
    "            years_list = []\n",
    "            months_list = []\n",
    "            days_list = []\n",
    "            choice = int(input('Choose your range of date :\\n     - (1) Year\\n     - (2) Month\\n     - (3) Days\\n'))\n",
    "            #('y').lower() == 'year'\n",
    "            #('m').lower() == 'month' \n",
    "            #('d').lower() == 'days' \n",
    "\n",
    "            if choice == int(1):\n",
    "                year = int(input('Start Year :'))\n",
    "                date = datetime(year,1,1)\n",
    "                for i in range(len(df)):\n",
    "                    date += relativedelta(years=1)\n",
    "                    years_list.append(date.strftime('%Y'))\n",
    "                years_list = pd.DataFrame(years_list)\n",
    "                df = pd.DataFrame(df)\n",
    "                df = pd.concat([df, years_list],axis=1)\n",
    "                df = df.set_index(0)\n",
    "            elif choice == int(2):\n",
    "                year = int(input('Start Year :'))\n",
    "                month = int(input('Start Month (1 to 12) :'))\n",
    "                date = datetime(year,month,1)\n",
    "                for i in range(len(df)):\n",
    "                    date += relativedelta(months=1)\n",
    "                    months_list.append(date.strftime('%B %Y'))\n",
    "                df = pd.DataFrame(df)\n",
    "                months_list = pd.DataFrame(months_list)\n",
    "                df = pd.concat([df, months_list],axis=1)\n",
    "                df = df.set_index(0)\n",
    "            elif choice == int(3):\n",
    "                year = int(input('Start Year :'))\n",
    "                month = int(input('Start Month (1 to 12) :'))\n",
    "                date = datetime(year,month,1)\n",
    "                print('\\nDate will be started on the 1st day of the month.')\n",
    "                days_list.append(date.strftime('%a.%d/%m/%Y'))\n",
    "                for i in range(len(df)):\n",
    "                    date += relativedelta(days=1)\n",
    "                    days_list.append(date.strftime('%a.%d/%m/%Y'))\n",
    "                days_list.remove(date.strftime('%a.%d/%m/%Y'))\n",
    "                df = pd.DataFrame(df)\n",
    "                days_list = pd.DataFrame(0)\n",
    "                df = pd.concat([df, days_list],axis=1)\n",
    "                df = df.set_index(0) \n",
    "            else:\n",
    "                choice = int(input('Choose your range of date :\\n     - (1) Year\\n     - (2) Month\\n     - (3) Days\\n'))        \n",
    "    elif rename_index.lower() == ('N').lower():\n",
    "        pass\n",
    "    else:\n",
    "        auto_rename = input('\\nAutomatically rename index ? : ')\n",
    "elif rename_index.lower() != ('N').lower() | rename_index.lower() != ('Y').lower():\n",
    "    rename_index = input('Wrong type. Please type Y of N.\\nRename index ? : ')\n",
    "else:\n",
    "    df = pd.DataFrame(df)\n",
    "    pass\n"
   ]
  },
  {
   "cell_type": "code",
   "execution_count": 501,
   "metadata": {
    "ExecuteTime": {
     "end_time": "2021-08-02T10:50:23.536508Z",
     "start_time": "2021-08-02T10:50:23.508934Z"
    }
   },
   "outputs": [
    {
     "data": {
      "text/plain": [
       "True"
      ]
     },
     "execution_count": 501,
     "metadata": {},
     "output_type": "execute_result"
    }
   ],
   "source": [
    "len(df.columns) == len(days_list)"
   ]
  },
  {
   "cell_type": "code",
   "execution_count": 542,
   "metadata": {
    "ExecuteTime": {
     "end_time": "2021-08-02T11:24:04.547693Z",
     "start_time": "2021-08-02T11:24:04.536676Z"
    }
   },
   "outputs": [
    {
     "data": {
      "text/plain": [
       "'Lantern Pharma'"
      ]
     },
     "execution_count": 542,
     "metadata": {},
     "output_type": "execute_result"
    }
   ],
   "source": [
    "str(company_list.sample(1)).split('\\nName')[0].split(\"  \")[2].lstrip()"
   ]
  },
  {
   "cell_type": "code",
   "execution_count": 550,
   "metadata": {
    "ExecuteTime": {
     "end_time": "2021-08-02T11:31:10.209240Z",
     "start_time": "2021-08-02T11:31:10.185716Z"
    }
   },
   "outputs": [
    {
     "ename": "TypeError",
     "evalue": "cannot concatenate object of type '<class 'pandas.core.indexes.base.Index'>'; only Series and DataFrame objs are valid",
     "output_type": "error",
     "traceback": [
      "\u001b[1;31m---------------------------------------------------------------------------\u001b[0m",
      "\u001b[1;31mTypeError\u001b[0m                                 Traceback (most recent call last)",
      "\u001b[1;32m<ipython-input-550-29ac1025d732>\u001b[0m in \u001b[0;36m<module>\u001b[1;34m\u001b[0m\n\u001b[1;32m----> 1\u001b[1;33m \u001b[0mdf\u001b[0m \u001b[1;33m=\u001b[0m \u001b[0mpd\u001b[0m\u001b[1;33m.\u001b[0m\u001b[0mconcat\u001b[0m\u001b[1;33m(\u001b[0m\u001b[1;33m[\u001b[0m\u001b[0mdf\u001b[0m\u001b[1;33m,\u001b[0m \u001b[0msymbols_list\u001b[0m\u001b[1;33m]\u001b[0m\u001b[1;33m,\u001b[0m\u001b[0maxis\u001b[0m\u001b[1;33m=\u001b[0m\u001b[1;36m1\u001b[0m\u001b[1;33m)\u001b[0m\u001b[1;33m\u001b[0m\u001b[1;33m\u001b[0m\u001b[0m\n\u001b[0m",
      "\u001b[1;32m~\\anaconda3\\lib\\site-packages\\pandas\\core\\reshape\\concat.py\u001b[0m in \u001b[0;36mconcat\u001b[1;34m(objs, axis, join, ignore_index, keys, levels, names, verify_integrity, sort, copy)\u001b[0m\n\u001b[0;32m    272\u001b[0m     \u001b[0mValueError\u001b[0m\u001b[1;33m:\u001b[0m \u001b[0mIndexes\u001b[0m \u001b[0mhave\u001b[0m \u001b[0moverlapping\u001b[0m \u001b[0mvalues\u001b[0m\u001b[1;33m:\u001b[0m \u001b[1;33m[\u001b[0m\u001b[1;34m'a'\u001b[0m\u001b[1;33m]\u001b[0m\u001b[1;33m\u001b[0m\u001b[1;33m\u001b[0m\u001b[0m\n\u001b[0;32m    273\u001b[0m     \"\"\"\n\u001b[1;32m--> 274\u001b[1;33m     op = _Concatenator(\n\u001b[0m\u001b[0;32m    275\u001b[0m         \u001b[0mobjs\u001b[0m\u001b[1;33m,\u001b[0m\u001b[1;33m\u001b[0m\u001b[1;33m\u001b[0m\u001b[0m\n\u001b[0;32m    276\u001b[0m         \u001b[0maxis\u001b[0m\u001b[1;33m=\u001b[0m\u001b[0maxis\u001b[0m\u001b[1;33m,\u001b[0m\u001b[1;33m\u001b[0m\u001b[1;33m\u001b[0m\u001b[0m\n",
      "\u001b[1;32m~\\anaconda3\\lib\\site-packages\\pandas\\core\\reshape\\concat.py\u001b[0m in \u001b[0;36m__init__\u001b[1;34m(self, objs, axis, join, keys, levels, names, ignore_index, verify_integrity, copy, sort)\u001b[0m\n\u001b[0;32m    357\u001b[0m                     \u001b[1;34m\"only Series and DataFrame objs are valid\"\u001b[0m\u001b[1;33m\u001b[0m\u001b[1;33m\u001b[0m\u001b[0m\n\u001b[0;32m    358\u001b[0m                 )\n\u001b[1;32m--> 359\u001b[1;33m                 \u001b[1;32mraise\u001b[0m \u001b[0mTypeError\u001b[0m\u001b[1;33m(\u001b[0m\u001b[0mmsg\u001b[0m\u001b[1;33m)\u001b[0m\u001b[1;33m\u001b[0m\u001b[1;33m\u001b[0m\u001b[0m\n\u001b[0m\u001b[0;32m    360\u001b[0m \u001b[1;33m\u001b[0m\u001b[0m\n\u001b[0;32m    361\u001b[0m             \u001b[1;31m# consolidate\u001b[0m\u001b[1;33m\u001b[0m\u001b[1;33m\u001b[0m\u001b[1;33m\u001b[0m\u001b[0m\n",
      "\u001b[1;31mTypeError\u001b[0m: cannot concatenate object of type '<class 'pandas.core.indexes.base.Index'>'; only Series and DataFrame objs are valid"
     ]
    }
   ],
   "source": [
    "df = pd.DataFrame(df)"
   ]
  },
  {
   "cell_type": "code",
   "execution_count": 549,
   "metadata": {
    "ExecuteTime": {
     "end_time": "2021-08-02T11:30:57.191422Z",
     "start_time": "2021-08-02T11:30:57.174465Z"
    }
   },
   "outputs": [
    {
     "data": {
      "text/plain": [
       "0      RKT \n",
       "1     CTSO \n",
       "2     GRIL \n",
       "3     MLVF \n",
       "4     HCAQ \n",
       "5      MPW \n",
       "6     PAGP \n",
       "7     RVLV \n",
       "8     FAST \n",
       "9     VRSK \n",
       "10    CTOS \n",
       "11    PGRE \n",
       "12    VHAQ \n",
       "13    IMAX \n",
       "14    RXDX \n",
       "15     UUU \n",
       "16     VHC \n",
       "17    RJAC \n",
       "18    ABIO \n",
       "19     CSV \n",
       "Name: 0, dtype: object"
      ]
     },
     "execution_count": 549,
     "metadata": {},
     "output_type": "execute_result"
    }
   ],
   "source": [
    "symbols_list[0]"
   ]
  },
  {
   "cell_type": "code",
   "execution_count": 517,
   "metadata": {
    "ExecuteTime": {
     "end_time": "2021-08-02T11:11:49.383427Z",
     "start_time": "2021-08-02T11:11:49.351455Z"
    }
   },
   "outputs": [
    {
     "ename": "IndexError",
     "evalue": "only integers, slices (`:`), ellipsis (`...`), numpy.newaxis (`None`) and integer or boolean arrays are valid indices",
     "output_type": "error",
     "traceback": [
      "\u001b[1;31m---------------------------------------------------------------------------\u001b[0m",
      "\u001b[1;31mIndexError\u001b[0m                                Traceback (most recent call last)",
      "\u001b[1;32m<ipython-input-517-78247663bd68>\u001b[0m in \u001b[0;36m<module>\u001b[1;34m\u001b[0m\n\u001b[0;32m      3\u001b[0m \u001b[1;31m#df = pd.concat([df, dy],axis=0)\u001b[0m\u001b[1;33m\u001b[0m\u001b[1;33m\u001b[0m\u001b[1;33m\u001b[0m\u001b[0m\n\u001b[0;32m      4\u001b[0m \u001b[1;31m#df.set_index(0)\u001b[0m\u001b[1;33m\u001b[0m\u001b[1;33m\u001b[0m\u001b[1;33m\u001b[0m\u001b[0m\n\u001b[1;32m----> 5\u001b[1;33m \u001b[0mdf\u001b[0m\u001b[1;33m[\u001b[0m\u001b[1;34m'index'\u001b[0m\u001b[1;33m]\u001b[0m\u001b[1;33m.\u001b[0m\u001b[0mset_names\u001b[0m\u001b[1;33m(\u001b[0m\u001b[1;34m' '\u001b[0m\u001b[1;33m)\u001b[0m\u001b[1;33m\u001b[0m\u001b[1;33m\u001b[0m\u001b[0m\n\u001b[0m",
      "\u001b[1;32m~\\anaconda3\\lib\\site-packages\\pandas\\core\\indexes\\base.py\u001b[0m in \u001b[0;36m__getitem__\u001b[1;34m(self, key)\u001b[0m\n\u001b[0;32m   4099\u001b[0m         \u001b[1;32mif\u001b[0m \u001b[0mis_scalar\u001b[0m\u001b[1;33m(\u001b[0m\u001b[0mkey\u001b[0m\u001b[1;33m)\u001b[0m\u001b[1;33m:\u001b[0m\u001b[1;33m\u001b[0m\u001b[1;33m\u001b[0m\u001b[0m\n\u001b[0;32m   4100\u001b[0m             \u001b[0mkey\u001b[0m \u001b[1;33m=\u001b[0m \u001b[0mcom\u001b[0m\u001b[1;33m.\u001b[0m\u001b[0mcast_scalar_indexer\u001b[0m\u001b[1;33m(\u001b[0m\u001b[0mkey\u001b[0m\u001b[1;33m,\u001b[0m \u001b[0mwarn_float\u001b[0m\u001b[1;33m=\u001b[0m\u001b[1;32mTrue\u001b[0m\u001b[1;33m)\u001b[0m\u001b[1;33m\u001b[0m\u001b[1;33m\u001b[0m\u001b[0m\n\u001b[1;32m-> 4101\u001b[1;33m             \u001b[1;32mreturn\u001b[0m \u001b[0mgetitem\u001b[0m\u001b[1;33m(\u001b[0m\u001b[0mkey\u001b[0m\u001b[1;33m)\u001b[0m\u001b[1;33m\u001b[0m\u001b[1;33m\u001b[0m\u001b[0m\n\u001b[0m\u001b[0;32m   4102\u001b[0m \u001b[1;33m\u001b[0m\u001b[0m\n\u001b[0;32m   4103\u001b[0m         \u001b[1;32mif\u001b[0m \u001b[0misinstance\u001b[0m\u001b[1;33m(\u001b[0m\u001b[0mkey\u001b[0m\u001b[1;33m,\u001b[0m \u001b[0mslice\u001b[0m\u001b[1;33m)\u001b[0m\u001b[1;33m:\u001b[0m\u001b[1;33m\u001b[0m\u001b[1;33m\u001b[0m\u001b[0m\n",
      "\u001b[1;31mIndexError\u001b[0m: only integers, slices (`:`), ellipsis (`...`), numpy.newaxis (`None`) and integer or boolean arrays are valid indices"
     ]
    }
   ],
   "source": [
    "#ddays_list = pd.DataFrame(days_list)\n",
    "\n",
    "#df = pd.concat([df, dy],axis=0)\n",
    "#df.set_index(0)\n",
    "df['index'].set_names(' ') "
   ]
  },
  {
   "cell_type": "code",
   "execution_count": 514,
   "metadata": {
    "ExecuteTime": {
     "end_time": "2021-08-02T11:10:20.730081Z",
     "start_time": "2021-08-02T11:10:20.702046Z"
    }
   },
   "outputs": [
    {
     "ename": "AttributeError",
     "evalue": "'Index' object has no attribute 'index'",
     "output_type": "error",
     "traceback": [
      "\u001b[1;31m---------------------------------------------------------------------------\u001b[0m",
      "\u001b[1;31mAttributeError\u001b[0m                            Traceback (most recent call last)",
      "\u001b[1;32m<ipython-input-514-0a49c1552e96>\u001b[0m in \u001b[0;36m<module>\u001b[1;34m\u001b[0m\n\u001b[1;32m----> 1\u001b[1;33m \u001b[0mdf\u001b[0m \u001b[1;33m=\u001b[0m \u001b[0mdf\u001b[0m\u001b[1;33m.\u001b[0m\u001b[0mindex\u001b[0m\u001b[1;33m.\u001b[0m\u001b[0mset_names\u001b[0m\u001b[1;33m(\u001b[0m\u001b[1;34m' '\u001b[0m\u001b[1;33m)\u001b[0m\u001b[1;33m\u001b[0m\u001b[1;33m\u001b[0m\u001b[0m\n\u001b[0m\u001b[0;32m      2\u001b[0m \u001b[0mdf\u001b[0m\u001b[1;33m\u001b[0m\u001b[1;33m\u001b[0m\u001b[0m\n",
      "\u001b[1;31mAttributeError\u001b[0m: 'Index' object has no attribute 'index'"
     ]
    }
   ],
   "source": [
    "df.index.set_names(' ') \n"
   ]
  },
  {
   "cell_type": "code",
   "execution_count": 497,
   "metadata": {
    "ExecuteTime": {
     "end_time": "2021-08-02T10:48:23.254203Z",
     "start_time": "2021-08-02T10:48:23.238227Z"
    }
   },
   "outputs": [
    {
     "data": {
      "text/plain": [
       "['Thu.01/05/1958',\n",
       " 'Fri.02/05/1958',\n",
       " 'Sat.03/05/1958',\n",
       " 'Sun.04/05/1958',\n",
       " 'Mon.05/05/1958',\n",
       " 'Tue.06/05/1958',\n",
       " 'Wed.07/05/1958',\n",
       " 'Thu.08/05/1958',\n",
       " 'Fri.09/05/1958',\n",
       " 'Sat.10/05/1958',\n",
       " 'Mon.02/11/1981',\n",
       " 'Tue.03/11/1981',\n",
       " 'Wed.04/11/1981',\n",
       " 'Thu.05/11/1981',\n",
       " 'Fri.06/11/1981',\n",
       " 'Sat.07/11/1981',\n",
       " 'Sun.08/11/1981',\n",
       " 'Mon.09/11/1981',\n",
       " 'Tue.10/11/1981',\n",
       " 'Mon.02/11/1981',\n",
       " 'Tue.03/11/1981',\n",
       " 'Wed.04/11/1981',\n",
       " 'Thu.05/11/1981',\n",
       " 'Fri.06/11/1981',\n",
       " 'Sat.07/11/1981',\n",
       " 'Sun.08/11/1981',\n",
       " 'Mon.09/11/1981',\n",
       " 'Tue.10/11/1981']"
      ]
     },
     "execution_count": 497,
     "metadata": {},
     "output_type": "execute_result"
    }
   ],
   "source": [
    "date = datetime(1981,11,1)\n",
    "for i in range(len(df.keys())):\n",
    "                    date += relativedelta(days=1)\n",
    "                    days_list.append(date.strftime('%a.%d/%m/%Y'))\n",
    "days_list.remove(date.strftime('%a.%d/%m/%Y'))\n",
    "days_list"
   ]
  },
  {
   "cell_type": "code",
   "execution_count": 492,
   "metadata": {
    "ExecuteTime": {
     "end_time": "2021-08-02T10:45:40.257982Z",
     "start_time": "2021-08-02T10:45:40.234012Z"
    }
   },
   "outputs": [
    {
     "ename": "ValueError",
     "evalue": "list.remove(x): x not in list",
     "output_type": "error",
     "traceback": [
      "\u001b[1;31m---------------------------------------------------------------------------\u001b[0m",
      "\u001b[1;31mValueError\u001b[0m                                Traceback (most recent call last)",
      "\u001b[1;32m<ipython-input-492-d0aa7dd555f7>\u001b[0m in \u001b[0;36m<module>\u001b[1;34m\u001b[0m\n\u001b[1;32m----> 1\u001b[1;33m \u001b[0mdays_list\u001b[0m\u001b[1;33m.\u001b[0m\u001b[0mremove\u001b[0m\u001b[1;33m(\u001b[0m\u001b[0mdate\u001b[0m\u001b[1;33m.\u001b[0m\u001b[0mstrftime\u001b[0m\u001b[1;33m(\u001b[0m\u001b[1;34m'%a.%d/%m/%Y'\u001b[0m\u001b[1;33m)\u001b[0m\u001b[1;33m)\u001b[0m\u001b[1;33m\u001b[0m\u001b[1;33m\u001b[0m\u001b[0m\n\u001b[0m\u001b[0;32m      2\u001b[0m \u001b[0mdays_list\u001b[0m\u001b[1;33m\u001b[0m\u001b[1;33m\u001b[0m\u001b[0m\n",
      "\u001b[1;31mValueError\u001b[0m: list.remove(x): x not in list"
     ]
    }
   ],
   "source": [
    "\n"
   ]
  },
  {
   "cell_type": "code",
   "execution_count": 493,
   "metadata": {
    "ExecuteTime": {
     "end_time": "2021-08-02T10:45:47.653965Z",
     "start_time": "2021-08-02T10:45:47.639777Z"
    }
   },
   "outputs": [
    {
     "data": {
      "text/plain": [
       "['Thu.01/05/1958',\n",
       " 'Fri.02/05/1958',\n",
       " 'Sat.03/05/1958',\n",
       " 'Sun.04/05/1958',\n",
       " 'Mon.05/05/1958',\n",
       " 'Tue.06/05/1958',\n",
       " 'Wed.07/05/1958',\n",
       " 'Thu.08/05/1958',\n",
       " 'Fri.09/05/1958',\n",
       " 'Sat.10/05/1958',\n",
       " 'Sun.11/05/1958',\n",
       " 'Mon.12/05/1958',\n",
       " 'Tue.13/05/1958',\n",
       " 'Wed.14/05/1958',\n",
       " 'Thu.15/05/1958']"
      ]
     },
     "execution_count": 493,
     "metadata": {},
     "output_type": "execute_result"
    }
   ],
   "source": [
    "days_list"
   ]
  },
  {
   "cell_type": "code",
   "execution_count": 488,
   "metadata": {
    "ExecuteTime": {
     "end_time": "2021-08-02T10:38:52.659629Z",
     "start_time": "2021-08-02T10:38:47.075755Z"
    },
    "code_folding": []
   },
   "outputs": [
    {
     "ename": "KeyboardInterrupt",
     "evalue": "Interrupted by user",
     "output_type": "error",
     "traceback": [
      "\u001b[1;31m---------------------------------------------------------------------------\u001b[0m",
      "\u001b[1;31mKeyboardInterrupt\u001b[0m                         Traceback (most recent call last)",
      "\u001b[1;32m<ipython-input-488-d8cbf0e3247b>\u001b[0m in \u001b[0;36m<module>\u001b[1;34m\u001b[0m\n\u001b[0;32m      2\u001b[0m \u001b[1;32mfrom\u001b[0m \u001b[0mdateutil\u001b[0m\u001b[1;33m.\u001b[0m\u001b[0mrelativedelta\u001b[0m \u001b[1;32mimport\u001b[0m \u001b[0mrelativedelta\u001b[0m\u001b[1;33m\u001b[0m\u001b[1;33m\u001b[0m\u001b[0m\n\u001b[0;32m      3\u001b[0m \u001b[1;33m\u001b[0m\u001b[0m\n\u001b[1;32m----> 4\u001b[1;33m \u001b[0mtype_rename\u001b[0m\u001b[1;33m=\u001b[0m \u001b[0minput\u001b[0m\u001b[1;33m(\u001b[0m\u001b[1;34m'How do you want to rename columns :\\n     - (1) First names (248420 items)\\n     - (2) Cities (41001 items)\\n     - (3) Stock Market Symbol (6771 items)\\n     - (4) Company Names (6771 items)\\n     - (5) Date (Inf. items)\\n'\u001b[0m\u001b[1;33m)\u001b[0m\u001b[1;33m\u001b[0m\u001b[1;33m\u001b[0m\u001b[0m\n\u001b[0m\u001b[0;32m      5\u001b[0m \u001b[1;33m\u001b[0m\u001b[0m\n\u001b[0;32m      6\u001b[0m \u001b[1;32mif\u001b[0m \u001b[0mtype_rename\u001b[0m \u001b[1;33m==\u001b[0m \u001b[0mint\u001b[0m\u001b[1;33m(\u001b[0m\u001b[1;36m1\u001b[0m\u001b[1;33m)\u001b[0m\u001b[1;33m:\u001b[0m\u001b[1;33m\u001b[0m\u001b[1;33m\u001b[0m\u001b[0m\n",
      "\u001b[1;32m~\\anaconda3\\lib\\site-packages\\ipykernel\\kernelbase.py\u001b[0m in \u001b[0;36mraw_input\u001b[1;34m(self, prompt)\u001b[0m\n\u001b[0;32m    858\u001b[0m                 \u001b[1;34m\"raw_input was called, but this frontend does not support input requests.\"\u001b[0m\u001b[1;33m\u001b[0m\u001b[1;33m\u001b[0m\u001b[0m\n\u001b[0;32m    859\u001b[0m             )\n\u001b[1;32m--> 860\u001b[1;33m         return self._input_request(str(prompt),\n\u001b[0m\u001b[0;32m    861\u001b[0m             \u001b[0mself\u001b[0m\u001b[1;33m.\u001b[0m\u001b[0m_parent_ident\u001b[0m\u001b[1;33m,\u001b[0m\u001b[1;33m\u001b[0m\u001b[1;33m\u001b[0m\u001b[0m\n\u001b[0;32m    862\u001b[0m             \u001b[0mself\u001b[0m\u001b[1;33m.\u001b[0m\u001b[0m_parent_header\u001b[0m\u001b[1;33m,\u001b[0m\u001b[1;33m\u001b[0m\u001b[1;33m\u001b[0m\u001b[0m\n",
      "\u001b[1;32m~\\anaconda3\\lib\\site-packages\\ipykernel\\kernelbase.py\u001b[0m in \u001b[0;36m_input_request\u001b[1;34m(self, prompt, ident, parent, password)\u001b[0m\n\u001b[0;32m    902\u001b[0m             \u001b[1;32mexcept\u001b[0m \u001b[0mKeyboardInterrupt\u001b[0m\u001b[1;33m:\u001b[0m\u001b[1;33m\u001b[0m\u001b[1;33m\u001b[0m\u001b[0m\n\u001b[0;32m    903\u001b[0m                 \u001b[1;31m# re-raise KeyboardInterrupt, to truncate traceback\u001b[0m\u001b[1;33m\u001b[0m\u001b[1;33m\u001b[0m\u001b[1;33m\u001b[0m\u001b[0m\n\u001b[1;32m--> 904\u001b[1;33m                 \u001b[1;32mraise\u001b[0m \u001b[0mKeyboardInterrupt\u001b[0m\u001b[1;33m(\u001b[0m\u001b[1;34m\"Interrupted by user\"\u001b[0m\u001b[1;33m)\u001b[0m \u001b[1;32mfrom\u001b[0m \u001b[1;32mNone\u001b[0m\u001b[1;33m\u001b[0m\u001b[1;33m\u001b[0m\u001b[0m\n\u001b[0m\u001b[0;32m    905\u001b[0m             \u001b[1;32mexcept\u001b[0m \u001b[0mException\u001b[0m \u001b[1;32mas\u001b[0m \u001b[0me\u001b[0m\u001b[1;33m:\u001b[0m\u001b[1;33m\u001b[0m\u001b[1;33m\u001b[0m\u001b[0m\n\u001b[0;32m    906\u001b[0m                 \u001b[0mself\u001b[0m\u001b[1;33m.\u001b[0m\u001b[0mlog\u001b[0m\u001b[1;33m.\u001b[0m\u001b[0mwarning\u001b[0m\u001b[1;33m(\u001b[0m\u001b[1;34m\"Invalid Message:\"\u001b[0m\u001b[1;33m,\u001b[0m \u001b[0mexc_info\u001b[0m\u001b[1;33m=\u001b[0m\u001b[1;32mTrue\u001b[0m\u001b[1;33m)\u001b[0m\u001b[1;33m\u001b[0m\u001b[1;33m\u001b[0m\u001b[0m\n",
      "\u001b[1;31mKeyboardInterrupt\u001b[0m: Interrupted by user"
     ]
    }
   ],
   "source": [
    "from datetime import datetime, date\n",
    "from dateutil.relativedelta import relativedelta\n",
    "\n",
    "type_rename= input('How do you want to rename columns :\\n     - (1) First names (248420 items)\\n     - (2) Cities (41001 items)\\n     - (3) Stock Market Symbol (6771 items)\\n     - (4) Company Names (6771 items)\\n     - (5) Date (Inf. items)\\n')\n",
    "    \n",
    "if type_rename == int(1):\n",
    "    name = pd.read_csv('firstforename.csv')\n",
    "    name = name['FirstForename']\n",
    "    name_list = []\n",
    "    for i in range(len(df.columns)):\n",
    "        name_list.append(name[name.sample(1).index[0]])\n",
    "    df.columns = name_list\n",
    "elif type_rename == int(2):\n",
    "    allcities2 = pd.read_csv('allcities2.csv')\n",
    "    random_city = []\n",
    "    for i in range(len(df.columns)):\n",
    "        random_city.append(allcities2[allcities2.sample(1).index[0]])\n",
    "    df.columns = random_city\n",
    "elif type_rename == int(3):\n",
    "    market = pd.read_csv('market_symbols.csv')\n",
    "    mkt_symbols = market['Symbols']\n",
    "    symbols_list = []\n",
    "    for i in range(len(df.columns)):\n",
    "        symbols_list.append(mkt_symbols[mkt_symbols.sample(1).index[0]])\n",
    "    df.columns = symbols_list\n",
    "elif type_rename == int(4):\n",
    "    market = pd.read_csv('market_symbols.csv')\n",
    "    companies = pd.read_csv('company_names.csv')\n",
    "    company = companies['Company']\n",
    "    company_list = []\n",
    "    for i in range(len(df.columns)):\n",
    "        company_list.append(company[company.sample(1).index[0]])\n",
    "    df.columns = company_list\n",
    "elif type_rename == int(5):\n",
    "    years_list = []\n",
    "    months_list = []\n",
    "    days_list = []\n",
    "    choice = str(input('Choose your range of date : (Y)ear, (M)onth or (D)ays ?')).lower()\n",
    "    #('y').lower() == 'year'\n",
    "    #('m').lower() == 'month' \n",
    "    #('d').lower() == 'days' \n",
    "\n",
    "    if choice.lower() == ('year').lower():\n",
    "        year = int(input('Start Year :'))\n",
    "        date = datetime(year,1,1)\n",
    "        for i in range(len(df.columns)):\n",
    "            date += relativedelta(years=1)\n",
    "            years_list.append(date.strftime('%Y'))\n",
    "        df.columns = years_list\n",
    "    elif choice.lower() == ('month').lower():\n",
    "        year = int(input('Start Year :'))\n",
    "        month = int(input('Start Month (1 to 12) :'))\n",
    "        date = datetime(year,month,1)\n",
    "        for i in range(len(df.columns)):\n",
    "            date += relativedelta(months=1)\n",
    "            months_list.append(date.strftime('%B %Y'))\n",
    "        df.columns = months_list\n",
    "    elif choice.lower() == ('days').lower():\n",
    "        year = int(input('Start Year :'))\n",
    "        month = int(input('Start Month (1 to 12) :'))\n",
    "        date = datetime(year,month,1)\n",
    "        print('\\nDate will be started on the 1st day of the month.')\n",
    "        days_list.append(date.strftime('%a.%d/%m/%Y'))\n",
    "        for i in range(len(df.columns)):\n",
    "            date += relativedelta(days=1)\n",
    "            days_list.append(date.strftime('%a.%d/%m/%Y'))\n",
    "        df.columns = months_list \n",
    "    \n",
    "\n",
    "\n",
    "\n"
   ]
  },
  {
   "cell_type": "code",
   "execution_count": 455,
   "metadata": {
    "ExecuteTime": {
     "end_time": "2021-08-02T09:36:58.973903Z",
     "start_time": "2021-08-02T09:36:58.954954Z"
    }
   },
   "outputs": [
    {
     "ename": "TypeError",
     "evalue": "descriptor 'strftime' for 'datetime.date' objects doesn't apply to a 'str' object",
     "output_type": "error",
     "traceback": [
      "\u001b[1;31m---------------------------------------------------------------------------\u001b[0m",
      "\u001b[1;31mTypeError\u001b[0m                                 Traceback (most recent call last)",
      "\u001b[1;32m<ipython-input-455-4606f4681dd2>\u001b[0m in \u001b[0;36m<module>\u001b[1;34m\u001b[0m\n\u001b[1;32m----> 1\u001b[1;33m \u001b[0mdate\u001b[0m\u001b[1;33m.\u001b[0m\u001b[0mstrftime\u001b[0m\u001b[1;33m(\u001b[0m\u001b[1;34m'%a.%d/%m/%Y'\u001b[0m\u001b[1;33m)\u001b[0m\u001b[1;33m\u001b[0m\u001b[1;33m\u001b[0m\u001b[0m\n\u001b[0m",
      "\u001b[1;31mTypeError\u001b[0m: descriptor 'strftime' for 'datetime.date' objects doesn't apply to a 'str' object"
     ]
    }
   ],
   "source": [
    "date.strftime('%a.%d/%m/%Y')"
   ]
  },
  {
   "cell_type": "code",
   "execution_count": 396,
   "metadata": {
    "ExecuteTime": {
     "end_time": "2021-08-01T22:56:19.426457Z",
     "start_time": "2021-08-01T22:56:19.405499Z"
    }
   },
   "outputs": [
    {
     "data": {
      "text/plain": [
       "Lushnjë           4\n",
       "Henderson         4\n",
       "Salisbury         4\n",
       "Burgos            4\n",
       "Lancaster         4\n",
       "                 ..\n",
       "Sestri Levante    1\n",
       "Manāli            1\n",
       "Aksay             1\n",
       "East Kilbride     1\n",
       "Laje de Muriaé    1\n",
       "Length: 4629, dtype: int64"
      ]
     },
     "execution_count": 396,
     "metadata": {},
     "output_type": "execute_result"
    }
   ],
   "source": [
    "df.columns.value_counts()"
   ]
  },
  {
   "cell_type": "code",
   "execution_count": 410,
   "metadata": {
    "ExecuteTime": {
     "end_time": "2021-08-02T00:29:24.873931Z",
     "start_time": "2021-08-02T00:29:24.827085Z"
    }
   },
   "outputs": [
    {
     "name": "stdout",
     "output_type": "stream",
     "text": [
      " Le volume dans le lecteur C s'appelle OS\n",
      " Le num‚ro de s‚rie du volume est 9C97-F74E\n",
      "\n",
      " R‚pertoire de C:\\Users\\Jacqu\n",
      "\n",
      "20/05/2021  16:54               594 10 most followed tweeter.csv\n",
      "20/05/2021  17:00             3ÿ165 50 most followers tweeter.csv\n",
      "02/09/2020  13:46       199ÿ745ÿ942 age_gender.csv\n",
      "01/08/2021  19:52            18ÿ113 allcities.csv\n",
      "02/08/2021  00:20           763ÿ296 allcities2.csv\n",
      "01/08/2021  15:45           988ÿ271 assessment_neema_heilan.csv\n",
      "02/08/2021  02:28           132ÿ972 company_names.csv\n",
      "21/05/2021  06:09               760 daily circulation.csv\n",
      "29/07/2021  11:50           925ÿ009 data_scientist_intern_revenue_model.csv\n",
      "29/03/2021  10:39         6ÿ872ÿ597 fifa21_training.csv\n",
      "27/03/2021  12:12           145ÿ932 file1.csv\n",
      "27/03/2021  12:14            92ÿ344 file2.csv\n",
      "27/03/2021  12:14           625ÿ674 file3.csv\n",
      "02/08/2021  01:05         2ÿ060ÿ717 firstforename.csv\n",
      "08/07/2021  12:15            12ÿ843 footnotes.csv\n",
      "09/07/2021  22:08           209ÿ500 freedom_in_the_world.csv\n",
      "13/04/2021  15:32         8ÿ108ÿ886 HC4A_unit4_404.csv\n",
      "02/08/2021  02:23            45ÿ307 market_symbols.csv\n",
      "26/03/2021  15:36         1ÿ581ÿ918 marketing_customer_analysis.csv\n",
      "09/07/2021  21:15            43ÿ775 musicnet_metadata.csv\n",
      "24/07/2021  00:42            91ÿ271 news_api_headlines.csv\n",
      "08/07/2021  23:11            92ÿ497 news_api_headlines2.csv\n",
      "16/05/2021  02:16             2ÿ561 news_data.csv\n",
      "08/07/2021  12:15             3ÿ704 population.csv\n",
      "01/08/2021  15:46         2ÿ573ÿ397 predicted_revenue_data.csv\n",
      "23/10/2019  10:32            67ÿ304 PS4_GamesSales.csv\n",
      "25/03/2021  12:42            44ÿ156 regression_data.csv\n",
      "01/08/2021  16:00         2ÿ573ÿ397 revenue_prediction_table.csv\n",
      "30/07/2021  20:34         2ÿ607ÿ976 revenue_prediction_table2.csv\n",
      "06/12/2019  00:30        16ÿ257ÿ213 Salaries.csv\n",
      "09/07/2021  13:59        12ÿ887ÿ668 test.csv\n",
      "12/02/2021  20:18             3ÿ258 titanic.csv\n",
      "25/06/2021  15:01            29ÿ474 titanic_tested.csv\n",
      "21/05/2021  13:14             6ÿ539 tweet_output.csv\n",
      "21/09/2019  19:56        62ÿ756ÿ152 USvideos.csv\n",
      "23/10/2019  10:32         1ÿ610ÿ764 Video_Games_Sales_as_at_22_Dec_2016.csv\n",
      "15/12/2020  06:43         2ÿ859ÿ311 worldcities.csv\n",
      "23/10/2019  10:32            40ÿ876 XboxOne_GameSales.csv\n",
      "              38 fichier(s)      326ÿ885ÿ133 octets\n",
      "               0 R‚p(s)  40ÿ987ÿ156ÿ480 octets libres\n"
     ]
    }
   ],
   "source": [
    "ls *.csv"
   ]
  },
  {
   "cell_type": "code",
   "execution_count": 468,
   "metadata": {
    "ExecuteTime": {
     "end_time": "2021-08-02T09:44:43.114030Z",
     "start_time": "2021-08-02T09:44:42.992189Z"
    }
   },
   "outputs": [],
   "source": [
    "market = pd.read_csv('market_symbols.csv')\n",
    "companies = pd.read_csv('company_names.csv')\n",
    "name = pd.read_csv('firstforename.csv')"
   ]
  },
  {
   "cell_type": "code",
   "execution_count": 480,
   "metadata": {
    "ExecuteTime": {
     "end_time": "2021-08-02T10:07:43.538449Z",
     "start_time": "2021-08-02T10:07:43.531284Z"
    }
   },
   "outputs": [],
   "source": [
    "name_list = name['FirstForename']"
   ]
  },
  {
   "cell_type": "code",
   "execution_count": 481,
   "metadata": {
    "ExecuteTime": {
     "end_time": "2021-08-02T10:07:50.006849Z",
     "start_time": "2021-08-02T10:07:49.992857Z"
    }
   },
   "outputs": [
    {
     "data": {
      "text/plain": [
       "0            David\n",
       "1             John\n",
       "2             Paul\n",
       "3             Mark\n",
       "4            James\n",
       "            ...   \n",
       "248415     Zunaira\n",
       "248416    Zunairah\n",
       "248417       Zuzia\n",
       "248418        Zyah\n",
       "248419       Zylia\n",
       "Name: FirstForename, Length: 248420, dtype: object"
      ]
     },
     "execution_count": 481,
     "metadata": {},
     "output_type": "execute_result"
    }
   ],
   "source": [
    "name_list"
   ]
  },
  {
   "cell_type": "code",
   "execution_count": 407,
   "metadata": {
    "ExecuteTime": {
     "end_time": "2021-08-02T00:24:01.203878Z",
     "start_time": "2021-08-02T00:24:01.197365Z"
    }
   },
   "outputs": [],
   "source": [
    "mkt_symbols = market['Symbols']"
   ]
  },
  {
   "cell_type": "code",
   "execution_count": 408,
   "metadata": {
    "ExecuteTime": {
     "end_time": "2021-08-02T00:24:11.709808Z",
     "start_time": "2021-08-02T00:24:11.699318Z"
    }
   },
   "outputs": [
    {
     "data": {
      "text/plain": [
       "0           A \n",
       "1          AA \n",
       "2         AAC \n",
       "3        AACE \n",
       "4        AACG \n",
       "         ...  \n",
       "6767    ZXAIY \n",
       "6768       ZY \n",
       "6769     ZYME \n",
       "6770     ZYNE \n",
       "6771     ZYXI \n",
       "Name: Symbols, Length: 6772, dtype: object"
      ]
     },
     "execution_count": 408,
     "metadata": {},
     "output_type": "execute_result"
    }
   ],
   "source": [
    "mkt_symbols"
   ]
  },
  {
   "cell_type": "code",
   "execution_count": 409,
   "metadata": {
    "ExecuteTime": {
     "end_time": "2021-08-02T00:24:58.264319Z",
     "start_time": "2021-08-02T00:24:58.252142Z"
    }
   },
   "outputs": [
    {
     "data": {
      "text/plain": [
       "0              Tokyo\n",
       "1            Jakarta\n",
       "2              Delhi\n",
       "3             Mumbai\n",
       "4             Manila\n",
       "            ...     \n",
       "40996         Tukchi\n",
       "40997          Numto\n",
       "40998           Nord\n",
       "40999    Timmiarmiut\n",
       "41000        Nordvik\n",
       "Name: \"city\", Length: 41001, dtype: object"
      ]
     },
     "execution_count": 409,
     "metadata": {},
     "output_type": "execute_result"
    }
   ],
   "source": [
    "allcities2"
   ]
  },
  {
   "cell_type": "code",
   "execution_count": 414,
   "metadata": {
    "ExecuteTime": {
     "end_time": "2021-08-02T00:31:18.947380Z",
     "start_time": "2021-08-02T00:31:18.933121Z"
    }
   },
   "outputs": [
    {
     "data": {
      "text/plain": [
       "0                        Agilent Technologies\n",
       "1                                       Alcoa\n",
       "2                            Ares Acquisition\n",
       "3        Alexandria Agtech/Climate Innovation\n",
       "4                       ATA Creativity Global\n",
       "                        ...                  \n",
       "6767           China Zenix Auto International\n",
       "6768                                 Zymergen\n",
       "6769                                Zymeworks\n",
       "6770                  Zynerba Pharmaceuticals\n",
       "6771                                    Zynex\n",
       "Name: Company, Length: 6772, dtype: object"
      ]
     },
     "execution_count": 414,
     "metadata": {},
     "output_type": "execute_result"
    }
   ],
   "source": [
    "company_list = companies['Company']\n",
    "company_list"
   ]
  },
  {
   "cell_type": "code",
   "execution_count": 469,
   "metadata": {
    "ExecuteTime": {
     "end_time": "2021-08-02T09:51:40.800002Z",
     "start_time": "2021-08-02T09:51:40.785891Z"
    }
   },
   "outputs": [
    {
     "data": {
      "text/plain": [
       "0              Tokyo\n",
       "1            Jakarta\n",
       "2              Delhi\n",
       "3             Mumbai\n",
       "4             Manila\n",
       "            ...     \n",
       "40996         Tukchi\n",
       "40997          Numto\n",
       "40998           Nord\n",
       "40999    Timmiarmiut\n",
       "41000        Nordvik\n",
       "Name: \"city\", Length: 41001, dtype: object"
      ]
     },
     "execution_count": 469,
     "metadata": {},
     "output_type": "execute_result"
    }
   ],
   "source": [
    "allcities2"
   ]
  },
  {
   "cell_type": "code",
   "execution_count": 353,
   "metadata": {
    "ExecuteTime": {
     "end_time": "2021-08-01T22:41:21.566320Z",
     "start_time": "2021-08-01T22:41:21.542364Z"
    }
   },
   "outputs": [
    {
     "data": {
      "text/plain": [
       "'Conkal'"
      ]
     },
     "execution_count": 353,
     "metadata": {},
     "output_type": "execute_result"
    }
   ],
   "source": [
    "str(allcities2.sample(1)).split(\"  \")[2].split(\"\\n\")[-2]"
   ]
  },
  {
   "cell_type": "code",
   "execution_count": 393,
   "metadata": {
    "ExecuteTime": {
     "end_time": "2021-08-01T22:53:00.267992Z",
     "start_time": "2021-08-01T22:53:00.246018Z"
    }
   },
   "outputs": [
    {
     "data": {
      "text/plain": [
       "'Lago Ranco'"
      ]
     },
     "execution_count": 393,
     "metadata": {},
     "output_type": "execute_result"
    }
   ],
   "source": [
    "allcities2.sample(1).index[0]\n",
    "allcities2[allcities2.sample(1).index[0]]"
   ]
  },
  {
   "cell_type": "code",
   "execution_count": 338,
   "metadata": {
    "ExecuteTime": {
     "end_time": "2021-08-01T22:36:45.453838Z",
     "start_time": "2021-08-01T22:36:45.433891Z"
    },
    "scrolled": false
   },
   "outputs": [
    {
     "ename": "AttributeError",
     "evalue": "'dict' object has no attribute 'columns'",
     "output_type": "error",
     "traceback": [
      "\u001b[1;31m---------------------------------------------------------------------------\u001b[0m",
      "\u001b[1;31mAttributeError\u001b[0m                            Traceback (most recent call last)",
      "\u001b[1;32m<ipython-input-338-24e33454994c>\u001b[0m in \u001b[0;36m<module>\u001b[1;34m\u001b[0m\n\u001b[0;32m      1\u001b[0m \u001b[0mpd\u001b[0m\u001b[1;33m.\u001b[0m\u001b[0mreset_option\u001b[0m\u001b[1;33m(\u001b[0m\u001b[1;34m'display.max_rows'\u001b[0m\u001b[1;33m)\u001b[0m\u001b[1;33m\u001b[0m\u001b[1;33m\u001b[0m\u001b[0m\n\u001b[1;32m----> 2\u001b[1;33m \u001b[0mdf\u001b[0m\u001b[1;33m.\u001b[0m\u001b[0mcolumns\u001b[0m\u001b[1;33m.\u001b[0m\u001b[0mvalue_counts\u001b[0m\u001b[1;33m(\u001b[0m\u001b[1;33m)\u001b[0m\u001b[1;33m\u001b[0m\u001b[1;33m\u001b[0m\u001b[0m\n\u001b[0m",
      "\u001b[1;31mAttributeError\u001b[0m: 'dict' object has no attribute 'columns'"
     ]
    }
   ],
   "source": [
    "pd.reset_option('display.max_rows')\n",
    "df.columns.value_counts()\n"
   ]
  },
  {
   "cell_type": "raw",
   "metadata": {
    "ExecuteTime": {
     "end_time": "2021-08-01T18:29:17.459600Z",
     "start_time": "2021-08-01T18:29:17.419234Z"
    }
   },
   "source": [
    "df.drop([str(randint(5,65))],axis=1)"
   ]
  },
  {
   "cell_type": "code",
   "execution_count": 245,
   "metadata": {
    "ExecuteTime": {
     "end_time": "2021-08-01T18:55:31.605647Z",
     "start_time": "2021-08-01T18:55:31.424628Z"
    }
   },
   "outputs": [
    {
     "data": {
      "text/html": [
       "<div>\n",
       "<style scoped>\n",
       "    .dataframe tbody tr th:only-of-type {\n",
       "        vertical-align: middle;\n",
       "    }\n",
       "\n",
       "    .dataframe tbody tr th {\n",
       "        vertical-align: top;\n",
       "    }\n",
       "\n",
       "    .dataframe thead th {\n",
       "        text-align: right;\n",
       "    }\n",
       "</style>\n",
       "<table border=\"1\" class=\"dataframe\">\n",
       "  <thead>\n",
       "    <tr style=\"text-align: right;\">\n",
       "      <th></th>\n",
       "      <th>Mean</th>\n",
       "      <th>Median</th>\n",
       "      <th>Std</th>\n",
       "    </tr>\n",
       "  </thead>\n",
       "  <tbody>\n",
       "    <tr>\n",
       "      <th>1</th>\n",
       "      <td>5.018072e+07</td>\n",
       "      <td>50337226.0</td>\n",
       "      <td>2.883036e+07</td>\n",
       "    </tr>\n",
       "    <tr>\n",
       "      <th>2</th>\n",
       "      <td>5.010053e+07</td>\n",
       "      <td>50511790.5</td>\n",
       "      <td>2.890647e+07</td>\n",
       "    </tr>\n",
       "    <tr>\n",
       "      <th>3</th>\n",
       "      <td>4.975614e+07</td>\n",
       "      <td>49483575.0</td>\n",
       "      <td>2.878840e+07</td>\n",
       "    </tr>\n",
       "    <tr>\n",
       "      <th>4</th>\n",
       "      <td>5.013684e+07</td>\n",
       "      <td>50062904.0</td>\n",
       "      <td>2.879563e+07</td>\n",
       "    </tr>\n",
       "    <tr>\n",
       "      <th>6</th>\n",
       "      <td>4.986504e+07</td>\n",
       "      <td>50008721.0</td>\n",
       "      <td>2.883863e+07</td>\n",
       "    </tr>\n",
       "    <tr>\n",
       "      <th>...</th>\n",
       "      <td>...</td>\n",
       "      <td>...</td>\n",
       "      <td>...</td>\n",
       "    </tr>\n",
       "    <tr>\n",
       "      <th>96</th>\n",
       "      <td>4.989944e+07</td>\n",
       "      <td>49683957.5</td>\n",
       "      <td>2.879637e+07</td>\n",
       "    </tr>\n",
       "    <tr>\n",
       "      <th>97</th>\n",
       "      <td>5.030418e+07</td>\n",
       "      <td>50285882.5</td>\n",
       "      <td>2.899288e+07</td>\n",
       "    </tr>\n",
       "    <tr>\n",
       "      <th>98</th>\n",
       "      <td>5.001469e+07</td>\n",
       "      <td>49879282.0</td>\n",
       "      <td>2.888605e+07</td>\n",
       "    </tr>\n",
       "    <tr>\n",
       "      <th>99</th>\n",
       "      <td>5.006119e+07</td>\n",
       "      <td>50089647.5</td>\n",
       "      <td>2.877541e+07</td>\n",
       "    </tr>\n",
       "    <tr>\n",
       "      <th>100</th>\n",
       "      <td>5.009904e+07</td>\n",
       "      <td>50208505.5</td>\n",
       "      <td>2.890701e+07</td>\n",
       "    </tr>\n",
       "  </tbody>\n",
       "</table>\n",
       "<p>81 rows × 3 columns</p>\n",
       "</div>"
      ],
      "text/plain": [
       "             Mean      Median           Std\n",
       "1    5.018072e+07  50337226.0  2.883036e+07\n",
       "2    5.010053e+07  50511790.5  2.890647e+07\n",
       "3    4.975614e+07  49483575.0  2.878840e+07\n",
       "4    5.013684e+07  50062904.0  2.879563e+07\n",
       "6    4.986504e+07  50008721.0  2.883863e+07\n",
       "..            ...         ...           ...\n",
       "96   4.989944e+07  49683957.5  2.879637e+07\n",
       "97   5.030418e+07  50285882.5  2.899288e+07\n",
       "98   5.001469e+07  49879282.0  2.888605e+07\n",
       "99   5.006119e+07  50089647.5  2.877541e+07\n",
       "100  5.009904e+07  50208505.5  2.890701e+07\n",
       "\n",
       "[81 rows x 3 columns]"
      ]
     },
     "execution_count": 245,
     "metadata": {},
     "output_type": "execute_result"
    }
   ],
   "source": [
    "mean_df = {'Mean' : np.mean(df,axis=0),'Median': np.median(df,axis=0),'Std': np.std(df,axis=0)}\n",
    "mean_df = pd.DataFrame(mean_df)\n",
    "mean_df"
   ]
  },
  {
   "cell_type": "code",
   "execution_count": 716,
   "metadata": {
    "ExecuteTime": {
     "end_time": "2021-08-04T12:15:22.918645Z",
     "start_time": "2021-08-04T12:15:18.947507Z"
    },
    "code_folding": [],
    "scrolled": false
   },
   "outputs": [
    {
     "name": "stderr",
     "output_type": "stream",
     "text": [
      "C:\\Users\\Jacqu\\anaconda3\\lib\\site-packages\\seaborn\\distributions.py:2551: FutureWarning: `distplot` is a deprecated function and will be removed in a future version. Please adapt your code to use either `displot` (a figure-level function with similar flexibility) or `histplot` (an axes-level function for histograms).\n",
      "  warnings.warn(msg, FutureWarning)\n",
      "C:\\Users\\Jacqu\\anaconda3\\lib\\site-packages\\seaborn\\distributions.py:2551: FutureWarning: `distplot` is a deprecated function and will be removed in a future version. Please adapt your code to use either `displot` (a figure-level function with similar flexibility) or `histplot` (an axes-level function for histograms).\n",
      "  warnings.warn(msg, FutureWarning)\n",
      "C:\\Users\\Jacqu\\anaconda3\\lib\\site-packages\\seaborn\\distributions.py:2551: FutureWarning: `distplot` is a deprecated function and will be removed in a future version. Please adapt your code to use either `displot` (a figure-level function with similar flexibility) or `histplot` (an axes-level function for histograms).\n",
      "  warnings.warn(msg, FutureWarning)\n",
      "C:\\Users\\Jacqu\\anaconda3\\lib\\site-packages\\seaborn\\distributions.py:2551: FutureWarning: `distplot` is a deprecated function and will be removed in a future version. Please adapt your code to use either `displot` (a figure-level function with similar flexibility) or `histplot` (an axes-level function for histograms).\n",
      "  warnings.warn(msg, FutureWarning)\n",
      "C:\\Users\\Jacqu\\anaconda3\\lib\\site-packages\\seaborn\\distributions.py:2551: FutureWarning: `distplot` is a deprecated function and will be removed in a future version. Please adapt your code to use either `displot` (a figure-level function with similar flexibility) or `histplot` (an axes-level function for histograms).\n",
      "  warnings.warn(msg, FutureWarning)\n",
      "C:\\Users\\Jacqu\\anaconda3\\lib\\site-packages\\seaborn\\distributions.py:2551: FutureWarning: `distplot` is a deprecated function and will be removed in a future version. Please adapt your code to use either `displot` (a figure-level function with similar flexibility) or `histplot` (an axes-level function for histograms).\n",
      "  warnings.warn(msg, FutureWarning)\n",
      "C:\\Users\\Jacqu\\anaconda3\\lib\\site-packages\\seaborn\\distributions.py:2551: FutureWarning: `distplot` is a deprecated function and will be removed in a future version. Please adapt your code to use either `displot` (a figure-level function with similar flexibility) or `histplot` (an axes-level function for histograms).\n",
      "  warnings.warn(msg, FutureWarning)\n",
      "C:\\Users\\Jacqu\\anaconda3\\lib\\site-packages\\seaborn\\distributions.py:2551: FutureWarning: `distplot` is a deprecated function and will be removed in a future version. Please adapt your code to use either `displot` (a figure-level function with similar flexibility) or `histplot` (an axes-level function for histograms).\n",
      "  warnings.warn(msg, FutureWarning)\n"
     ]
    },
    {
     "data": {
      "image/png": "[encoded data removed]",
      "text/plain": [
       "<Figure size 1152x576 with 1 Axes>"
      ]
     },
     "metadata": {},
     "output_type": "display_data"
    },
    {
     "data": {
      "image/png": "[encoded data removed]",
      "text/plain": [
       "<Figure size 1152x576 with 1 Axes>"
      ]
     },
     "metadata": {},
     "output_type": "display_data"
    },
    {
     "data": {
      "image/png": "[encoded data removed]",
      "text/plain": [
       "<Figure size 1152x576 with 1 Axes>"
      ]
     },
     "metadata": {},
     "output_type": "display_data"
    },
    {
     "data": {
      "image/png": "[encoded data removed]",
      "text/plain": [
       "<Figure size 1152x576 with 1 Axes>"
      ]
     },
     "metadata": {},
     "output_type": "display_data"
    },
    {
     "data": {
      "image/png": "[encoded data removed]",
      "text/plain": [
       "<Figure size 1152x576 with 1 Axes>"
      ]
     },
     "metadata": {},
     "output_type": "display_data"
    },
    {
     "data": {
      "image/png": "[encoded data removed]",
      "text/plain": [
       "<Figure size 1152x576 with 1 Axes>"
      ]
     },
     "metadata": {},
     "output_type": "display_data"
    },
    {
     "data": {
      "image/png": "[encoded data removed]",
      "text/plain": [
       "<Figure size 1152x576 with 1 Axes>"
      ]
     },
     "metadata": {},
     "output_type": "display_data"
    },
    {
     "data": {
      "image/png": "[encoded data removed]",
      "text/plain": [
       "<Figure size 1152x576 with 1 Axes>"
      ]
     },
     "metadata": {},
     "output_type": "display_data"
    }
   ],
   "source": [
    "import matplotlib.pyplot as plt\n",
    "import seaborn as sns\n",
    "from matplotlib.colors import BASE_COLORS\n",
    "def df_hist(df):\n",
    "    \"\"\"\n",
    "    docs\n",
    "    \"\"\"\n",
    "    sns.set(rc={'figure.figsize':(16,8)})\n",
    "    for i, col in enumerate(df):\n",
    "        plt.figure(i)\n",
    "        sns.distplot(df[col], color = list(BASE_COLORS.keys())[i])\n",
    "        \n",
    "    plt.show()\n",
    "df_hist(df.sample(45))\n"
   ]
  },
  {
   "cell_type": "code",
   "execution_count": 671,
   "metadata": {
    "ExecuteTime": {
     "end_time": "2021-08-02T20:18:05.217745Z",
     "start_time": "2021-08-02T20:17:32.478033Z"
    },
    "scrolled": false
   },
   "outputs": [
    {
     "ename": "KeyboardInterrupt",
     "evalue": "",
     "output_type": "error",
     "traceback": [
      "\u001b[1;31m---------------------------------------------------------------------------\u001b[0m",
      "\u001b[1;31mKeyboardInterrupt\u001b[0m                         Traceback (most recent call last)",
      "\u001b[1;32m<ipython-input-671-108e65e9a061>\u001b[0m in \u001b[0;36m<module>\u001b[1;34m\u001b[0m\n\u001b[0;32m     11\u001b[0m     \u001b[0mplt\u001b[0m\u001b[1;33m.\u001b[0m\u001b[0mshow\u001b[0m\u001b[1;33m(\u001b[0m\u001b[1;33m)\u001b[0m\u001b[1;33m\u001b[0m\u001b[1;33m\u001b[0m\u001b[0m\n\u001b[0;32m     12\u001b[0m \u001b[1;33m\u001b[0m\u001b[0m\n\u001b[1;32m---> 13\u001b[1;33m \u001b[0mdf_bar\u001b[0m\u001b[1;33m(\u001b[0m\u001b[0mdf\u001b[0m\u001b[1;33m)\u001b[0m\u001b[1;33m\u001b[0m\u001b[1;33m\u001b[0m\u001b[0m\n\u001b[0m",
      "\u001b[1;32m<ipython-input-671-108e65e9a061>\u001b[0m in \u001b[0;36mdf_bar\u001b[1;34m(df)\u001b[0m\n\u001b[0;32m      9\u001b[0m         \u001b[0msns\u001b[0m\u001b[1;33m.\u001b[0m\u001b[0mbarplot\u001b[0m\u001b[1;33m(\u001b[0m\u001b[0mx\u001b[0m \u001b[1;33m=\u001b[0m \u001b[0mdf\u001b[0m\u001b[1;33m.\u001b[0m\u001b[0mindex\u001b[0m\u001b[1;33m,\u001b[0m \u001b[0my\u001b[0m \u001b[1;33m=\u001b[0m \u001b[0mdf\u001b[0m\u001b[1;33m[\u001b[0m\u001b[0mcol\u001b[0m\u001b[1;33m]\u001b[0m\u001b[1;33m)\u001b[0m\u001b[1;33m\u001b[0m\u001b[1;33m\u001b[0m\u001b[0m\n\u001b[0;32m     10\u001b[0m \u001b[1;33m\u001b[0m\u001b[0m\n\u001b[1;32m---> 11\u001b[1;33m     \u001b[0mplt\u001b[0m\u001b[1;33m.\u001b[0m\u001b[0mshow\u001b[0m\u001b[1;33m(\u001b[0m\u001b[1;33m)\u001b[0m\u001b[1;33m\u001b[0m\u001b[1;33m\u001b[0m\u001b[0m\n\u001b[0m\u001b[0;32m     12\u001b[0m \u001b[1;33m\u001b[0m\u001b[0m\n\u001b[0;32m     13\u001b[0m \u001b[0mdf_bar\u001b[0m\u001b[1;33m(\u001b[0m\u001b[0mdf\u001b[0m\u001b[1;33m)\u001b[0m\u001b[1;33m\u001b[0m\u001b[1;33m\u001b[0m\u001b[0m\n",
      "\u001b[1;32m~\\anaconda3\\lib\\site-packages\\matplotlib\\pyplot.py\u001b[0m in \u001b[0;36mshow\u001b[1;34m(*args, **kwargs)\u001b[0m\n\u001b[0;32m    351\u001b[0m     \"\"\"\n\u001b[0;32m    352\u001b[0m     \u001b[0m_warn_if_gui_out_of_main_thread\u001b[0m\u001b[1;33m(\u001b[0m\u001b[1;33m)\u001b[0m\u001b[1;33m\u001b[0m\u001b[1;33m\u001b[0m\u001b[0m\n\u001b[1;32m--> 353\u001b[1;33m     \u001b[1;32mreturn\u001b[0m \u001b[0m_backend_mod\u001b[0m\u001b[1;33m.\u001b[0m\u001b[0mshow\u001b[0m\u001b[1;33m(\u001b[0m\u001b[1;33m*\u001b[0m\u001b[0margs\u001b[0m\u001b[1;33m,\u001b[0m \u001b[1;33m**\u001b[0m\u001b[0mkwargs\u001b[0m\u001b[1;33m)\u001b[0m\u001b[1;33m\u001b[0m\u001b[1;33m\u001b[0m\u001b[0m\n\u001b[0m\u001b[0;32m    354\u001b[0m \u001b[1;33m\u001b[0m\u001b[0m\n\u001b[0;32m    355\u001b[0m \u001b[1;33m\u001b[0m\u001b[0m\n",
      "\u001b[1;32m~\\anaconda3\\lib\\site-packages\\ipykernel\\pylab\\backend_inline.py\u001b[0m in \u001b[0;36mshow\u001b[1;34m(close, block)\u001b[0m\n\u001b[0;32m     39\u001b[0m     \u001b[1;32mtry\u001b[0m\u001b[1;33m:\u001b[0m\u001b[1;33m\u001b[0m\u001b[1;33m\u001b[0m\u001b[0m\n\u001b[0;32m     40\u001b[0m         \u001b[1;32mfor\u001b[0m \u001b[0mfigure_manager\u001b[0m \u001b[1;32min\u001b[0m \u001b[0mGcf\u001b[0m\u001b[1;33m.\u001b[0m\u001b[0mget_all_fig_managers\u001b[0m\u001b[1;33m(\u001b[0m\u001b[1;33m)\u001b[0m\u001b[1;33m:\u001b[0m\u001b[1;33m\u001b[0m\u001b[1;33m\u001b[0m\u001b[0m\n\u001b[1;32m---> 41\u001b[1;33m             display(\n\u001b[0m\u001b[0;32m     42\u001b[0m                 \u001b[0mfigure_manager\u001b[0m\u001b[1;33m.\u001b[0m\u001b[0mcanvas\u001b[0m\u001b[1;33m.\u001b[0m\u001b[0mfigure\u001b[0m\u001b[1;33m,\u001b[0m\u001b[1;33m\u001b[0m\u001b[1;33m\u001b[0m\u001b[0m\n\u001b[0;32m     43\u001b[0m                 \u001b[0mmetadata\u001b[0m\u001b[1;33m=\u001b[0m\u001b[0m_fetch_figure_metadata\u001b[0m\u001b[1;33m(\u001b[0m\u001b[0mfigure_manager\u001b[0m\u001b[1;33m.\u001b[0m\u001b[0mcanvas\u001b[0m\u001b[1;33m.\u001b[0m\u001b[0mfigure\u001b[0m\u001b[1;33m)\u001b[0m\u001b[1;33m\u001b[0m\u001b[1;33m\u001b[0m\u001b[0m\n",
      "\u001b[1;32m~\\anaconda3\\lib\\site-packages\\IPython\\core\\display.py\u001b[0m in \u001b[0;36mdisplay\u001b[1;34m(include, exclude, metadata, transient, display_id, *objs, **kwargs)\u001b[0m\n\u001b[0;32m    311\u001b[0m             \u001b[0mpublish_display_data\u001b[0m\u001b[1;33m(\u001b[0m\u001b[0mdata\u001b[0m\u001b[1;33m=\u001b[0m\u001b[0mobj\u001b[0m\u001b[1;33m,\u001b[0m \u001b[0mmetadata\u001b[0m\u001b[1;33m=\u001b[0m\u001b[0mmetadata\u001b[0m\u001b[1;33m,\u001b[0m \u001b[1;33m**\u001b[0m\u001b[0mkwargs\u001b[0m\u001b[1;33m)\u001b[0m\u001b[1;33m\u001b[0m\u001b[1;33m\u001b[0m\u001b[0m\n\u001b[0;32m    312\u001b[0m         \u001b[1;32melse\u001b[0m\u001b[1;33m:\u001b[0m\u001b[1;33m\u001b[0m\u001b[1;33m\u001b[0m\u001b[0m\n\u001b[1;32m--> 313\u001b[1;33m             \u001b[0mformat_dict\u001b[0m\u001b[1;33m,\u001b[0m \u001b[0mmd_dict\u001b[0m \u001b[1;33m=\u001b[0m \u001b[0mformat\u001b[0m\u001b[1;33m(\u001b[0m\u001b[0mobj\u001b[0m\u001b[1;33m,\u001b[0m \u001b[0minclude\u001b[0m\u001b[1;33m=\u001b[0m\u001b[0minclude\u001b[0m\u001b[1;33m,\u001b[0m \u001b[0mexclude\u001b[0m\u001b[1;33m=\u001b[0m\u001b[0mexclude\u001b[0m\u001b[1;33m)\u001b[0m\u001b[1;33m\u001b[0m\u001b[1;33m\u001b[0m\u001b[0m\n\u001b[0m\u001b[0;32m    314\u001b[0m             \u001b[1;32mif\u001b[0m \u001b[1;32mnot\u001b[0m \u001b[0mformat_dict\u001b[0m\u001b[1;33m:\u001b[0m\u001b[1;33m\u001b[0m\u001b[1;33m\u001b[0m\u001b[0m\n\u001b[0;32m    315\u001b[0m                 \u001b[1;31m# nothing to display (e.g. _ipython_display_ took over)\u001b[0m\u001b[1;33m\u001b[0m\u001b[1;33m\u001b[0m\u001b[1;33m\u001b[0m\u001b[0m\n",
      "\u001b[1;32m~\\anaconda3\\lib\\site-packages\\IPython\\core\\formatters.py\u001b[0m in \u001b[0;36mformat\u001b[1;34m(self, obj, include, exclude)\u001b[0m\n\u001b[0;32m    178\u001b[0m             \u001b[0mmd\u001b[0m \u001b[1;33m=\u001b[0m \u001b[1;32mNone\u001b[0m\u001b[1;33m\u001b[0m\u001b[1;33m\u001b[0m\u001b[0m\n\u001b[0;32m    179\u001b[0m             \u001b[1;32mtry\u001b[0m\u001b[1;33m:\u001b[0m\u001b[1;33m\u001b[0m\u001b[1;33m\u001b[0m\u001b[0m\n\u001b[1;32m--> 180\u001b[1;33m                 \u001b[0mdata\u001b[0m \u001b[1;33m=\u001b[0m \u001b[0mformatter\u001b[0m\u001b[1;33m(\u001b[0m\u001b[0mobj\u001b[0m\u001b[1;33m)\u001b[0m\u001b[1;33m\u001b[0m\u001b[1;33m\u001b[0m\u001b[0m\n\u001b[0m\u001b[0;32m    181\u001b[0m             \u001b[1;32mexcept\u001b[0m\u001b[1;33m:\u001b[0m\u001b[1;33m\u001b[0m\u001b[1;33m\u001b[0m\u001b[0m\n\u001b[0;32m    182\u001b[0m                 \u001b[1;31m# FIXME: log the exception\u001b[0m\u001b[1;33m\u001b[0m\u001b[1;33m\u001b[0m\u001b[1;33m\u001b[0m\u001b[0m\n",
      "\u001b[1;32m<decorator-gen-9>\u001b[0m in \u001b[0;36m__call__\u001b[1;34m(self, obj)\u001b[0m\n",
      "\u001b[1;32m~\\anaconda3\\lib\\site-packages\\IPython\\core\\formatters.py\u001b[0m in \u001b[0;36mcatch_format_error\u001b[1;34m(method, self, *args, **kwargs)\u001b[0m\n\u001b[0;32m    222\u001b[0m     \u001b[1;34m\"\"\"show traceback on failed format call\"\"\"\u001b[0m\u001b[1;33m\u001b[0m\u001b[1;33m\u001b[0m\u001b[0m\n\u001b[0;32m    223\u001b[0m     \u001b[1;32mtry\u001b[0m\u001b[1;33m:\u001b[0m\u001b[1;33m\u001b[0m\u001b[1;33m\u001b[0m\u001b[0m\n\u001b[1;32m--> 224\u001b[1;33m         \u001b[0mr\u001b[0m \u001b[1;33m=\u001b[0m \u001b[0mmethod\u001b[0m\u001b[1;33m(\u001b[0m\u001b[0mself\u001b[0m\u001b[1;33m,\u001b[0m \u001b[1;33m*\u001b[0m\u001b[0margs\u001b[0m\u001b[1;33m,\u001b[0m \u001b[1;33m**\u001b[0m\u001b[0mkwargs\u001b[0m\u001b[1;33m)\u001b[0m\u001b[1;33m\u001b[0m\u001b[1;33m\u001b[0m\u001b[0m\n\u001b[0m\u001b[0;32m    225\u001b[0m     \u001b[1;32mexcept\u001b[0m \u001b[0mNotImplementedError\u001b[0m\u001b[1;33m:\u001b[0m\u001b[1;33m\u001b[0m\u001b[1;33m\u001b[0m\u001b[0m\n\u001b[0;32m    226\u001b[0m         \u001b[1;31m# don't warn on NotImplementedErrors\u001b[0m\u001b[1;33m\u001b[0m\u001b[1;33m\u001b[0m\u001b[1;33m\u001b[0m\u001b[0m\n",
      "\u001b[1;32m~\\anaconda3\\lib\\site-packages\\IPython\\core\\formatters.py\u001b[0m in \u001b[0;36m__call__\u001b[1;34m(self, obj)\u001b[0m\n\u001b[0;32m    339\u001b[0m                 \u001b[1;32mpass\u001b[0m\u001b[1;33m\u001b[0m\u001b[1;33m\u001b[0m\u001b[0m\n\u001b[0;32m    340\u001b[0m             \u001b[1;32melse\u001b[0m\u001b[1;33m:\u001b[0m\u001b[1;33m\u001b[0m\u001b[1;33m\u001b[0m\u001b[0m\n\u001b[1;32m--> 341\u001b[1;33m                 \u001b[1;32mreturn\u001b[0m \u001b[0mprinter\u001b[0m\u001b[1;33m(\u001b[0m\u001b[0mobj\u001b[0m\u001b[1;33m)\u001b[0m\u001b[1;33m\u001b[0m\u001b[1;33m\u001b[0m\u001b[0m\n\u001b[0m\u001b[0;32m    342\u001b[0m             \u001b[1;31m# Finally look for special method names\u001b[0m\u001b[1;33m\u001b[0m\u001b[1;33m\u001b[0m\u001b[1;33m\u001b[0m\u001b[0m\n\u001b[0;32m    343\u001b[0m             \u001b[0mmethod\u001b[0m \u001b[1;33m=\u001b[0m \u001b[0mget_real_method\u001b[0m\u001b[1;33m(\u001b[0m\u001b[0mobj\u001b[0m\u001b[1;33m,\u001b[0m \u001b[0mself\u001b[0m\u001b[1;33m.\u001b[0m\u001b[0mprint_method\u001b[0m\u001b[1;33m)\u001b[0m\u001b[1;33m\u001b[0m\u001b[1;33m\u001b[0m\u001b[0m\n",
      "\u001b[1;32m~\\anaconda3\\lib\\site-packages\\IPython\\core\\pylabtools.py\u001b[0m in \u001b[0;36m<lambda>\u001b[1;34m(fig)\u001b[0m\n\u001b[0;32m    246\u001b[0m \u001b[1;33m\u001b[0m\u001b[0m\n\u001b[0;32m    247\u001b[0m     \u001b[1;32mif\u001b[0m \u001b[1;34m'png'\u001b[0m \u001b[1;32min\u001b[0m \u001b[0mformats\u001b[0m\u001b[1;33m:\u001b[0m\u001b[1;33m\u001b[0m\u001b[1;33m\u001b[0m\u001b[0m\n\u001b[1;32m--> 248\u001b[1;33m         \u001b[0mpng_formatter\u001b[0m\u001b[1;33m.\u001b[0m\u001b[0mfor_type\u001b[0m\u001b[1;33m(\u001b[0m\u001b[0mFigure\u001b[0m\u001b[1;33m,\u001b[0m \u001b[1;32mlambda\u001b[0m \u001b[0mfig\u001b[0m\u001b[1;33m:\u001b[0m \u001b[0mprint_figure\u001b[0m\u001b[1;33m(\u001b[0m\u001b[0mfig\u001b[0m\u001b[1;33m,\u001b[0m \u001b[1;34m'png'\u001b[0m\u001b[1;33m,\u001b[0m \u001b[1;33m**\u001b[0m\u001b[0mkwargs\u001b[0m\u001b[1;33m)\u001b[0m\u001b[1;33m)\u001b[0m\u001b[1;33m\u001b[0m\u001b[1;33m\u001b[0m\u001b[0m\n\u001b[0m\u001b[0;32m    249\u001b[0m     \u001b[1;32mif\u001b[0m \u001b[1;34m'retina'\u001b[0m \u001b[1;32min\u001b[0m \u001b[0mformats\u001b[0m \u001b[1;32mor\u001b[0m \u001b[1;34m'png2x'\u001b[0m \u001b[1;32min\u001b[0m \u001b[0mformats\u001b[0m\u001b[1;33m:\u001b[0m\u001b[1;33m\u001b[0m\u001b[1;33m\u001b[0m\u001b[0m\n\u001b[0;32m    250\u001b[0m         \u001b[0mpng_formatter\u001b[0m\u001b[1;33m.\u001b[0m\u001b[0mfor_type\u001b[0m\u001b[1;33m(\u001b[0m\u001b[0mFigure\u001b[0m\u001b[1;33m,\u001b[0m \u001b[1;32mlambda\u001b[0m \u001b[0mfig\u001b[0m\u001b[1;33m:\u001b[0m \u001b[0mretina_figure\u001b[0m\u001b[1;33m(\u001b[0m\u001b[0mfig\u001b[0m\u001b[1;33m,\u001b[0m \u001b[1;33m**\u001b[0m\u001b[0mkwargs\u001b[0m\u001b[1;33m)\u001b[0m\u001b[1;33m)\u001b[0m\u001b[1;33m\u001b[0m\u001b[1;33m\u001b[0m\u001b[0m\n",
      "\u001b[1;32m~\\anaconda3\\lib\\site-packages\\IPython\\core\\pylabtools.py\u001b[0m in \u001b[0;36mprint_figure\u001b[1;34m(fig, fmt, bbox_inches, **kwargs)\u001b[0m\n\u001b[0;32m    130\u001b[0m         \u001b[0mFigureCanvasBase\u001b[0m\u001b[1;33m(\u001b[0m\u001b[0mfig\u001b[0m\u001b[1;33m)\u001b[0m\u001b[1;33m\u001b[0m\u001b[1;33m\u001b[0m\u001b[0m\n\u001b[0;32m    131\u001b[0m \u001b[1;33m\u001b[0m\u001b[0m\n\u001b[1;32m--> 132\u001b[1;33m     \u001b[0mfig\u001b[0m\u001b[1;33m.\u001b[0m\u001b[0mcanvas\u001b[0m\u001b[1;33m.\u001b[0m\u001b[0mprint_figure\u001b[0m\u001b[1;33m(\u001b[0m\u001b[0mbytes_io\u001b[0m\u001b[1;33m,\u001b[0m \u001b[1;33m**\u001b[0m\u001b[0mkw\u001b[0m\u001b[1;33m)\u001b[0m\u001b[1;33m\u001b[0m\u001b[1;33m\u001b[0m\u001b[0m\n\u001b[0m\u001b[0;32m    133\u001b[0m     \u001b[0mdata\u001b[0m \u001b[1;33m=\u001b[0m \u001b[0mbytes_io\u001b[0m\u001b[1;33m.\u001b[0m\u001b[0mgetvalue\u001b[0m\u001b[1;33m(\u001b[0m\u001b[1;33m)\u001b[0m\u001b[1;33m\u001b[0m\u001b[1;33m\u001b[0m\u001b[0m\n\u001b[0;32m    134\u001b[0m     \u001b[1;32mif\u001b[0m \u001b[0mfmt\u001b[0m \u001b[1;33m==\u001b[0m \u001b[1;34m'svg'\u001b[0m\u001b[1;33m:\u001b[0m\u001b[1;33m\u001b[0m\u001b[1;33m\u001b[0m\u001b[0m\n",
      "\u001b[1;32m~\\anaconda3\\lib\\site-packages\\matplotlib\\backend_bases.py\u001b[0m in \u001b[0;36mprint_figure\u001b[1;34m(self, filename, dpi, facecolor, edgecolor, orientation, format, bbox_inches, pad_inches, bbox_extra_artists, backend, **kwargs)\u001b[0m\n\u001b[0;32m   2193\u001b[0m                         \u001b[0mself\u001b[0m\u001b[1;33m.\u001b[0m\u001b[0mfigure\u001b[0m\u001b[1;33m.\u001b[0m\u001b[0mdraw\u001b[0m\u001b[1;33m(\u001b[0m\u001b[0mrenderer\u001b[0m\u001b[1;33m)\u001b[0m\u001b[1;33m\u001b[0m\u001b[1;33m\u001b[0m\u001b[0m\n\u001b[0;32m   2194\u001b[0m \u001b[1;33m\u001b[0m\u001b[0m\n\u001b[1;32m-> 2195\u001b[1;33m                     bbox_inches = self.figure.get_tightbbox(\n\u001b[0m\u001b[0;32m   2196\u001b[0m                         renderer, bbox_extra_artists=bbox_extra_artists)\n\u001b[0;32m   2197\u001b[0m                     \u001b[1;32mif\u001b[0m \u001b[0mpad_inches\u001b[0m \u001b[1;32mis\u001b[0m \u001b[1;32mNone\u001b[0m\u001b[1;33m:\u001b[0m\u001b[1;33m\u001b[0m\u001b[1;33m\u001b[0m\u001b[0m\n",
      "\u001b[1;32m~\\anaconda3\\lib\\site-packages\\matplotlib\\figure.py\u001b[0m in \u001b[0;36mget_tightbbox\u001b[1;34m(self, renderer, bbox_extra_artists)\u001b[0m\n\u001b[0;32m   2504\u001b[0m \u001b[1;33m\u001b[0m\u001b[0m\n\u001b[0;32m   2505\u001b[0m         \u001b[1;32mfor\u001b[0m \u001b[0ma\u001b[0m \u001b[1;32min\u001b[0m \u001b[0martists\u001b[0m\u001b[1;33m:\u001b[0m\u001b[1;33m\u001b[0m\u001b[1;33m\u001b[0m\u001b[0m\n\u001b[1;32m-> 2506\u001b[1;33m             \u001b[0mbbox\u001b[0m \u001b[1;33m=\u001b[0m \u001b[0ma\u001b[0m\u001b[1;33m.\u001b[0m\u001b[0mget_tightbbox\u001b[0m\u001b[1;33m(\u001b[0m\u001b[0mrenderer\u001b[0m\u001b[1;33m)\u001b[0m\u001b[1;33m\u001b[0m\u001b[1;33m\u001b[0m\u001b[0m\n\u001b[0m\u001b[0;32m   2507\u001b[0m             \u001b[1;32mif\u001b[0m \u001b[0mbbox\u001b[0m \u001b[1;32mis\u001b[0m \u001b[1;32mnot\u001b[0m \u001b[1;32mNone\u001b[0m \u001b[1;32mand\u001b[0m \u001b[1;33m(\u001b[0m\u001b[0mbbox\u001b[0m\u001b[1;33m.\u001b[0m\u001b[0mwidth\u001b[0m \u001b[1;33m!=\u001b[0m \u001b[1;36m0\u001b[0m \u001b[1;32mor\u001b[0m \u001b[0mbbox\u001b[0m\u001b[1;33m.\u001b[0m\u001b[0mheight\u001b[0m \u001b[1;33m!=\u001b[0m \u001b[1;36m0\u001b[0m\u001b[1;33m)\u001b[0m\u001b[1;33m:\u001b[0m\u001b[1;33m\u001b[0m\u001b[1;33m\u001b[0m\u001b[0m\n\u001b[0;32m   2508\u001b[0m                 \u001b[0mbb\u001b[0m\u001b[1;33m.\u001b[0m\u001b[0mappend\u001b[0m\u001b[1;33m(\u001b[0m\u001b[0mbbox\u001b[0m\u001b[1;33m)\u001b[0m\u001b[1;33m\u001b[0m\u001b[1;33m\u001b[0m\u001b[0m\n",
      "\u001b[1;32m~\\anaconda3\\lib\\site-packages\\matplotlib\\axes\\_base.py\u001b[0m in \u001b[0;36mget_tightbbox\u001b[1;34m(self, renderer, call_axes_locator, bbox_extra_artists, for_layout_only)\u001b[0m\n\u001b[0;32m   4169\u001b[0m                 \u001b[1;32mif\u001b[0m \u001b[0mbb_yaxis\u001b[0m\u001b[1;33m:\u001b[0m\u001b[1;33m\u001b[0m\u001b[1;33m\u001b[0m\u001b[0m\n\u001b[0;32m   4170\u001b[0m                     \u001b[0mbb\u001b[0m\u001b[1;33m.\u001b[0m\u001b[0mappend\u001b[0m\u001b[1;33m(\u001b[0m\u001b[0mbb_yaxis\u001b[0m\u001b[1;33m)\u001b[0m\u001b[1;33m\u001b[0m\u001b[1;33m\u001b[0m\u001b[0m\n\u001b[1;32m-> 4171\u001b[1;33m         \u001b[0mself\u001b[0m\u001b[1;33m.\u001b[0m\u001b[0m_update_title_position\u001b[0m\u001b[1;33m(\u001b[0m\u001b[0mrenderer\u001b[0m\u001b[1;33m)\u001b[0m\u001b[1;33m\u001b[0m\u001b[1;33m\u001b[0m\u001b[0m\n\u001b[0m\u001b[0;32m   4172\u001b[0m         \u001b[0maxbbox\u001b[0m \u001b[1;33m=\u001b[0m \u001b[0mself\u001b[0m\u001b[1;33m.\u001b[0m\u001b[0mget_window_extent\u001b[0m\u001b[1;33m(\u001b[0m\u001b[0mrenderer\u001b[0m\u001b[1;33m)\u001b[0m\u001b[1;33m\u001b[0m\u001b[1;33m\u001b[0m\u001b[0m\n\u001b[0;32m   4173\u001b[0m         \u001b[0mbb\u001b[0m\u001b[1;33m.\u001b[0m\u001b[0mappend\u001b[0m\u001b[1;33m(\u001b[0m\u001b[0maxbbox\u001b[0m\u001b[1;33m)\u001b[0m\u001b[1;33m\u001b[0m\u001b[1;33m\u001b[0m\u001b[0m\n",
      "\u001b[1;32m~\\anaconda3\\lib\\site-packages\\matplotlib\\axes\\_base.py\u001b[0m in \u001b[0;36m_update_title_position\u001b[1;34m(self, renderer)\u001b[0m\n\u001b[0;32m   2636\u001b[0m                 if (ax.xaxis.get_ticks_position() in ['top', 'unknown']\n\u001b[0;32m   2637\u001b[0m                         or ax.xaxis.get_label_position() == 'top'):\n\u001b[1;32m-> 2638\u001b[1;33m                     \u001b[0mbb\u001b[0m \u001b[1;33m=\u001b[0m \u001b[0max\u001b[0m\u001b[1;33m.\u001b[0m\u001b[0mxaxis\u001b[0m\u001b[1;33m.\u001b[0m\u001b[0mget_tightbbox\u001b[0m\u001b[1;33m(\u001b[0m\u001b[0mrenderer\u001b[0m\u001b[1;33m)\u001b[0m\u001b[1;33m\u001b[0m\u001b[1;33m\u001b[0m\u001b[0m\n\u001b[0m\u001b[0;32m   2639\u001b[0m                 \u001b[1;32melse\u001b[0m\u001b[1;33m:\u001b[0m\u001b[1;33m\u001b[0m\u001b[1;33m\u001b[0m\u001b[0m\n\u001b[0;32m   2640\u001b[0m                     \u001b[0mbb\u001b[0m \u001b[1;33m=\u001b[0m \u001b[0max\u001b[0m\u001b[1;33m.\u001b[0m\u001b[0mget_window_extent\u001b[0m\u001b[1;33m(\u001b[0m\u001b[0mrenderer\u001b[0m\u001b[1;33m)\u001b[0m\u001b[1;33m\u001b[0m\u001b[1;33m\u001b[0m\u001b[0m\n",
      "\u001b[1;32m~\\anaconda3\\lib\\site-packages\\matplotlib\\axis.py\u001b[0m in \u001b[0;36mget_tightbbox\u001b[1;34m(self, renderer, for_layout_only)\u001b[0m\n\u001b[0;32m   1112\u001b[0m \u001b[1;33m\u001b[0m\u001b[0m\n\u001b[0;32m   1113\u001b[0m         \u001b[1;31m# go back to just this axis's tick labels\u001b[0m\u001b[1;33m\u001b[0m\u001b[1;33m\u001b[0m\u001b[1;33m\u001b[0m\u001b[0m\n\u001b[1;32m-> 1114\u001b[1;33m         ticklabelBoxes, ticklabelBoxes2 = self._get_tick_bboxes(\n\u001b[0m\u001b[0;32m   1115\u001b[0m                     ticks_to_draw, renderer)\n\u001b[0;32m   1116\u001b[0m \u001b[1;33m\u001b[0m\u001b[0m\n",
      "\u001b[1;32m~\\anaconda3\\lib\\site-packages\\matplotlib\\axis.py\u001b[0m in \u001b[0;36m_get_tick_bboxes\u001b[1;34m(self, ticks, renderer)\u001b[0m\n\u001b[0;32m   1089\u001b[0m     \u001b[1;32mdef\u001b[0m \u001b[0m_get_tick_bboxes\u001b[0m\u001b[1;33m(\u001b[0m\u001b[0mself\u001b[0m\u001b[1;33m,\u001b[0m \u001b[0mticks\u001b[0m\u001b[1;33m,\u001b[0m \u001b[0mrenderer\u001b[0m\u001b[1;33m)\u001b[0m\u001b[1;33m:\u001b[0m\u001b[1;33m\u001b[0m\u001b[1;33m\u001b[0m\u001b[0m\n\u001b[0;32m   1090\u001b[0m         \u001b[1;34m\"\"\"Return lists of bboxes for ticks' label1's and label2's.\"\"\"\u001b[0m\u001b[1;33m\u001b[0m\u001b[1;33m\u001b[0m\u001b[0m\n\u001b[1;32m-> 1091\u001b[1;33m         return ([tick.label1.get_window_extent(renderer)\n\u001b[0m\u001b[0;32m   1092\u001b[0m                  for tick in ticks if tick.label1.get_visible()],\n\u001b[0;32m   1093\u001b[0m                 [tick.label2.get_window_extent(renderer)\n",
      "\u001b[1;32m~\\anaconda3\\lib\\site-packages\\matplotlib\\axis.py\u001b[0m in \u001b[0;36m<listcomp>\u001b[1;34m(.0)\u001b[0m\n\u001b[0;32m   1089\u001b[0m     \u001b[1;32mdef\u001b[0m \u001b[0m_get_tick_bboxes\u001b[0m\u001b[1;33m(\u001b[0m\u001b[0mself\u001b[0m\u001b[1;33m,\u001b[0m \u001b[0mticks\u001b[0m\u001b[1;33m,\u001b[0m \u001b[0mrenderer\u001b[0m\u001b[1;33m)\u001b[0m\u001b[1;33m:\u001b[0m\u001b[1;33m\u001b[0m\u001b[1;33m\u001b[0m\u001b[0m\n\u001b[0;32m   1090\u001b[0m         \u001b[1;34m\"\"\"Return lists of bboxes for ticks' label1's and label2's.\"\"\"\u001b[0m\u001b[1;33m\u001b[0m\u001b[1;33m\u001b[0m\u001b[0m\n\u001b[1;32m-> 1091\u001b[1;33m         return ([tick.label1.get_window_extent(renderer)\n\u001b[0m\u001b[0;32m   1092\u001b[0m                  for tick in ticks if tick.label1.get_visible()],\n\u001b[0;32m   1093\u001b[0m                 [tick.label2.get_window_extent(renderer)\n",
      "\u001b[1;32m~\\anaconda3\\lib\\site-packages\\matplotlib\\text.py\u001b[0m in \u001b[0;36mget_window_extent\u001b[1;34m(self, renderer, dpi)\u001b[0m\n\u001b[0;32m    898\u001b[0m \u001b[1;33m\u001b[0m\u001b[0m\n\u001b[0;32m    899\u001b[0m         \u001b[1;32mwith\u001b[0m \u001b[0mcbook\u001b[0m\u001b[1;33m.\u001b[0m\u001b[0m_setattr_cm\u001b[0m\u001b[1;33m(\u001b[0m\u001b[0mself\u001b[0m\u001b[1;33m.\u001b[0m\u001b[0mfigure\u001b[0m\u001b[1;33m,\u001b[0m \u001b[0mdpi\u001b[0m\u001b[1;33m=\u001b[0m\u001b[0mdpi\u001b[0m\u001b[1;33m)\u001b[0m\u001b[1;33m:\u001b[0m\u001b[1;33m\u001b[0m\u001b[1;33m\u001b[0m\u001b[0m\n\u001b[1;32m--> 900\u001b[1;33m             \u001b[0mbbox\u001b[0m\u001b[1;33m,\u001b[0m \u001b[0minfo\u001b[0m\u001b[1;33m,\u001b[0m \u001b[0mdescent\u001b[0m \u001b[1;33m=\u001b[0m \u001b[0mself\u001b[0m\u001b[1;33m.\u001b[0m\u001b[0m_get_layout\u001b[0m\u001b[1;33m(\u001b[0m\u001b[0mself\u001b[0m\u001b[1;33m.\u001b[0m\u001b[0m_renderer\u001b[0m\u001b[1;33m)\u001b[0m\u001b[1;33m\u001b[0m\u001b[1;33m\u001b[0m\u001b[0m\n\u001b[0m\u001b[0;32m    901\u001b[0m             \u001b[0mx\u001b[0m\u001b[1;33m,\u001b[0m \u001b[0my\u001b[0m \u001b[1;33m=\u001b[0m \u001b[0mself\u001b[0m\u001b[1;33m.\u001b[0m\u001b[0mget_unitless_position\u001b[0m\u001b[1;33m(\u001b[0m\u001b[1;33m)\u001b[0m\u001b[1;33m\u001b[0m\u001b[1;33m\u001b[0m\u001b[0m\n\u001b[0;32m    902\u001b[0m             \u001b[0mx\u001b[0m\u001b[1;33m,\u001b[0m \u001b[0my\u001b[0m \u001b[1;33m=\u001b[0m \u001b[0mself\u001b[0m\u001b[1;33m.\u001b[0m\u001b[0mget_transform\u001b[0m\u001b[1;33m(\u001b[0m\u001b[1;33m)\u001b[0m\u001b[1;33m.\u001b[0m\u001b[0mtransform\u001b[0m\u001b[1;33m(\u001b[0m\u001b[1;33m(\u001b[0m\u001b[0mx\u001b[0m\u001b[1;33m,\u001b[0m \u001b[0my\u001b[0m\u001b[1;33m)\u001b[0m\u001b[1;33m)\u001b[0m\u001b[1;33m\u001b[0m\u001b[1;33m\u001b[0m\u001b[0m\n",
      "\u001b[1;32m~\\anaconda3\\lib\\site-packages\\matplotlib\\text.py\u001b[0m in \u001b[0;36m_get_layout\u001b[1;34m(self, renderer)\u001b[0m\n\u001b[0;32m    283\u001b[0m \u001b[1;33m\u001b[0m\u001b[0m\n\u001b[0;32m    284\u001b[0m         \u001b[1;31m# Full vertical extent of font, including ascenders and descenders:\u001b[0m\u001b[1;33m\u001b[0m\u001b[1;33m\u001b[0m\u001b[1;33m\u001b[0m\u001b[0m\n\u001b[1;32m--> 285\u001b[1;33m         _, lp_h, lp_d = renderer.get_text_width_height_descent(\n\u001b[0m\u001b[0;32m    286\u001b[0m             \u001b[1;34m\"lp\"\u001b[0m\u001b[1;33m,\u001b[0m \u001b[0mself\u001b[0m\u001b[1;33m.\u001b[0m\u001b[0m_fontproperties\u001b[0m\u001b[1;33m,\u001b[0m\u001b[1;33m\u001b[0m\u001b[1;33m\u001b[0m\u001b[0m\n\u001b[0;32m    287\u001b[0m             ismath=\"TeX\" if self.get_usetex() else False)\n",
      "\u001b[1;32m~\\anaconda3\\lib\\site-packages\\matplotlib\\backends\\backend_agg.py\u001b[0m in \u001b[0;36mget_text_width_height_descent\u001b[1;34m(self, s, prop, ismath)\u001b[0m\n\u001b[0;32m    235\u001b[0m \u001b[1;33m\u001b[0m\u001b[0m\n\u001b[0;32m    236\u001b[0m         \u001b[0mflags\u001b[0m \u001b[1;33m=\u001b[0m \u001b[0mget_hinting_flag\u001b[0m\u001b[1;33m(\u001b[0m\u001b[1;33m)\u001b[0m\u001b[1;33m\u001b[0m\u001b[1;33m\u001b[0m\u001b[0m\n\u001b[1;32m--> 237\u001b[1;33m         \u001b[0mfont\u001b[0m \u001b[1;33m=\u001b[0m \u001b[0mself\u001b[0m\u001b[1;33m.\u001b[0m\u001b[0m_get_agg_font\u001b[0m\u001b[1;33m(\u001b[0m\u001b[0mprop\u001b[0m\u001b[1;33m)\u001b[0m\u001b[1;33m\u001b[0m\u001b[1;33m\u001b[0m\u001b[0m\n\u001b[0m\u001b[0;32m    238\u001b[0m         \u001b[0mfont\u001b[0m\u001b[1;33m.\u001b[0m\u001b[0mset_text\u001b[0m\u001b[1;33m(\u001b[0m\u001b[0ms\u001b[0m\u001b[1;33m,\u001b[0m \u001b[1;36m0.0\u001b[0m\u001b[1;33m,\u001b[0m \u001b[0mflags\u001b[0m\u001b[1;33m=\u001b[0m\u001b[0mflags\u001b[0m\u001b[1;33m)\u001b[0m\u001b[1;33m\u001b[0m\u001b[1;33m\u001b[0m\u001b[0m\n\u001b[0;32m    239\u001b[0m         \u001b[0mw\u001b[0m\u001b[1;33m,\u001b[0m \u001b[0mh\u001b[0m \u001b[1;33m=\u001b[0m \u001b[0mfont\u001b[0m\u001b[1;33m.\u001b[0m\u001b[0mget_width_height\u001b[0m\u001b[1;33m(\u001b[0m\u001b[1;33m)\u001b[0m  \u001b[1;31m# width and height of unrotated string\u001b[0m\u001b[1;33m\u001b[0m\u001b[1;33m\u001b[0m\u001b[0m\n",
      "\u001b[1;32m~\\anaconda3\\lib\\site-packages\\matplotlib\\backends\\backend_agg.py\u001b[0m in \u001b[0;36m_get_agg_font\u001b[1;34m(self, prop)\u001b[0m\n\u001b[0;32m    270\u001b[0m         \u001b[0mGet\u001b[0m \u001b[0mthe\u001b[0m \u001b[0mfont\u001b[0m \u001b[1;32mfor\u001b[0m \u001b[0mtext\u001b[0m \u001b[0minstance\u001b[0m \u001b[0mt\u001b[0m\u001b[1;33m,\u001b[0m \u001b[0mcaching\u001b[0m \u001b[1;32mfor\u001b[0m \u001b[0mefficiency\u001b[0m\u001b[1;33m\u001b[0m\u001b[1;33m\u001b[0m\u001b[0m\n\u001b[0;32m    271\u001b[0m         \"\"\"\n\u001b[1;32m--> 272\u001b[1;33m         \u001b[0mfname\u001b[0m \u001b[1;33m=\u001b[0m \u001b[0mfindfont\u001b[0m\u001b[1;33m(\u001b[0m\u001b[0mprop\u001b[0m\u001b[1;33m)\u001b[0m\u001b[1;33m\u001b[0m\u001b[1;33m\u001b[0m\u001b[0m\n\u001b[0m\u001b[0;32m    273\u001b[0m         \u001b[0mfont\u001b[0m \u001b[1;33m=\u001b[0m \u001b[0mget_font\u001b[0m\u001b[1;33m(\u001b[0m\u001b[0mfname\u001b[0m\u001b[1;33m)\u001b[0m\u001b[1;33m\u001b[0m\u001b[1;33m\u001b[0m\u001b[0m\n\u001b[0;32m    274\u001b[0m \u001b[1;33m\u001b[0m\u001b[0m\n",
      "\u001b[1;32m~\\anaconda3\\lib\\site-packages\\matplotlib\\font_manager.py\u001b[0m in \u001b[0;36mfindfont\u001b[1;34m(self, prop, fontext, directory, fallback_to_default, rebuild_if_missing)\u001b[0m\n\u001b[0;32m   1312\u001b[0m             \u001b[0mprop\u001b[0m\u001b[1;33m,\u001b[0m \u001b[0mfontext\u001b[0m\u001b[1;33m,\u001b[0m \u001b[0mdirectory\u001b[0m\u001b[1;33m,\u001b[0m \u001b[0mfallback_to_default\u001b[0m\u001b[1;33m,\u001b[0m \u001b[0mrebuild_if_missing\u001b[0m\u001b[1;33m,\u001b[0m\u001b[1;33m\u001b[0m\u001b[1;33m\u001b[0m\u001b[0m\n\u001b[0;32m   1313\u001b[0m             rc_params)\n\u001b[1;32m-> 1314\u001b[1;33m         \u001b[1;32mreturn\u001b[0m \u001b[0mos\u001b[0m\u001b[1;33m.\u001b[0m\u001b[0mpath\u001b[0m\u001b[1;33m.\u001b[0m\u001b[0mrealpath\u001b[0m\u001b[1;33m(\u001b[0m\u001b[0mfilename\u001b[0m\u001b[1;33m)\u001b[0m\u001b[1;33m\u001b[0m\u001b[1;33m\u001b[0m\u001b[0m\n\u001b[0m\u001b[0;32m   1315\u001b[0m \u001b[1;33m\u001b[0m\u001b[0m\n\u001b[0;32m   1316\u001b[0m     \u001b[1;33m@\u001b[0m\u001b[0mlru_cache\u001b[0m\u001b[1;33m(\u001b[0m\u001b[1;33m)\u001b[0m\u001b[1;33m\u001b[0m\u001b[1;33m\u001b[0m\u001b[0m\n",
      "\u001b[1;32m~\\anaconda3\\lib\\ntpath.py\u001b[0m in \u001b[0;36mrealpath\u001b[1;34m(path)\u001b[0m\n\u001b[0;32m    645\u001b[0m             \u001b[0mpath\u001b[0m \u001b[1;33m=\u001b[0m \u001b[0mjoin\u001b[0m\u001b[1;33m(\u001b[0m\u001b[0mcwd\u001b[0m\u001b[1;33m,\u001b[0m \u001b[0mpath\u001b[0m\u001b[1;33m)\u001b[0m\u001b[1;33m\u001b[0m\u001b[1;33m\u001b[0m\u001b[0m\n\u001b[0;32m    646\u001b[0m         \u001b[1;32mtry\u001b[0m\u001b[1;33m:\u001b[0m\u001b[1;33m\u001b[0m\u001b[1;33m\u001b[0m\u001b[0m\n\u001b[1;32m--> 647\u001b[1;33m             \u001b[0mpath\u001b[0m \u001b[1;33m=\u001b[0m \u001b[0m_getfinalpathname\u001b[0m\u001b[1;33m(\u001b[0m\u001b[0mpath\u001b[0m\u001b[1;33m)\u001b[0m\u001b[1;33m\u001b[0m\u001b[1;33m\u001b[0m\u001b[0m\n\u001b[0m\u001b[0;32m    648\u001b[0m             \u001b[0minitial_winerror\u001b[0m \u001b[1;33m=\u001b[0m \u001b[1;36m0\u001b[0m\u001b[1;33m\u001b[0m\u001b[1;33m\u001b[0m\u001b[0m\n\u001b[0;32m    649\u001b[0m         \u001b[1;32mexcept\u001b[0m \u001b[0mOSError\u001b[0m \u001b[1;32mas\u001b[0m \u001b[0mex\u001b[0m\u001b[1;33m:\u001b[0m\u001b[1;33m\u001b[0m\u001b[1;33m\u001b[0m\u001b[0m\n",
      "\u001b[1;31mKeyboardInterrupt\u001b[0m: "
     ]
    }
   ],
   "source": [
    "def df_bar(df):\n",
    "    \"\"\"\n",
    "    Docs\n",
    "    \"\"\"\n",
    "    sns.set(rc={'figure.figsize':(16,8)})\n",
    "    \n",
    "    for i, col in enumerate(df):\n",
    "        plt.figure(i)\n",
    "        sns.barplot(x = df.index, y = df[col])  \n",
    "        \n",
    "    plt.show()\n",
    "    \n",
    "df_bar(df)"
   ]
  },
  {
   "cell_type": "code",
   "execution_count": 668,
   "metadata": {
    "ExecuteTime": {
     "end_time": "2021-08-02T20:14:32.657791Z",
     "start_time": "2021-08-02T20:14:32.632856Z"
    },
    "scrolled": false
   },
   "outputs": [
    {
     "ename": "AttributeError",
     "evalue": "'dict' object has no attribute 'sample'",
     "output_type": "error",
     "traceback": [
      "\u001b[1;31m---------------------------------------------------------------------------\u001b[0m",
      "\u001b[1;31mAttributeError\u001b[0m                            Traceback (most recent call last)",
      "\u001b[1;32m<ipython-input-668-22f8f1071404>\u001b[0m in \u001b[0;36m<module>\u001b[1;34m\u001b[0m\n\u001b[1;32m----> 1\u001b[1;33m \u001b[1;33m(\u001b[0m\u001b[0mdf\u001b[0m\u001b[1;33m.\u001b[0m\u001b[0msample\u001b[0m\u001b[1;33m(\u001b[0m\u001b[1;36m5\u001b[0m\u001b[1;33m)\u001b[0m\u001b[1;33m)\u001b[0m\u001b[1;33m.\u001b[0m\u001b[0mplot\u001b[0m\u001b[1;33m(\u001b[0m\u001b[0mkind\u001b[0m\u001b[1;33m=\u001b[0m\u001b[1;34m\"line\"\u001b[0m\u001b[1;33m)\u001b[0m\u001b[1;33m\u001b[0m\u001b[1;33m\u001b[0m\u001b[0m\n\u001b[0m\u001b[0;32m      2\u001b[0m \u001b[1;33m(\u001b[0m\u001b[0mdf\u001b[0m\u001b[1;33m.\u001b[0m\u001b[0msample\u001b[0m\u001b[1;33m(\u001b[0m\u001b[1;36m5\u001b[0m\u001b[1;33m)\u001b[0m\u001b[1;33m)\u001b[0m\u001b[1;33m.\u001b[0m\u001b[0mplot\u001b[0m\u001b[1;33m(\u001b[0m\u001b[0mkind\u001b[0m\u001b[1;33m=\u001b[0m\u001b[1;34m\"area\"\u001b[0m\u001b[1;33m)\u001b[0m\u001b[1;33m\u001b[0m\u001b[1;33m\u001b[0m\u001b[0m\n\u001b[0;32m      3\u001b[0m \u001b[1;33m(\u001b[0m\u001b[0mdf\u001b[0m\u001b[1;33m.\u001b[0m\u001b[0msample\u001b[0m\u001b[1;33m(\u001b[0m\u001b[1;36m5\u001b[0m\u001b[1;33m)\u001b[0m\u001b[1;33m)\u001b[0m\u001b[1;33m.\u001b[0m\u001b[0mplot\u001b[0m\u001b[1;33m(\u001b[0m\u001b[0mkind\u001b[0m\u001b[1;33m=\u001b[0m\u001b[1;34m\"hist\"\u001b[0m\u001b[1;33m)\u001b[0m\u001b[1;33m\u001b[0m\u001b[1;33m\u001b[0m\u001b[0m\n\u001b[0;32m      4\u001b[0m \u001b[1;33m(\u001b[0m\u001b[0mdf\u001b[0m\u001b[1;33m.\u001b[0m\u001b[0msample\u001b[0m\u001b[1;33m(\u001b[0m\u001b[1;36m5\u001b[0m\u001b[1;33m)\u001b[0m\u001b[1;33m)\u001b[0m\u001b[1;33m.\u001b[0m\u001b[0mplot\u001b[0m\u001b[1;33m(\u001b[0m\u001b[0mkind\u001b[0m\u001b[1;33m=\u001b[0m\u001b[1;34m\"barh\"\u001b[0m\u001b[1;33m)\u001b[0m\u001b[1;33m\u001b[0m\u001b[1;33m\u001b[0m\u001b[0m\n\u001b[0;32m      5\u001b[0m \u001b[1;33m(\u001b[0m\u001b[0mdf\u001b[0m\u001b[1;33m.\u001b[0m\u001b[0msample\u001b[0m\u001b[1;33m(\u001b[0m\u001b[1;36m5\u001b[0m\u001b[1;33m)\u001b[0m\u001b[1;33m)\u001b[0m\u001b[1;33m.\u001b[0m\u001b[0mplot\u001b[0m\u001b[1;33m(\u001b[0m\u001b[0mkind\u001b[0m\u001b[1;33m=\u001b[0m\u001b[1;34m\"kde\"\u001b[0m\u001b[1;33m)\u001b[0m\u001b[1;33m\u001b[0m\u001b[1;33m\u001b[0m\u001b[0m\n",
      "\u001b[1;31mAttributeError\u001b[0m: 'dict' object has no attribute 'sample'"
     ]
    }
   ],
   "source": [
    "(df.sample(5)).plot(kind=\"line\")\n",
    "(df.sample(5)).plot(kind=\"area\")\n",
    "(df.sample(5)).plot(kind=\"hist\")\n",
    "(df.sample(5)).plot(kind=\"barh\")\n",
    "(df.sample(5)).plot(kind=\"kde\")\n",
    "(df.sample(5)).plot(kind=\"box\")"
   ]
  },
  {
   "cell_type": "code",
   "execution_count": null,
   "metadata": {},
   "outputs": [],
   "source": [
    "from mpl_toolkits.mplot3d import Axes3D\n",
    "from matplotlib import cm\n",
    "\n",
    "# Silly example data\n",
    "X = df.index\n",
    "Y = df[col]\n",
    "X, Y = np.meshgrid(X, Y)\n",
    "R = np.sqrt(X**2 + Y**2)\n",
    "Z = np.sin(R)\n",
    "\n",
    "# Make the plot\n",
    "fig = plt.figure()\n",
    "ax = fig.gca(projection=\"3d\")\n",
    "surf = ax.plot_surface(X, Y, Z, rstride=1, cstride=1, cmap=cm.coolwarm,\n",
    "                       linewidth=0, antialiased=False)\n",
    "ax.set_zlim(-1.01, 1.01)\n",
    "fig.colorbar(surf, shrink=0.5, aspect=5)\n",
    "plt.show()"
   ]
  },
  {
   "cell_type": "code",
   "execution_count": 155,
   "metadata": {
    "ExecuteTime": {
     "end_time": "2021-08-01T17:52:10.350593Z",
     "start_time": "2021-08-01T17:52:10.330214Z"
    }
   },
   "outputs": [],
   "source": [
    "allcities = pd.read_csv('allcities.csv')"
   ]
  },
  {
   "cell_type": "code",
   "execution_count": 294,
   "metadata": {
    "ExecuteTime": {
     "end_time": "2021-08-01T22:03:58.959059Z",
     "start_time": "2021-08-01T22:03:58.939546Z"
    },
    "scrolled": true
   },
   "outputs": [
    {
     "data": {
      "text/plain": [
       "1648"
      ]
     },
     "execution_count": 294,
     "metadata": {},
     "output_type": "execute_result"
    }
   ],
   "source": [
    "len(allcities_list)"
   ]
  },
  {
   "cell_type": "code",
   "execution_count": 259,
   "metadata": {
    "ExecuteTime": {
     "end_time": "2021-08-01T21:48:39.567859Z",
     "start_time": "2021-08-01T21:48:39.557885Z"
    },
    "scrolled": false
   },
   "outputs": [],
   "source": [
    "allcities_list = allcities['cities']"
   ]
  },
  {
   "cell_type": "code",
   "execution_count": 285,
   "metadata": {
    "ExecuteTime": {
     "end_time": "2021-08-01T21:52:00.626142Z",
     "start_time": "2021-08-01T21:52:00.606224Z"
    }
   },
   "outputs": [],
   "source": [
    "random_city = []\n",
    "for i in allcities_list:\n",
    "    random_city.append(allcities_list[randint(1,1647)])"
   ]
  },
  {
   "cell_type": "code",
   "execution_count": 293,
   "metadata": {
    "ExecuteTime": {
     "end_time": "2021-08-01T22:03:22.793505Z",
     "start_time": "2021-08-01T22:03:22.787521Z"
    }
   },
   "outputs": [
    {
     "data": {
      "text/plain": [
       "2000"
      ]
     },
     "execution_count": 293,
     "metadata": {},
     "output_type": "execute_result"
    }
   ],
   "source": [
    "len(random_city)"
   ]
  },
  {
   "cell_type": "code",
   "execution_count": 318,
   "metadata": {
    "ExecuteTime": {
     "end_time": "2021-08-01T22:23:19.517574Z",
     "start_time": "2021-08-01T22:23:19.456273Z"
    }
   },
   "outputs": [],
   "source": [
    "allcities2 = pd.read_csv('allcities2.csv')"
   ]
  },
  {
   "cell_type": "code",
   "execution_count": 319,
   "metadata": {
    "ExecuteTime": {
     "end_time": "2021-08-01T22:23:22.049151Z",
     "start_time": "2021-08-01T22:23:22.009722Z"
    }
   },
   "outputs": [],
   "source": [
    "allcities2['\"city\"'] = allcities2['\"city\"'].str.replace('\"', '')"
   ]
  },
  {
   "cell_type": "code",
   "execution_count": 321,
   "metadata": {
    "ExecuteTime": {
     "end_time": "2021-08-01T22:23:43.767685Z",
     "start_time": "2021-08-01T22:23:43.755540Z"
    }
   },
   "outputs": [],
   "source": [
    "allcities2 = allcities2['\"city\"'] "
   ]
  },
  {
   "cell_type": "code",
   "execution_count": 322,
   "metadata": {
    "ExecuteTime": {
     "end_time": "2021-08-01T22:24:12.694626Z",
     "start_time": "2021-08-01T22:24:12.684168Z"
    }
   },
   "outputs": [],
   "source": [
    "allcities2.columns = ['cities']"
   ]
  },
  {
   "cell_type": "code",
   "execution_count": 325,
   "metadata": {
    "ExecuteTime": {
     "end_time": "2021-08-01T22:25:24.361995Z",
     "start_time": "2021-08-01T22:25:24.349897Z"
    }
   },
   "outputs": [
    {
     "data": {
      "text/plain": [
       "0              Tokyo\n",
       "1            Jakarta\n",
       "2              Delhi\n",
       "3             Mumbai\n",
       "4             Manila\n",
       "            ...     \n",
       "40996         Tukchi\n",
       "40997          Numto\n",
       "40998           Nord\n",
       "40999    Timmiarmiut\n",
       "41000        Nordvik\n",
       "Name: \"city\", Length: 41001, dtype: object"
      ]
     },
     "execution_count": 325,
     "metadata": {},
     "output_type": "execute_result"
    }
   ],
   "source": [
    "allcities2"
   ]
  },
  {
   "cell_type": "code",
   "execution_count": null,
   "metadata": {},
   "outputs": [],
   "source": []
  }
 ],
 "metadata": {
  "hide_input": false,
  "kernelspec": {
   "display_name": "Python 3",
   "language": "python",
   "name": "python3"
  },
  "language_info": {
   "codemirror_mode": {
    "name": "ipython",
    "version": 3
   },
   "file_extension": ".py",
   "mimetype": "text/x-python",
   "name": "python",
   "nbconvert_exporter": "python",
   "pygments_lexer": "ipython3",
   "version": "3.8.5"
  },
  "toc": {
   "base_numbering": 1,
   "nav_menu": {},
   "number_sections": true,
   "sideBar": true,
   "skip_h1_title": false,
   "title_cell": "Table of Contents",
   "title_sidebar": "Contents",
   "toc_cell": false,
   "toc_position": {},
   "toc_section_display": true,
   "toc_window_display": false
  },
  "varInspector": {
   "cols": {
    "lenName": 16,
    "lenType": 16,
    "lenVar": 40
   },
   "kernels_config": {
    "python": {
     "delete_cmd_postfix": "",
     "delete_cmd_prefix": "del ",
     "library": "var_list.py",
     "varRefreshCmd": "print(var_dic_list())"
    },
    "r": {
     "delete_cmd_postfix": ") ",
     "delete_cmd_prefix": "rm(",
     "library": "var_list.r",
     "varRefreshCmd": "cat(var_dic_list()) "
    }
   },
   "types_to_exclude": [
    "module",
    "function",
    "builtin_function_or_method",
    "instance",
    "_Feature"
   ],
   "window_display": false
  }
 },
 "nbformat": 4,
 "nbformat_minor": 4
}
